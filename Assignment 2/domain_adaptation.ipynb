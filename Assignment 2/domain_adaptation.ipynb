{
  "nbformat": 4,
  "nbformat_minor": 0,
  "metadata": {
    "colab": {
      "name": "domain_adaptation.ipynb",
      "provenance": [],
      "collapsed_sections": [],
      "toc_visible": true
    },
    "kernelspec": {
      "name": "python3",
      "display_name": "Python 3"
    },
    "language_info": {
      "name": "python"
    },
    "accelerator": "GPU",
    "widgets": {
      "application/vnd.jupyter.widget-state+json": {
<<<<<<< HEAD
        "2d6348ce605f4ccf95c13078acd71fae": {
=======
        "3be980d623cb456db5471cbc04dd79ba": {
>>>>>>> b4ba64658fecc98da882c570695b641aa6a87bad
          "model_module": "@jupyter-widgets/controls",
          "model_name": "HBoxModel",
          "model_module_version": "1.5.0",
          "state": {
            "_dom_classes": [],
            "_model_module": "@jupyter-widgets/controls",
            "_model_module_version": "1.5.0",
            "_model_name": "HBoxModel",
            "_view_count": null,
            "_view_module": "@jupyter-widgets/controls",
            "_view_module_version": "1.5.0",
            "_view_name": "HBoxView",
            "box_style": "",
            "children": [
<<<<<<< HEAD
              "IPY_MODEL_0249ff05e66f463e8f76f7bc5a6081eb",
              "IPY_MODEL_f104a45e8ede489aa6932d9c2ddf69e3",
              "IPY_MODEL_f013f5afd2ef4fcf9ae6c26f4ae98a2c"
            ],
            "layout": "IPY_MODEL_11a3f0bdb9dd48eba8deeb751ca356e8"
          }
        },
        "0249ff05e66f463e8f76f7bc5a6081eb": {
=======
              "IPY_MODEL_ce3edd054390461383cb0a384d2afbd8",
              "IPY_MODEL_68879a7f5d6f49efa9b0cbcc14f0a598",
              "IPY_MODEL_da812fe8d16049cb90c50c898bcc37fc"
            ],
            "layout": "IPY_MODEL_82dd9ed9bbae4794b53f31687d1f956a"
          }
        },
        "ce3edd054390461383cb0a384d2afbd8": {
>>>>>>> b4ba64658fecc98da882c570695b641aa6a87bad
          "model_module": "@jupyter-widgets/controls",
          "model_name": "HTMLModel",
          "model_module_version": "1.5.0",
          "state": {
            "_dom_classes": [],
            "_model_module": "@jupyter-widgets/controls",
            "_model_module_version": "1.5.0",
            "_model_name": "HTMLModel",
            "_view_count": null,
            "_view_module": "@jupyter-widgets/controls",
            "_view_module_version": "1.5.0",
            "_view_name": "HTMLView",
            "description": "",
            "description_tooltip": null,
<<<<<<< HEAD
            "layout": "IPY_MODEL_03b6690112884f769154b0fbda1fa99e",
            "placeholder": "​",
            "style": "IPY_MODEL_b03a0e92aa604c80bddacb10110dad98",
            "value": "Downloading: 100%"
          }
        },
        "f104a45e8ede489aa6932d9c2ddf69e3": {
=======
            "layout": "IPY_MODEL_a9515b552b7240a3a68b7283be58b2c3",
            "placeholder": "​",
            "style": "IPY_MODEL_09336cb94589427fb71cde75387ffd6c",
            "value": "Downloading: 100%"
          }
        },
        "68879a7f5d6f49efa9b0cbcc14f0a598": {
>>>>>>> b4ba64658fecc98da882c570695b641aa6a87bad
          "model_module": "@jupyter-widgets/controls",
          "model_name": "FloatProgressModel",
          "model_module_version": "1.5.0",
          "state": {
            "_dom_classes": [],
            "_model_module": "@jupyter-widgets/controls",
            "_model_module_version": "1.5.0",
            "_model_name": "FloatProgressModel",
            "_view_count": null,
            "_view_module": "@jupyter-widgets/controls",
            "_view_module_version": "1.5.0",
            "_view_name": "ProgressView",
            "bar_style": "success",
            "description": "",
            "description_tooltip": null,
<<<<<<< HEAD
            "layout": "IPY_MODEL_4b151282feda4f26a0f5444285866fd4",
            "max": 647,
            "min": 0,
            "orientation": "horizontal",
            "style": "IPY_MODEL_6f954ae7d62e4593b85496ddcd0d8faa",
            "value": 647
          }
        },
        "f013f5afd2ef4fcf9ae6c26f4ae98a2c": {
=======
            "layout": "IPY_MODEL_101d65858f834d35b5e4f05b30feab97",
            "max": 647,
            "min": 0,
            "orientation": "horizontal",
            "style": "IPY_MODEL_2625212b33774f818000afdcf1f2692b",
            "value": 647
          }
        },
        "da812fe8d16049cb90c50c898bcc37fc": {
>>>>>>> b4ba64658fecc98da882c570695b641aa6a87bad
          "model_module": "@jupyter-widgets/controls",
          "model_name": "HTMLModel",
          "model_module_version": "1.5.0",
          "state": {
            "_dom_classes": [],
            "_model_module": "@jupyter-widgets/controls",
            "_model_module_version": "1.5.0",
            "_model_name": "HTMLModel",
            "_view_count": null,
            "_view_module": "@jupyter-widgets/controls",
            "_view_module_version": "1.5.0",
            "_view_name": "HTMLView",
            "description": "",
            "description_tooltip": null,
<<<<<<< HEAD
            "layout": "IPY_MODEL_9859e090396b4f3e92bbf1717f0050c5",
            "placeholder": "​",
            "style": "IPY_MODEL_114c5d75300440b2b773595c636d1c35",
            "value": " 647/647 [00:00&lt;00:00, 5.61kB/s]"
          }
        },
        "11a3f0bdb9dd48eba8deeb751ca356e8": {
=======
            "layout": "IPY_MODEL_91daa23e75af46efa8bf2302d311b023",
            "placeholder": "​",
            "style": "IPY_MODEL_46164f24919045f08e834dbcd12dcaa5",
            "value": " 647/647 [00:00&lt;00:00, 10.4kB/s]"
          }
        },
        "82dd9ed9bbae4794b53f31687d1f956a": {
>>>>>>> b4ba64658fecc98da882c570695b641aa6a87bad
          "model_module": "@jupyter-widgets/base",
          "model_name": "LayoutModel",
          "model_module_version": "1.2.0",
          "state": {
            "_model_module": "@jupyter-widgets/base",
            "_model_module_version": "1.2.0",
            "_model_name": "LayoutModel",
            "_view_count": null,
            "_view_module": "@jupyter-widgets/base",
            "_view_module_version": "1.2.0",
            "_view_name": "LayoutView",
            "align_content": null,
            "align_items": null,
            "align_self": null,
            "border": null,
            "bottom": null,
            "display": null,
            "flex": null,
            "flex_flow": null,
            "grid_area": null,
            "grid_auto_columns": null,
            "grid_auto_flow": null,
            "grid_auto_rows": null,
            "grid_column": null,
            "grid_gap": null,
            "grid_row": null,
            "grid_template_areas": null,
            "grid_template_columns": null,
            "grid_template_rows": null,
            "height": null,
            "justify_content": null,
            "justify_items": null,
            "left": null,
            "margin": null,
            "max_height": null,
            "max_width": null,
            "min_height": null,
            "min_width": null,
            "object_fit": null,
            "object_position": null,
            "order": null,
            "overflow": null,
            "overflow_x": null,
            "overflow_y": null,
            "padding": null,
            "right": null,
            "top": null,
            "visibility": null,
            "width": null
          }
        },
<<<<<<< HEAD
        "03b6690112884f769154b0fbda1fa99e": {
=======
        "a9515b552b7240a3a68b7283be58b2c3": {
>>>>>>> b4ba64658fecc98da882c570695b641aa6a87bad
          "model_module": "@jupyter-widgets/base",
          "model_name": "LayoutModel",
          "model_module_version": "1.2.0",
          "state": {
            "_model_module": "@jupyter-widgets/base",
            "_model_module_version": "1.2.0",
            "_model_name": "LayoutModel",
            "_view_count": null,
            "_view_module": "@jupyter-widgets/base",
            "_view_module_version": "1.2.0",
            "_view_name": "LayoutView",
            "align_content": null,
            "align_items": null,
            "align_self": null,
            "border": null,
            "bottom": null,
            "display": null,
            "flex": null,
            "flex_flow": null,
            "grid_area": null,
            "grid_auto_columns": null,
            "grid_auto_flow": null,
            "grid_auto_rows": null,
            "grid_column": null,
            "grid_gap": null,
            "grid_row": null,
            "grid_template_areas": null,
            "grid_template_columns": null,
            "grid_template_rows": null,
            "height": null,
            "justify_content": null,
            "justify_items": null,
            "left": null,
            "margin": null,
            "max_height": null,
            "max_width": null,
            "min_height": null,
            "min_width": null,
            "object_fit": null,
            "object_position": null,
            "order": null,
            "overflow": null,
            "overflow_x": null,
            "overflow_y": null,
            "padding": null,
            "right": null,
            "top": null,
            "visibility": null,
            "width": null
          }
        },
<<<<<<< HEAD
        "b03a0e92aa604c80bddacb10110dad98": {
=======
        "09336cb94589427fb71cde75387ffd6c": {
>>>>>>> b4ba64658fecc98da882c570695b641aa6a87bad
          "model_module": "@jupyter-widgets/controls",
          "model_name": "DescriptionStyleModel",
          "model_module_version": "1.5.0",
          "state": {
            "_model_module": "@jupyter-widgets/controls",
            "_model_module_version": "1.5.0",
            "_model_name": "DescriptionStyleModel",
            "_view_count": null,
            "_view_module": "@jupyter-widgets/base",
            "_view_module_version": "1.2.0",
            "_view_name": "StyleView",
            "description_width": ""
          }
        },
<<<<<<< HEAD
        "4b151282feda4f26a0f5444285866fd4": {
=======
        "101d65858f834d35b5e4f05b30feab97": {
>>>>>>> b4ba64658fecc98da882c570695b641aa6a87bad
          "model_module": "@jupyter-widgets/base",
          "model_name": "LayoutModel",
          "model_module_version": "1.2.0",
          "state": {
            "_model_module": "@jupyter-widgets/base",
            "_model_module_version": "1.2.0",
            "_model_name": "LayoutModel",
            "_view_count": null,
            "_view_module": "@jupyter-widgets/base",
            "_view_module_version": "1.2.0",
            "_view_name": "LayoutView",
            "align_content": null,
            "align_items": null,
            "align_self": null,
            "border": null,
            "bottom": null,
            "display": null,
            "flex": null,
            "flex_flow": null,
            "grid_area": null,
            "grid_auto_columns": null,
            "grid_auto_flow": null,
            "grid_auto_rows": null,
            "grid_column": null,
            "grid_gap": null,
            "grid_row": null,
            "grid_template_areas": null,
            "grid_template_columns": null,
            "grid_template_rows": null,
            "height": null,
            "justify_content": null,
            "justify_items": null,
            "left": null,
            "margin": null,
            "max_height": null,
            "max_width": null,
            "min_height": null,
            "min_width": null,
            "object_fit": null,
            "object_position": null,
            "order": null,
            "overflow": null,
            "overflow_x": null,
            "overflow_y": null,
            "padding": null,
            "right": null,
            "top": null,
            "visibility": null,
            "width": null
          }
        },
<<<<<<< HEAD
        "6f954ae7d62e4593b85496ddcd0d8faa": {
=======
        "2625212b33774f818000afdcf1f2692b": {
>>>>>>> b4ba64658fecc98da882c570695b641aa6a87bad
          "model_module": "@jupyter-widgets/controls",
          "model_name": "ProgressStyleModel",
          "model_module_version": "1.5.0",
          "state": {
            "_model_module": "@jupyter-widgets/controls",
            "_model_module_version": "1.5.0",
            "_model_name": "ProgressStyleModel",
            "_view_count": null,
            "_view_module": "@jupyter-widgets/base",
            "_view_module_version": "1.2.0",
            "_view_name": "StyleView",
            "bar_color": null,
            "description_width": ""
          }
        },
<<<<<<< HEAD
        "9859e090396b4f3e92bbf1717f0050c5": {
=======
        "91daa23e75af46efa8bf2302d311b023": {
>>>>>>> b4ba64658fecc98da882c570695b641aa6a87bad
          "model_module": "@jupyter-widgets/base",
          "model_name": "LayoutModel",
          "model_module_version": "1.2.0",
          "state": {
            "_model_module": "@jupyter-widgets/base",
            "_model_module_version": "1.2.0",
            "_model_name": "LayoutModel",
            "_view_count": null,
            "_view_module": "@jupyter-widgets/base",
            "_view_module_version": "1.2.0",
            "_view_name": "LayoutView",
            "align_content": null,
            "align_items": null,
            "align_self": null,
            "border": null,
            "bottom": null,
            "display": null,
            "flex": null,
            "flex_flow": null,
            "grid_area": null,
            "grid_auto_columns": null,
            "grid_auto_flow": null,
            "grid_auto_rows": null,
            "grid_column": null,
            "grid_gap": null,
            "grid_row": null,
            "grid_template_areas": null,
            "grid_template_columns": null,
            "grid_template_rows": null,
            "height": null,
            "justify_content": null,
            "justify_items": null,
            "left": null,
            "margin": null,
            "max_height": null,
            "max_width": null,
            "min_height": null,
            "min_width": null,
            "object_fit": null,
            "object_position": null,
            "order": null,
            "overflow": null,
            "overflow_x": null,
            "overflow_y": null,
            "padding": null,
            "right": null,
            "top": null,
            "visibility": null,
            "width": null
          }
        },
<<<<<<< HEAD
        "114c5d75300440b2b773595c636d1c35": {
=======
        "46164f24919045f08e834dbcd12dcaa5": {
>>>>>>> b4ba64658fecc98da882c570695b641aa6a87bad
          "model_module": "@jupyter-widgets/controls",
          "model_name": "DescriptionStyleModel",
          "model_module_version": "1.5.0",
          "state": {
            "_model_module": "@jupyter-widgets/controls",
            "_model_module_version": "1.5.0",
            "_model_name": "DescriptionStyleModel",
            "_view_count": null,
            "_view_module": "@jupyter-widgets/base",
            "_view_module_version": "1.2.0",
            "_view_name": "StyleView",
            "description_width": ""
          }
        },
<<<<<<< HEAD
        "af0024ad37704b2e8d6a3895dc2b6c89": {
=======
        "17de3b1ad3e8491eb1192bc88e6135fa": {
>>>>>>> b4ba64658fecc98da882c570695b641aa6a87bad
          "model_module": "@jupyter-widgets/controls",
          "model_name": "HBoxModel",
          "model_module_version": "1.5.0",
          "state": {
            "_dom_classes": [],
            "_model_module": "@jupyter-widgets/controls",
            "_model_module_version": "1.5.0",
            "_model_name": "HBoxModel",
            "_view_count": null,
            "_view_module": "@jupyter-widgets/controls",
            "_view_module_version": "1.5.0",
            "_view_name": "HBoxView",
            "box_style": "",
            "children": [
<<<<<<< HEAD
              "IPY_MODEL_cce481eaa2984ecdb3cc0be191d43dc4",
              "IPY_MODEL_c7919c233253457dbb31d839c55c7145",
              "IPY_MODEL_c4526e61f64c46cf844c3e8b2dde8b4d"
            ],
            "layout": "IPY_MODEL_416a98c46e97456b91d82649fb9c1147"
          }
        },
        "cce481eaa2984ecdb3cc0be191d43dc4": {
=======
              "IPY_MODEL_c9dfef6e0d1c47bdad1cbe7390ceaac1",
              "IPY_MODEL_b1a3e0c0d527499b946ce0e83e063991",
              "IPY_MODEL_7624fc514f3c4ad0a202a5191debaa78"
            ],
            "layout": "IPY_MODEL_44386c9044b0424fb0a5cda66a20864b"
          }
        },
        "c9dfef6e0d1c47bdad1cbe7390ceaac1": {
>>>>>>> b4ba64658fecc98da882c570695b641aa6a87bad
          "model_module": "@jupyter-widgets/controls",
          "model_name": "HTMLModel",
          "model_module_version": "1.5.0",
          "state": {
            "_dom_classes": [],
            "_model_module": "@jupyter-widgets/controls",
            "_model_module_version": "1.5.0",
            "_model_name": "HTMLModel",
            "_view_count": null,
            "_view_module": "@jupyter-widgets/controls",
            "_view_module_version": "1.5.0",
            "_view_name": "HTMLView",
            "description": "",
            "description_tooltip": null,
<<<<<<< HEAD
            "layout": "IPY_MODEL_7233fecc90574f6490b01d4d8b9ce75e",
            "placeholder": "​",
            "style": "IPY_MODEL_d0fc25819ef84c7ea8cab3857d10aec2",
            "value": "Downloading: 100%"
          }
        },
        "c7919c233253457dbb31d839c55c7145": {
=======
            "layout": "IPY_MODEL_5cf72444377847e595b25d86695bc64e",
            "placeholder": "​",
            "style": "IPY_MODEL_d4355326b91045f38d24f2f3b34673c1",
            "value": "Downloading: 100%"
          }
        },
        "b1a3e0c0d527499b946ce0e83e063991": {
>>>>>>> b4ba64658fecc98da882c570695b641aa6a87bad
          "model_module": "@jupyter-widgets/controls",
          "model_name": "FloatProgressModel",
          "model_module_version": "1.5.0",
          "state": {
            "_dom_classes": [],
            "_model_module": "@jupyter-widgets/controls",
            "_model_module_version": "1.5.0",
            "_model_name": "FloatProgressModel",
            "_view_count": null,
            "_view_module": "@jupyter-widgets/controls",
            "_view_module_version": "1.5.0",
            "_view_name": "ProgressView",
            "bar_style": "success",
            "description": "",
            "description_tooltip": null,
<<<<<<< HEAD
            "layout": "IPY_MODEL_703a0681bb314cb9b7a3299ae338ffb6",
            "max": 438235074,
            "min": 0,
            "orientation": "horizontal",
            "style": "IPY_MODEL_6d5de0f3a86340359eb2c5f412cb242c",
            "value": 438235074
          }
        },
        "c4526e61f64c46cf844c3e8b2dde8b4d": {
=======
            "layout": "IPY_MODEL_a9133b8ce1a846b1bd8a067901f3a473",
            "max": 438235074,
            "min": 0,
            "orientation": "horizontal",
            "style": "IPY_MODEL_79d956b9063745a097e335be91d2e696",
            "value": 438235074
          }
        },
        "7624fc514f3c4ad0a202a5191debaa78": {
>>>>>>> b4ba64658fecc98da882c570695b641aa6a87bad
          "model_module": "@jupyter-widgets/controls",
          "model_name": "HTMLModel",
          "model_module_version": "1.5.0",
          "state": {
            "_dom_classes": [],
            "_model_module": "@jupyter-widgets/controls",
            "_model_module_version": "1.5.0",
            "_model_name": "HTMLModel",
            "_view_count": null,
            "_view_module": "@jupyter-widgets/controls",
            "_view_module_version": "1.5.0",
            "_view_name": "HTMLView",
            "description": "",
            "description_tooltip": null,
<<<<<<< HEAD
            "layout": "IPY_MODEL_c53d7d3adaa04123965c7bde6b112bce",
            "placeholder": "​",
            "style": "IPY_MODEL_4358361835dd4a1e8073bc9dc0b4315c",
            "value": " 418M/418M [00:10&lt;00:00, 49.8MB/s]"
          }
        },
        "416a98c46e97456b91d82649fb9c1147": {
=======
            "layout": "IPY_MODEL_fbc3b4f7b22e410a91d849598db0a6c3",
            "placeholder": "​",
            "style": "IPY_MODEL_d2fd2ff45e9a47eb929f371bb371a5ce",
            "value": " 418M/418M [00:08&lt;00:00, 52.6MB/s]"
          }
        },
        "44386c9044b0424fb0a5cda66a20864b": {
>>>>>>> b4ba64658fecc98da882c570695b641aa6a87bad
          "model_module": "@jupyter-widgets/base",
          "model_name": "LayoutModel",
          "model_module_version": "1.2.0",
          "state": {
            "_model_module": "@jupyter-widgets/base",
            "_model_module_version": "1.2.0",
            "_model_name": "LayoutModel",
            "_view_count": null,
            "_view_module": "@jupyter-widgets/base",
            "_view_module_version": "1.2.0",
            "_view_name": "LayoutView",
            "align_content": null,
            "align_items": null,
            "align_self": null,
            "border": null,
            "bottom": null,
            "display": null,
            "flex": null,
            "flex_flow": null,
            "grid_area": null,
            "grid_auto_columns": null,
            "grid_auto_flow": null,
            "grid_auto_rows": null,
            "grid_column": null,
            "grid_gap": null,
            "grid_row": null,
            "grid_template_areas": null,
            "grid_template_columns": null,
            "grid_template_rows": null,
            "height": null,
            "justify_content": null,
            "justify_items": null,
            "left": null,
            "margin": null,
            "max_height": null,
            "max_width": null,
            "min_height": null,
            "min_width": null,
            "object_fit": null,
            "object_position": null,
            "order": null,
            "overflow": null,
            "overflow_x": null,
            "overflow_y": null,
            "padding": null,
            "right": null,
            "top": null,
            "visibility": null,
            "width": null
          }
        },
<<<<<<< HEAD
        "7233fecc90574f6490b01d4d8b9ce75e": {
=======
        "5cf72444377847e595b25d86695bc64e": {
>>>>>>> b4ba64658fecc98da882c570695b641aa6a87bad
          "model_module": "@jupyter-widgets/base",
          "model_name": "LayoutModel",
          "model_module_version": "1.2.0",
          "state": {
            "_model_module": "@jupyter-widgets/base",
            "_model_module_version": "1.2.0",
            "_model_name": "LayoutModel",
            "_view_count": null,
            "_view_module": "@jupyter-widgets/base",
            "_view_module_version": "1.2.0",
            "_view_name": "LayoutView",
            "align_content": null,
            "align_items": null,
            "align_self": null,
            "border": null,
            "bottom": null,
            "display": null,
            "flex": null,
            "flex_flow": null,
            "grid_area": null,
            "grid_auto_columns": null,
            "grid_auto_flow": null,
            "grid_auto_rows": null,
            "grid_column": null,
            "grid_gap": null,
            "grid_row": null,
            "grid_template_areas": null,
            "grid_template_columns": null,
            "grid_template_rows": null,
            "height": null,
            "justify_content": null,
            "justify_items": null,
            "left": null,
            "margin": null,
            "max_height": null,
            "max_width": null,
            "min_height": null,
            "min_width": null,
            "object_fit": null,
            "object_position": null,
            "order": null,
            "overflow": null,
            "overflow_x": null,
            "overflow_y": null,
            "padding": null,
            "right": null,
            "top": null,
            "visibility": null,
            "width": null
          }
        },
<<<<<<< HEAD
        "d0fc25819ef84c7ea8cab3857d10aec2": {
=======
        "d4355326b91045f38d24f2f3b34673c1": {
>>>>>>> b4ba64658fecc98da882c570695b641aa6a87bad
          "model_module": "@jupyter-widgets/controls",
          "model_name": "DescriptionStyleModel",
          "model_module_version": "1.5.0",
          "state": {
            "_model_module": "@jupyter-widgets/controls",
            "_model_module_version": "1.5.0",
            "_model_name": "DescriptionStyleModel",
            "_view_count": null,
            "_view_module": "@jupyter-widgets/base",
            "_view_module_version": "1.2.0",
            "_view_name": "StyleView",
            "description_width": ""
          }
        },
<<<<<<< HEAD
        "703a0681bb314cb9b7a3299ae338ffb6": {
=======
        "a9133b8ce1a846b1bd8a067901f3a473": {
>>>>>>> b4ba64658fecc98da882c570695b641aa6a87bad
          "model_module": "@jupyter-widgets/base",
          "model_name": "LayoutModel",
          "model_module_version": "1.2.0",
          "state": {
            "_model_module": "@jupyter-widgets/base",
            "_model_module_version": "1.2.0",
            "_model_name": "LayoutModel",
            "_view_count": null,
            "_view_module": "@jupyter-widgets/base",
            "_view_module_version": "1.2.0",
            "_view_name": "LayoutView",
            "align_content": null,
            "align_items": null,
            "align_self": null,
            "border": null,
            "bottom": null,
            "display": null,
            "flex": null,
            "flex_flow": null,
            "grid_area": null,
            "grid_auto_columns": null,
            "grid_auto_flow": null,
            "grid_auto_rows": null,
            "grid_column": null,
            "grid_gap": null,
            "grid_row": null,
            "grid_template_areas": null,
            "grid_template_columns": null,
            "grid_template_rows": null,
            "height": null,
            "justify_content": null,
            "justify_items": null,
            "left": null,
            "margin": null,
            "max_height": null,
            "max_width": null,
            "min_height": null,
            "min_width": null,
            "object_fit": null,
            "object_position": null,
            "order": null,
            "overflow": null,
            "overflow_x": null,
            "overflow_y": null,
            "padding": null,
            "right": null,
            "top": null,
            "visibility": null,
            "width": null
          }
        },
<<<<<<< HEAD
        "6d5de0f3a86340359eb2c5f412cb242c": {
=======
        "79d956b9063745a097e335be91d2e696": {
>>>>>>> b4ba64658fecc98da882c570695b641aa6a87bad
          "model_module": "@jupyter-widgets/controls",
          "model_name": "ProgressStyleModel",
          "model_module_version": "1.5.0",
          "state": {
            "_model_module": "@jupyter-widgets/controls",
            "_model_module_version": "1.5.0",
            "_model_name": "ProgressStyleModel",
            "_view_count": null,
            "_view_module": "@jupyter-widgets/base",
            "_view_module_version": "1.2.0",
            "_view_name": "StyleView",
            "bar_color": null,
            "description_width": ""
          }
        },
<<<<<<< HEAD
        "c53d7d3adaa04123965c7bde6b112bce": {
=======
        "fbc3b4f7b22e410a91d849598db0a6c3": {
>>>>>>> b4ba64658fecc98da882c570695b641aa6a87bad
          "model_module": "@jupyter-widgets/base",
          "model_name": "LayoutModel",
          "model_module_version": "1.2.0",
          "state": {
            "_model_module": "@jupyter-widgets/base",
            "_model_module_version": "1.2.0",
            "_model_name": "LayoutModel",
            "_view_count": null,
            "_view_module": "@jupyter-widgets/base",
            "_view_module_version": "1.2.0",
            "_view_name": "LayoutView",
            "align_content": null,
            "align_items": null,
            "align_self": null,
            "border": null,
            "bottom": null,
            "display": null,
            "flex": null,
            "flex_flow": null,
            "grid_area": null,
            "grid_auto_columns": null,
            "grid_auto_flow": null,
            "grid_auto_rows": null,
            "grid_column": null,
            "grid_gap": null,
            "grid_row": null,
            "grid_template_areas": null,
            "grid_template_columns": null,
            "grid_template_rows": null,
            "height": null,
            "justify_content": null,
            "justify_items": null,
            "left": null,
            "margin": null,
            "max_height": null,
            "max_width": null,
            "min_height": null,
            "min_width": null,
            "object_fit": null,
            "object_position": null,
            "order": null,
            "overflow": null,
            "overflow_x": null,
            "overflow_y": null,
            "padding": null,
            "right": null,
            "top": null,
            "visibility": null,
            "width": null
          }
        },
<<<<<<< HEAD
        "4358361835dd4a1e8073bc9dc0b4315c": {
=======
        "d2fd2ff45e9a47eb929f371bb371a5ce": {
>>>>>>> b4ba64658fecc98da882c570695b641aa6a87bad
          "model_module": "@jupyter-widgets/controls",
          "model_name": "DescriptionStyleModel",
          "model_module_version": "1.5.0",
          "state": {
            "_model_module": "@jupyter-widgets/controls",
            "_model_module_version": "1.5.0",
            "_model_name": "DescriptionStyleModel",
            "_view_count": null,
            "_view_module": "@jupyter-widgets/base",
            "_view_module_version": "1.2.0",
            "_view_name": "StyleView",
            "description_width": ""
          }
        },
<<<<<<< HEAD
        "0f4cecd0f0fd4e3ebf733baa8c1bbc0e": {
=======
        "22ce97b557114532867af7a113a3504a": {
>>>>>>> b4ba64658fecc98da882c570695b641aa6a87bad
          "model_module": "@jupyter-widgets/controls",
          "model_name": "HBoxModel",
          "model_module_version": "1.5.0",
          "state": {
            "_dom_classes": [],
            "_model_module": "@jupyter-widgets/controls",
            "_model_module_version": "1.5.0",
            "_model_name": "HBoxModel",
            "_view_count": null,
            "_view_module": "@jupyter-widgets/controls",
            "_view_module_version": "1.5.0",
            "_view_name": "HBoxView",
            "box_style": "",
            "children": [
<<<<<<< HEAD
              "IPY_MODEL_4462cced08c94de7a3fc3efb989e5286",
              "IPY_MODEL_bec88e813cdc421da4ccb57b39b74192",
              "IPY_MODEL_8862fe376a19465bb5f2751d9cb16473"
            ],
            "layout": "IPY_MODEL_2fd0a8ea80b9478d9bc8f9a71491e8c5"
          }
        },
        "4462cced08c94de7a3fc3efb989e5286": {
=======
              "IPY_MODEL_71e8502394c54699aec99fa53745b544",
              "IPY_MODEL_f54c68c89a8d4e7599c147977a320959",
              "IPY_MODEL_3831cd2df11546ba935bd34e5e89ae18"
            ],
            "layout": "IPY_MODEL_5fd33f6e45b743d381d503473522a83f"
          }
        },
        "71e8502394c54699aec99fa53745b544": {
>>>>>>> b4ba64658fecc98da882c570695b641aa6a87bad
          "model_module": "@jupyter-widgets/controls",
          "model_name": "HTMLModel",
          "model_module_version": "1.5.0",
          "state": {
            "_dom_classes": [],
            "_model_module": "@jupyter-widgets/controls",
            "_model_module_version": "1.5.0",
            "_model_name": "HTMLModel",
            "_view_count": null,
            "_view_module": "@jupyter-widgets/controls",
            "_view_module_version": "1.5.0",
            "_view_name": "HTMLView",
            "description": "",
            "description_tooltip": null,
<<<<<<< HEAD
            "layout": "IPY_MODEL_560a26e95df64c09aa941b0fa4550e15",
            "placeholder": "​",
            "style": "IPY_MODEL_022bf045a36b41c0ac34bd9d47f93e40",
            "value": "Downloading: 100%"
          }
        },
        "bec88e813cdc421da4ccb57b39b74192": {
=======
            "layout": "IPY_MODEL_c097d2088efe4a94859f70650147323a",
            "placeholder": "​",
            "style": "IPY_MODEL_0fcb93f16bcc4a429aa5502e21afeb18",
            "value": "100%"
          }
        },
        "f54c68c89a8d4e7599c147977a320959": {
>>>>>>> b4ba64658fecc98da882c570695b641aa6a87bad
          "model_module": "@jupyter-widgets/controls",
          "model_name": "FloatProgressModel",
          "model_module_version": "1.5.0",
          "state": {
            "_dom_classes": [],
            "_model_module": "@jupyter-widgets/controls",
            "_model_module_version": "1.5.0",
            "_model_name": "FloatProgressModel",
            "_view_count": null,
            "_view_module": "@jupyter-widgets/controls",
            "_view_module_version": "1.5.0",
            "_view_name": "ProgressView",
            "bar_style": "success",
            "description": "",
            "description_tooltip": null,
<<<<<<< HEAD
            "layout": "IPY_MODEL_9c3fbcbb3691490390466472eb61b0a9",
            "max": 43,
            "min": 0,
            "orientation": "horizontal",
            "style": "IPY_MODEL_696ffe33a26d4cb1acc1f22931967256",
            "value": 43
          }
        },
        "8862fe376a19465bb5f2751d9cb16473": {
=======
            "layout": "IPY_MODEL_33297b198d024e1e9149be9e6ed8ef50",
            "max": 1,
            "min": 0,
            "orientation": "horizontal",
            "style": "IPY_MODEL_b019ec54512646b78ac2263a048711a5",
            "value": 1
          }
        },
        "3831cd2df11546ba935bd34e5e89ae18": {
>>>>>>> b4ba64658fecc98da882c570695b641aa6a87bad
          "model_module": "@jupyter-widgets/controls",
          "model_name": "HTMLModel",
          "model_module_version": "1.5.0",
          "state": {
            "_dom_classes": [],
            "_model_module": "@jupyter-widgets/controls",
            "_model_module_version": "1.5.0",
            "_model_name": "HTMLModel",
            "_view_count": null,
            "_view_module": "@jupyter-widgets/controls",
            "_view_module_version": "1.5.0",
            "_view_name": "HTMLView",
            "description": "",
            "description_tooltip": null,
<<<<<<< HEAD
            "layout": "IPY_MODEL_a363321e238c4db485215e8ec1d67aed",
            "placeholder": "​",
            "style": "IPY_MODEL_433783611c9b41a3b4dfed2effbcf62c",
            "value": " 43.0/43.0 [00:00&lt;00:00, 854B/s]"
          }
        },
        "2fd0a8ea80b9478d9bc8f9a71491e8c5": {
=======
            "layout": "IPY_MODEL_ba9165205e804f9aac35b794cd8c0c0a",
            "placeholder": "​",
            "style": "IPY_MODEL_db1729b7e67340a3ae249c485c5405a7",
            "value": " 1/1 [00:00&lt;00:00,  1.40ba/s]"
          }
        },
        "5fd33f6e45b743d381d503473522a83f": {
>>>>>>> b4ba64658fecc98da882c570695b641aa6a87bad
          "model_module": "@jupyter-widgets/base",
          "model_name": "LayoutModel",
          "model_module_version": "1.2.0",
          "state": {
            "_model_module": "@jupyter-widgets/base",
            "_model_module_version": "1.2.0",
            "_model_name": "LayoutModel",
            "_view_count": null,
            "_view_module": "@jupyter-widgets/base",
            "_view_module_version": "1.2.0",
            "_view_name": "LayoutView",
            "align_content": null,
            "align_items": null,
            "align_self": null,
            "border": null,
            "bottom": null,
            "display": null,
            "flex": null,
            "flex_flow": null,
            "grid_area": null,
            "grid_auto_columns": null,
            "grid_auto_flow": null,
            "grid_auto_rows": null,
            "grid_column": null,
            "grid_gap": null,
            "grid_row": null,
            "grid_template_areas": null,
            "grid_template_columns": null,
            "grid_template_rows": null,
            "height": null,
            "justify_content": null,
            "justify_items": null,
            "left": null,
            "margin": null,
            "max_height": null,
            "max_width": null,
            "min_height": null,
            "min_width": null,
            "object_fit": null,
            "object_position": null,
            "order": null,
            "overflow": null,
            "overflow_x": null,
            "overflow_y": null,
            "padding": null,
            "right": null,
            "top": null,
            "visibility": null,
            "width": null
          }
        },
<<<<<<< HEAD
        "560a26e95df64c09aa941b0fa4550e15": {
=======
        "c097d2088efe4a94859f70650147323a": {
>>>>>>> b4ba64658fecc98da882c570695b641aa6a87bad
          "model_module": "@jupyter-widgets/base",
          "model_name": "LayoutModel",
          "model_module_version": "1.2.0",
          "state": {
            "_model_module": "@jupyter-widgets/base",
            "_model_module_version": "1.2.0",
            "_model_name": "LayoutModel",
            "_view_count": null,
            "_view_module": "@jupyter-widgets/base",
            "_view_module_version": "1.2.0",
            "_view_name": "LayoutView",
            "align_content": null,
            "align_items": null,
            "align_self": null,
            "border": null,
            "bottom": null,
            "display": null,
            "flex": null,
            "flex_flow": null,
            "grid_area": null,
            "grid_auto_columns": null,
            "grid_auto_flow": null,
            "grid_auto_rows": null,
            "grid_column": null,
            "grid_gap": null,
            "grid_row": null,
            "grid_template_areas": null,
            "grid_template_columns": null,
            "grid_template_rows": null,
            "height": null,
            "justify_content": null,
            "justify_items": null,
            "left": null,
            "margin": null,
            "max_height": null,
            "max_width": null,
            "min_height": null,
            "min_width": null,
            "object_fit": null,
            "object_position": null,
            "order": null,
            "overflow": null,
            "overflow_x": null,
            "overflow_y": null,
            "padding": null,
            "right": null,
            "top": null,
            "visibility": null,
            "width": null
          }
        },
<<<<<<< HEAD
        "022bf045a36b41c0ac34bd9d47f93e40": {
=======
        "0fcb93f16bcc4a429aa5502e21afeb18": {
>>>>>>> b4ba64658fecc98da882c570695b641aa6a87bad
          "model_module": "@jupyter-widgets/controls",
          "model_name": "DescriptionStyleModel",
          "model_module_version": "1.5.0",
          "state": {
            "_model_module": "@jupyter-widgets/controls",
            "_model_module_version": "1.5.0",
            "_model_name": "DescriptionStyleModel",
            "_view_count": null,
            "_view_module": "@jupyter-widgets/base",
            "_view_module_version": "1.2.0",
            "_view_name": "StyleView",
            "description_width": ""
          }
        },
<<<<<<< HEAD
        "9c3fbcbb3691490390466472eb61b0a9": {
=======
        "33297b198d024e1e9149be9e6ed8ef50": {
>>>>>>> b4ba64658fecc98da882c570695b641aa6a87bad
          "model_module": "@jupyter-widgets/base",
          "model_name": "LayoutModel",
          "model_module_version": "1.2.0",
          "state": {
            "_model_module": "@jupyter-widgets/base",
            "_model_module_version": "1.2.0",
            "_model_name": "LayoutModel",
            "_view_count": null,
            "_view_module": "@jupyter-widgets/base",
            "_view_module_version": "1.2.0",
            "_view_name": "LayoutView",
            "align_content": null,
            "align_items": null,
            "align_self": null,
            "border": null,
            "bottom": null,
            "display": null,
            "flex": null,
            "flex_flow": null,
            "grid_area": null,
            "grid_auto_columns": null,
            "grid_auto_flow": null,
            "grid_auto_rows": null,
            "grid_column": null,
            "grid_gap": null,
            "grid_row": null,
            "grid_template_areas": null,
            "grid_template_columns": null,
            "grid_template_rows": null,
            "height": null,
            "justify_content": null,
            "justify_items": null,
            "left": null,
            "margin": null,
            "max_height": null,
            "max_width": null,
            "min_height": null,
            "min_width": null,
            "object_fit": null,
            "object_position": null,
            "order": null,
            "overflow": null,
            "overflow_x": null,
            "overflow_y": null,
            "padding": null,
            "right": null,
            "top": null,
            "visibility": null,
            "width": null
          }
        },
<<<<<<< HEAD
        "696ffe33a26d4cb1acc1f22931967256": {
=======
        "b019ec54512646b78ac2263a048711a5": {
>>>>>>> b4ba64658fecc98da882c570695b641aa6a87bad
          "model_module": "@jupyter-widgets/controls",
          "model_name": "ProgressStyleModel",
          "model_module_version": "1.5.0",
          "state": {
            "_model_module": "@jupyter-widgets/controls",
            "_model_module_version": "1.5.0",
            "_model_name": "ProgressStyleModel",
            "_view_count": null,
            "_view_module": "@jupyter-widgets/base",
            "_view_module_version": "1.2.0",
            "_view_name": "StyleView",
            "bar_color": null,
            "description_width": ""
          }
        },
<<<<<<< HEAD
        "a363321e238c4db485215e8ec1d67aed": {
=======
        "ba9165205e804f9aac35b794cd8c0c0a": {
>>>>>>> b4ba64658fecc98da882c570695b641aa6a87bad
          "model_module": "@jupyter-widgets/base",
          "model_name": "LayoutModel",
          "model_module_version": "1.2.0",
          "state": {
            "_model_module": "@jupyter-widgets/base",
            "_model_module_version": "1.2.0",
            "_model_name": "LayoutModel",
            "_view_count": null,
            "_view_module": "@jupyter-widgets/base",
            "_view_module_version": "1.2.0",
            "_view_name": "LayoutView",
            "align_content": null,
            "align_items": null,
            "align_self": null,
            "border": null,
            "bottom": null,
            "display": null,
            "flex": null,
            "flex_flow": null,
            "grid_area": null,
            "grid_auto_columns": null,
            "grid_auto_flow": null,
            "grid_auto_rows": null,
            "grid_column": null,
            "grid_gap": null,
            "grid_row": null,
            "grid_template_areas": null,
            "grid_template_columns": null,
            "grid_template_rows": null,
            "height": null,
            "justify_content": null,
            "justify_items": null,
            "left": null,
            "margin": null,
            "max_height": null,
            "max_width": null,
            "min_height": null,
            "min_width": null,
            "object_fit": null,
            "object_position": null,
            "order": null,
            "overflow": null,
            "overflow_x": null,
            "overflow_y": null,
            "padding": null,
            "right": null,
            "top": null,
            "visibility": null,
            "width": null
          }
        },
<<<<<<< HEAD
        "433783611c9b41a3b4dfed2effbcf62c": {
=======
        "db1729b7e67340a3ae249c485c5405a7": {
>>>>>>> b4ba64658fecc98da882c570695b641aa6a87bad
          "model_module": "@jupyter-widgets/controls",
          "model_name": "DescriptionStyleModel",
          "model_module_version": "1.5.0",
          "state": {
            "_model_module": "@jupyter-widgets/controls",
            "_model_module_version": "1.5.0",
            "_model_name": "DescriptionStyleModel",
            "_view_count": null,
            "_view_module": "@jupyter-widgets/base",
            "_view_module_version": "1.2.0",
            "_view_name": "StyleView",
            "description_width": ""
          }
        },
<<<<<<< HEAD
        "ab20db21b9dd479d87d3adaf35263d14": {
=======
        "b77dc88ecf204cecb9cc3e08d69b6abe": {
>>>>>>> b4ba64658fecc98da882c570695b641aa6a87bad
          "model_module": "@jupyter-widgets/controls",
          "model_name": "HBoxModel",
          "model_module_version": "1.5.0",
          "state": {
            "_dom_classes": [],
            "_model_module": "@jupyter-widgets/controls",
            "_model_module_version": "1.5.0",
            "_model_name": "HBoxModel",
            "_view_count": null,
            "_view_module": "@jupyter-widgets/controls",
            "_view_module_version": "1.5.0",
            "_view_name": "HBoxView",
            "box_style": "",
            "children": [
<<<<<<< HEAD
              "IPY_MODEL_6c12dcf1f57641738cf822ba154ee176",
              "IPY_MODEL_4903fb14febd4a07a30acec1b4363255",
              "IPY_MODEL_acdea3c0ce924af5835d650455ff6ed9"
            ],
            "layout": "IPY_MODEL_286a53cb65b040d2ad85ce365862ee43"
          }
        },
        "6c12dcf1f57641738cf822ba154ee176": {
=======
              "IPY_MODEL_f4d10f77b33c43d8aaf72f953c0b33bd",
              "IPY_MODEL_b753fdc6f0894113bb15da42d0671d75",
              "IPY_MODEL_c32b2dc3593c4f9c91fe10ea540bc1b2"
            ],
            "layout": "IPY_MODEL_908302aaccb34df8876f02aa1339ef78"
          }
        },
        "f4d10f77b33c43d8aaf72f953c0b33bd": {
>>>>>>> b4ba64658fecc98da882c570695b641aa6a87bad
          "model_module": "@jupyter-widgets/controls",
          "model_name": "HTMLModel",
          "model_module_version": "1.5.0",
          "state": {
            "_dom_classes": [],
            "_model_module": "@jupyter-widgets/controls",
            "_model_module_version": "1.5.0",
            "_model_name": "HTMLModel",
            "_view_count": null,
            "_view_module": "@jupyter-widgets/controls",
            "_view_module_version": "1.5.0",
            "_view_name": "HTMLView",
            "description": "",
            "description_tooltip": null,
<<<<<<< HEAD
            "layout": "IPY_MODEL_a010c1ddb7304ba698b1bd8d171012fc",
            "placeholder": "​",
            "style": "IPY_MODEL_e122d268ff394d5dbac02297279dfbdd",
            "value": "Downloading: 100%"
          }
        },
        "4903fb14febd4a07a30acec1b4363255": {
=======
            "layout": "IPY_MODEL_05ed0ac2a77641bfa52f2e99f49fde66",
            "placeholder": "​",
            "style": "IPY_MODEL_4ad2fd0b53404ea396fc4162c7bdf254",
            "value": "100%"
          }
        },
        "b753fdc6f0894113bb15da42d0671d75": {
>>>>>>> b4ba64658fecc98da882c570695b641aa6a87bad
          "model_module": "@jupyter-widgets/controls",
          "model_name": "FloatProgressModel",
          "model_module_version": "1.5.0",
          "state": {
            "_dom_classes": [],
            "_model_module": "@jupyter-widgets/controls",
            "_model_module_version": "1.5.0",
            "_model_name": "FloatProgressModel",
            "_view_count": null,
            "_view_module": "@jupyter-widgets/controls",
            "_view_module_version": "1.5.0",
            "_view_name": "ProgressView",
            "bar_style": "success",
            "description": "",
            "description_tooltip": null,
<<<<<<< HEAD
            "layout": "IPY_MODEL_ce9668627f1042fb8bbb4663a3b6cdcd",
            "max": 209528,
            "min": 0,
            "orientation": "horizontal",
            "style": "IPY_MODEL_1334394b7514455d86d29f6e146516bf",
            "value": 209528
          }
        },
        "acdea3c0ce924af5835d650455ff6ed9": {
=======
            "layout": "IPY_MODEL_f4a2b250a0a549f59abbf09ca14bf21b",
            "max": 1,
            "min": 0,
            "orientation": "horizontal",
            "style": "IPY_MODEL_f7de531c34964622abc24de5f886de22",
            "value": 1
          }
        },
        "c32b2dc3593c4f9c91fe10ea540bc1b2": {
>>>>>>> b4ba64658fecc98da882c570695b641aa6a87bad
          "model_module": "@jupyter-widgets/controls",
          "model_name": "HTMLModel",
          "model_module_version": "1.5.0",
          "state": {
            "_dom_classes": [],
            "_model_module": "@jupyter-widgets/controls",
            "_model_module_version": "1.5.0",
            "_model_name": "HTMLModel",
            "_view_count": null,
            "_view_module": "@jupyter-widgets/controls",
            "_view_module_version": "1.5.0",
            "_view_name": "HTMLView",
            "description": "",
            "description_tooltip": null,
<<<<<<< HEAD
            "layout": "IPY_MODEL_1ade8d2ccf88427aa34475f78b172021",
            "placeholder": "​",
            "style": "IPY_MODEL_e7ecdebaf54b4924953375bec5b788d6",
            "value": " 205k/205k [00:00&lt;00:00, 1.61MB/s]"
          }
        },
        "286a53cb65b040d2ad85ce365862ee43": {
=======
            "layout": "IPY_MODEL_69bd5867ff644b1b98d50790002542d7",
            "placeholder": "​",
            "style": "IPY_MODEL_c650d0197ee94a4e9699b255415ddb7b",
            "value": " 1/1 [00:00&lt;00:00,  7.09ba/s]"
          }
        },
        "908302aaccb34df8876f02aa1339ef78": {
>>>>>>> b4ba64658fecc98da882c570695b641aa6a87bad
          "model_module": "@jupyter-widgets/base",
          "model_name": "LayoutModel",
          "model_module_version": "1.2.0",
          "state": {
            "_model_module": "@jupyter-widgets/base",
            "_model_module_version": "1.2.0",
            "_model_name": "LayoutModel",
            "_view_count": null,
            "_view_module": "@jupyter-widgets/base",
            "_view_module_version": "1.2.0",
            "_view_name": "LayoutView",
            "align_content": null,
            "align_items": null,
            "align_self": null,
            "border": null,
            "bottom": null,
            "display": null,
            "flex": null,
            "flex_flow": null,
            "grid_area": null,
            "grid_auto_columns": null,
            "grid_auto_flow": null,
            "grid_auto_rows": null,
            "grid_column": null,
            "grid_gap": null,
            "grid_row": null,
            "grid_template_areas": null,
            "grid_template_columns": null,
            "grid_template_rows": null,
            "height": null,
            "justify_content": null,
            "justify_items": null,
            "left": null,
            "margin": null,
            "max_height": null,
            "max_width": null,
            "min_height": null,
            "min_width": null,
            "object_fit": null,
            "object_position": null,
            "order": null,
            "overflow": null,
            "overflow_x": null,
            "overflow_y": null,
            "padding": null,
            "right": null,
            "top": null,
            "visibility": null,
            "width": null
          }
        },
<<<<<<< HEAD
        "a010c1ddb7304ba698b1bd8d171012fc": {
=======
        "05ed0ac2a77641bfa52f2e99f49fde66": {
>>>>>>> b4ba64658fecc98da882c570695b641aa6a87bad
          "model_module": "@jupyter-widgets/base",
          "model_name": "LayoutModel",
          "model_module_version": "1.2.0",
          "state": {
            "_model_module": "@jupyter-widgets/base",
            "_model_module_version": "1.2.0",
            "_model_name": "LayoutModel",
            "_view_count": null,
            "_view_module": "@jupyter-widgets/base",
            "_view_module_version": "1.2.0",
            "_view_name": "LayoutView",
            "align_content": null,
            "align_items": null,
            "align_self": null,
            "border": null,
            "bottom": null,
            "display": null,
            "flex": null,
            "flex_flow": null,
            "grid_area": null,
            "grid_auto_columns": null,
            "grid_auto_flow": null,
            "grid_auto_rows": null,
            "grid_column": null,
            "grid_gap": null,
            "grid_row": null,
            "grid_template_areas": null,
            "grid_template_columns": null,
            "grid_template_rows": null,
            "height": null,
            "justify_content": null,
            "justify_items": null,
            "left": null,
            "margin": null,
            "max_height": null,
            "max_width": null,
            "min_height": null,
            "min_width": null,
            "object_fit": null,
            "object_position": null,
            "order": null,
            "overflow": null,
            "overflow_x": null,
            "overflow_y": null,
            "padding": null,
            "right": null,
            "top": null,
            "visibility": null,
            "width": null
          }
        },
<<<<<<< HEAD
        "e122d268ff394d5dbac02297279dfbdd": {
=======
        "4ad2fd0b53404ea396fc4162c7bdf254": {
>>>>>>> b4ba64658fecc98da882c570695b641aa6a87bad
          "model_module": "@jupyter-widgets/controls",
          "model_name": "DescriptionStyleModel",
          "model_module_version": "1.5.0",
          "state": {
            "_model_module": "@jupyter-widgets/controls",
            "_model_module_version": "1.5.0",
            "_model_name": "DescriptionStyleModel",
            "_view_count": null,
            "_view_module": "@jupyter-widgets/base",
            "_view_module_version": "1.2.0",
            "_view_name": "StyleView",
            "description_width": ""
          }
        },
<<<<<<< HEAD
        "ce9668627f1042fb8bbb4663a3b6cdcd": {
=======
        "f4a2b250a0a549f59abbf09ca14bf21b": {
>>>>>>> b4ba64658fecc98da882c570695b641aa6a87bad
          "model_module": "@jupyter-widgets/base",
          "model_name": "LayoutModel",
          "model_module_version": "1.2.0",
          "state": {
            "_model_module": "@jupyter-widgets/base",
            "_model_module_version": "1.2.0",
            "_model_name": "LayoutModel",
            "_view_count": null,
            "_view_module": "@jupyter-widgets/base",
            "_view_module_version": "1.2.0",
            "_view_name": "LayoutView",
            "align_content": null,
            "align_items": null,
            "align_self": null,
            "border": null,
            "bottom": null,
            "display": null,
            "flex": null,
            "flex_flow": null,
            "grid_area": null,
            "grid_auto_columns": null,
            "grid_auto_flow": null,
            "grid_auto_rows": null,
            "grid_column": null,
            "grid_gap": null,
            "grid_row": null,
            "grid_template_areas": null,
            "grid_template_columns": null,
            "grid_template_rows": null,
            "height": null,
            "justify_content": null,
            "justify_items": null,
            "left": null,
            "margin": null,
            "max_height": null,
            "max_width": null,
            "min_height": null,
            "min_width": null,
            "object_fit": null,
            "object_position": null,
            "order": null,
            "overflow": null,
            "overflow_x": null,
            "overflow_y": null,
            "padding": null,
            "right": null,
            "top": null,
            "visibility": null,
            "width": null
          }
        },
<<<<<<< HEAD
        "1334394b7514455d86d29f6e146516bf": {
=======
        "f7de531c34964622abc24de5f886de22": {
>>>>>>> b4ba64658fecc98da882c570695b641aa6a87bad
          "model_module": "@jupyter-widgets/controls",
          "model_name": "ProgressStyleModel",
          "model_module_version": "1.5.0",
          "state": {
            "_model_module": "@jupyter-widgets/controls",
            "_model_module_version": "1.5.0",
            "_model_name": "ProgressStyleModel",
            "_view_count": null,
            "_view_module": "@jupyter-widgets/base",
            "_view_module_version": "1.2.0",
            "_view_name": "StyleView",
            "bar_color": null,
            "description_width": ""
          }
        },
<<<<<<< HEAD
        "1ade8d2ccf88427aa34475f78b172021": {
=======
        "69bd5867ff644b1b98d50790002542d7": {
>>>>>>> b4ba64658fecc98da882c570695b641aa6a87bad
          "model_module": "@jupyter-widgets/base",
          "model_name": "LayoutModel",
          "model_module_version": "1.2.0",
          "state": {
            "_model_module": "@jupyter-widgets/base",
            "_model_module_version": "1.2.0",
            "_model_name": "LayoutModel",
            "_view_count": null,
            "_view_module": "@jupyter-widgets/base",
            "_view_module_version": "1.2.0",
            "_view_name": "LayoutView",
            "align_content": null,
            "align_items": null,
            "align_self": null,
            "border": null,
            "bottom": null,
            "display": null,
            "flex": null,
            "flex_flow": null,
            "grid_area": null,
            "grid_auto_columns": null,
            "grid_auto_flow": null,
            "grid_auto_rows": null,
            "grid_column": null,
            "grid_gap": null,
            "grid_row": null,
            "grid_template_areas": null,
            "grid_template_columns": null,
            "grid_template_rows": null,
            "height": null,
            "justify_content": null,
            "justify_items": null,
            "left": null,
            "margin": null,
            "max_height": null,
            "max_width": null,
            "min_height": null,
            "min_width": null,
            "object_fit": null,
            "object_position": null,
            "order": null,
            "overflow": null,
            "overflow_x": null,
            "overflow_y": null,
            "padding": null,
            "right": null,
            "top": null,
            "visibility": null,
            "width": null
          }
        },
<<<<<<< HEAD
        "e7ecdebaf54b4924953375bec5b788d6": {
=======
        "c650d0197ee94a4e9699b255415ddb7b": {
>>>>>>> b4ba64658fecc98da882c570695b641aa6a87bad
          "model_module": "@jupyter-widgets/controls",
          "model_name": "DescriptionStyleModel",
          "model_module_version": "1.5.0",
          "state": {
            "_model_module": "@jupyter-widgets/controls",
            "_model_module_version": "1.5.0",
            "_model_name": "DescriptionStyleModel",
            "_view_count": null,
            "_view_module": "@jupyter-widgets/base",
            "_view_module_version": "1.2.0",
            "_view_name": "StyleView",
            "description_width": ""
          }
        },
<<<<<<< HEAD
        "abeea031a9474d7881025368a82dfd7e": {
=======
        "4abc1169435a4d1fa22f029ad3f9b7ca": {
>>>>>>> b4ba64658fecc98da882c570695b641aa6a87bad
          "model_module": "@jupyter-widgets/controls",
          "model_name": "HBoxModel",
          "model_module_version": "1.5.0",
          "state": {
            "_dom_classes": [],
            "_model_module": "@jupyter-widgets/controls",
            "_model_module_version": "1.5.0",
            "_model_name": "HBoxModel",
            "_view_count": null,
            "_view_module": "@jupyter-widgets/controls",
            "_view_module_version": "1.5.0",
            "_view_name": "HBoxView",
            "box_style": "",
            "children": [
<<<<<<< HEAD
              "IPY_MODEL_6f212d3cf7b64a0793742b9efd1ba367",
              "IPY_MODEL_dd8c6c96a0b94b14bb1de92a460b2679",
              "IPY_MODEL_fed9f7925c5249b9b34bf736c181da35"
            ],
            "layout": "IPY_MODEL_0d0106bb02124089b2d9032f9817d755"
          }
        },
        "6f212d3cf7b64a0793742b9efd1ba367": {
=======
              "IPY_MODEL_64a982fde12f4eec9746ad0801b09a4d",
              "IPY_MODEL_4ce822a2c3384fed974b175615424ce6",
              "IPY_MODEL_1359b70f1e5d494184cd3495402a1c4b"
            ],
            "layout": "IPY_MODEL_9fcfb945526b47d789605e9de0a1a72d"
          }
        },
        "64a982fde12f4eec9746ad0801b09a4d": {
>>>>>>> b4ba64658fecc98da882c570695b641aa6a87bad
          "model_module": "@jupyter-widgets/controls",
          "model_name": "HTMLModel",
          "model_module_version": "1.5.0",
          "state": {
            "_dom_classes": [],
            "_model_module": "@jupyter-widgets/controls",
            "_model_module_version": "1.5.0",
            "_model_name": "HTMLModel",
            "_view_count": null,
            "_view_module": "@jupyter-widgets/controls",
            "_view_module_version": "1.5.0",
            "_view_name": "HTMLView",
            "description": "",
            "description_tooltip": null,
<<<<<<< HEAD
            "layout": "IPY_MODEL_de432d768b514d5482508c2eb16e8821",
            "placeholder": "​",
            "style": "IPY_MODEL_4256fa7a214441628349139922df8296",
            "value": "Downloading: 100%"
          }
        },
        "dd8c6c96a0b94b14bb1de92a460b2679": {
=======
            "layout": "IPY_MODEL_4a49941800064497a651e5e8ac8aa25e",
            "placeholder": "​",
            "style": "IPY_MODEL_d2fce9f8758f47108b70cfa8c630a321",
            "value": "100%"
          }
        },
        "4ce822a2c3384fed974b175615424ce6": {
>>>>>>> b4ba64658fecc98da882c570695b641aa6a87bad
          "model_module": "@jupyter-widgets/controls",
          "model_name": "FloatProgressModel",
          "model_module_version": "1.5.0",
          "state": {
            "_dom_classes": [],
            "_model_module": "@jupyter-widgets/controls",
            "_model_module_version": "1.5.0",
            "_model_name": "FloatProgressModel",
            "_view_count": null,
            "_view_module": "@jupyter-widgets/controls",
            "_view_module_version": "1.5.0",
            "_view_name": "ProgressView",
            "bar_style": "success",
            "description": "",
            "description_tooltip": null,
<<<<<<< HEAD
            "layout": "IPY_MODEL_07f9ab9c9de748aaab20d1a145d36e87",
            "max": 2,
            "min": 0,
            "orientation": "horizontal",
            "style": "IPY_MODEL_02cc4e39cf8c49e79b62318d9094724c",
            "value": 2
          }
        },
        "fed9f7925c5249b9b34bf736c181da35": {
=======
            "layout": "IPY_MODEL_d358491fe0414b6c8fdcbb9ca5c41753",
            "max": 1,
            "min": 0,
            "orientation": "horizontal",
            "style": "IPY_MODEL_67a6afa1fb994b9dac4a07a4c8b2eead",
            "value": 1
          }
        },
        "1359b70f1e5d494184cd3495402a1c4b": {
>>>>>>> b4ba64658fecc98da882c570695b641aa6a87bad
          "model_module": "@jupyter-widgets/controls",
          "model_name": "HTMLModel",
          "model_module_version": "1.5.0",
          "state": {
            "_dom_classes": [],
            "_model_module": "@jupyter-widgets/controls",
            "_model_module_version": "1.5.0",
            "_model_name": "HTMLModel",
            "_view_count": null,
            "_view_module": "@jupyter-widgets/controls",
            "_view_module_version": "1.5.0",
            "_view_name": "HTMLView",
            "description": "",
            "description_tooltip": null,
<<<<<<< HEAD
            "layout": "IPY_MODEL_8d04d5d452b542f7aa7b7ddb38f2e95b",
            "placeholder": "​",
            "style": "IPY_MODEL_c9ac187c84234096ba2921cfc2ab8b76",
            "value": " 2.00/2.00 [00:00&lt;00:00, 16.2B/s]"
          }
        },
        "0d0106bb02124089b2d9032f9817d755": {
=======
            "layout": "IPY_MODEL_bcac03dd45204ec0b079d9dc7533e96a",
            "placeholder": "​",
            "style": "IPY_MODEL_a9e2fd6d74384acebb0a601880b59668",
            "value": " 1/1 [00:00&lt;00:00,  7.90ba/s]"
          }
        },
        "9fcfb945526b47d789605e9de0a1a72d": {
>>>>>>> b4ba64658fecc98da882c570695b641aa6a87bad
          "model_module": "@jupyter-widgets/base",
          "model_name": "LayoutModel",
          "model_module_version": "1.2.0",
          "state": {
            "_model_module": "@jupyter-widgets/base",
            "_model_module_version": "1.2.0",
            "_model_name": "LayoutModel",
            "_view_count": null,
            "_view_module": "@jupyter-widgets/base",
            "_view_module_version": "1.2.0",
            "_view_name": "LayoutView",
            "align_content": null,
            "align_items": null,
            "align_self": null,
            "border": null,
            "bottom": null,
            "display": null,
            "flex": null,
            "flex_flow": null,
            "grid_area": null,
            "grid_auto_columns": null,
            "grid_auto_flow": null,
            "grid_auto_rows": null,
            "grid_column": null,
            "grid_gap": null,
            "grid_row": null,
            "grid_template_areas": null,
            "grid_template_columns": null,
            "grid_template_rows": null,
            "height": null,
            "justify_content": null,
            "justify_items": null,
            "left": null,
            "margin": null,
            "max_height": null,
            "max_width": null,
            "min_height": null,
            "min_width": null,
            "object_fit": null,
            "object_position": null,
            "order": null,
            "overflow": null,
            "overflow_x": null,
            "overflow_y": null,
            "padding": null,
            "right": null,
            "top": null,
            "visibility": null,
            "width": null
          }
        },
<<<<<<< HEAD
        "de432d768b514d5482508c2eb16e8821": {
=======
        "4a49941800064497a651e5e8ac8aa25e": {
>>>>>>> b4ba64658fecc98da882c570695b641aa6a87bad
          "model_module": "@jupyter-widgets/base",
          "model_name": "LayoutModel",
          "model_module_version": "1.2.0",
          "state": {
            "_model_module": "@jupyter-widgets/base",
            "_model_module_version": "1.2.0",
            "_model_name": "LayoutModel",
            "_view_count": null,
            "_view_module": "@jupyter-widgets/base",
            "_view_module_version": "1.2.0",
            "_view_name": "LayoutView",
            "align_content": null,
            "align_items": null,
            "align_self": null,
            "border": null,
            "bottom": null,
            "display": null,
            "flex": null,
            "flex_flow": null,
            "grid_area": null,
            "grid_auto_columns": null,
            "grid_auto_flow": null,
            "grid_auto_rows": null,
            "grid_column": null,
            "grid_gap": null,
            "grid_row": null,
            "grid_template_areas": null,
            "grid_template_columns": null,
            "grid_template_rows": null,
            "height": null,
            "justify_content": null,
            "justify_items": null,
            "left": null,
            "margin": null,
            "max_height": null,
            "max_width": null,
            "min_height": null,
            "min_width": null,
            "object_fit": null,
            "object_position": null,
            "order": null,
            "overflow": null,
            "overflow_x": null,
            "overflow_y": null,
            "padding": null,
            "right": null,
            "top": null,
            "visibility": null,
            "width": null
          }
        },
<<<<<<< HEAD
        "4256fa7a214441628349139922df8296": {
=======
        "d2fce9f8758f47108b70cfa8c630a321": {
>>>>>>> b4ba64658fecc98da882c570695b641aa6a87bad
          "model_module": "@jupyter-widgets/controls",
          "model_name": "DescriptionStyleModel",
          "model_module_version": "1.5.0",
          "state": {
            "_model_module": "@jupyter-widgets/controls",
            "_model_module_version": "1.5.0",
            "_model_name": "DescriptionStyleModel",
            "_view_count": null,
            "_view_module": "@jupyter-widgets/base",
            "_view_module_version": "1.2.0",
            "_view_name": "StyleView",
            "description_width": ""
          }
        },
<<<<<<< HEAD
        "07f9ab9c9de748aaab20d1a145d36e87": {
=======
        "d358491fe0414b6c8fdcbb9ca5c41753": {
>>>>>>> b4ba64658fecc98da882c570695b641aa6a87bad
          "model_module": "@jupyter-widgets/base",
          "model_name": "LayoutModel",
          "model_module_version": "1.2.0",
          "state": {
            "_model_module": "@jupyter-widgets/base",
            "_model_module_version": "1.2.0",
            "_model_name": "LayoutModel",
            "_view_count": null,
            "_view_module": "@jupyter-widgets/base",
            "_view_module_version": "1.2.0",
            "_view_name": "LayoutView",
            "align_content": null,
            "align_items": null,
            "align_self": null,
            "border": null,
            "bottom": null,
            "display": null,
            "flex": null,
            "flex_flow": null,
            "grid_area": null,
            "grid_auto_columns": null,
            "grid_auto_flow": null,
            "grid_auto_rows": null,
            "grid_column": null,
            "grid_gap": null,
            "grid_row": null,
            "grid_template_areas": null,
            "grid_template_columns": null,
            "grid_template_rows": null,
            "height": null,
            "justify_content": null,
            "justify_items": null,
            "left": null,
            "margin": null,
            "max_height": null,
            "max_width": null,
            "min_height": null,
            "min_width": null,
            "object_fit": null,
            "object_position": null,
            "order": null,
            "overflow": null,
            "overflow_x": null,
            "overflow_y": null,
            "padding": null,
            "right": null,
            "top": null,
            "visibility": null,
            "width": null
          }
        },
<<<<<<< HEAD
        "02cc4e39cf8c49e79b62318d9094724c": {
=======
        "67a6afa1fb994b9dac4a07a4c8b2eead": {
>>>>>>> b4ba64658fecc98da882c570695b641aa6a87bad
          "model_module": "@jupyter-widgets/controls",
          "model_name": "ProgressStyleModel",
          "model_module_version": "1.5.0",
          "state": {
            "_model_module": "@jupyter-widgets/controls",
            "_model_module_version": "1.5.0",
            "_model_name": "ProgressStyleModel",
            "_view_count": null,
            "_view_module": "@jupyter-widgets/base",
            "_view_module_version": "1.2.0",
            "_view_name": "StyleView",
            "bar_color": null,
            "description_width": ""
          }
        },
<<<<<<< HEAD
        "8d04d5d452b542f7aa7b7ddb38f2e95b": {
=======
        "bcac03dd45204ec0b079d9dc7533e96a": {
>>>>>>> b4ba64658fecc98da882c570695b641aa6a87bad
          "model_module": "@jupyter-widgets/base",
          "model_name": "LayoutModel",
          "model_module_version": "1.2.0",
          "state": {
            "_model_module": "@jupyter-widgets/base",
            "_model_module_version": "1.2.0",
            "_model_name": "LayoutModel",
            "_view_count": null,
            "_view_module": "@jupyter-widgets/base",
            "_view_module_version": "1.2.0",
            "_view_name": "LayoutView",
            "align_content": null,
            "align_items": null,
            "align_self": null,
            "border": null,
            "bottom": null,
            "display": null,
            "flex": null,
            "flex_flow": null,
            "grid_area": null,
            "grid_auto_columns": null,
            "grid_auto_flow": null,
            "grid_auto_rows": null,
            "grid_column": null,
            "grid_gap": null,
            "grid_row": null,
            "grid_template_areas": null,
            "grid_template_columns": null,
            "grid_template_rows": null,
            "height": null,
            "justify_content": null,
            "justify_items": null,
            "left": null,
            "margin": null,
            "max_height": null,
            "max_width": null,
            "min_height": null,
            "min_width": null,
            "object_fit": null,
            "object_position": null,
            "order": null,
            "overflow": null,
            "overflow_x": null,
            "overflow_y": null,
            "padding": null,
            "right": null,
            "top": null,
            "visibility": null,
            "width": null
          }
        },
<<<<<<< HEAD
        "c9ac187c84234096ba2921cfc2ab8b76": {
=======
        "a9e2fd6d74384acebb0a601880b59668": {
>>>>>>> b4ba64658fecc98da882c570695b641aa6a87bad
          "model_module": "@jupyter-widgets/controls",
          "model_name": "DescriptionStyleModel",
          "model_module_version": "1.5.0",
          "state": {
            "_model_module": "@jupyter-widgets/controls",
            "_model_module_version": "1.5.0",
            "_model_name": "DescriptionStyleModel",
            "_view_count": null,
            "_view_module": "@jupyter-widgets/base",
            "_view_module_version": "1.2.0",
            "_view_name": "StyleView",
            "description_width": ""
          }
        },
<<<<<<< HEAD
        "373400cdc67a4b99b8f6d06f54a84392": {
=======
        "c98c49f2340a4997a44f8ff00ce8ed93": {
>>>>>>> b4ba64658fecc98da882c570695b641aa6a87bad
          "model_module": "@jupyter-widgets/controls",
          "model_name": "HBoxModel",
          "model_module_version": "1.5.0",
          "state": {
            "_dom_classes": [],
            "_model_module": "@jupyter-widgets/controls",
            "_model_module_version": "1.5.0",
            "_model_name": "HBoxModel",
            "_view_count": null,
            "_view_module": "@jupyter-widgets/controls",
            "_view_module_version": "1.5.0",
            "_view_name": "HBoxView",
            "box_style": "",
            "children": [
<<<<<<< HEAD
              "IPY_MODEL_25896296fc404683a7112c5ff751e1e3",
              "IPY_MODEL_ec5f2a4da96040c6ba975d116a86a4b5",
              "IPY_MODEL_c27f170f2a374618bc2ef996e3800bd2"
            ],
            "layout": "IPY_MODEL_b4cb8a7985ad43d49dfc83a8b1a2f7bc"
          }
        },
        "25896296fc404683a7112c5ff751e1e3": {
=======
              "IPY_MODEL_ea8b82495ea34852a1aaa4cacc2b43a2",
              "IPY_MODEL_2eab69e2a1b14ee885a092ac62e6fd16",
              "IPY_MODEL_52249c8806c5431d8c82f0ac2b8fcdd3"
            ],
            "layout": "IPY_MODEL_ba31531b8a0344a981564368f91c9c3b"
          }
        },
        "ea8b82495ea34852a1aaa4cacc2b43a2": {
>>>>>>> b4ba64658fecc98da882c570695b641aa6a87bad
          "model_module": "@jupyter-widgets/controls",
          "model_name": "HTMLModel",
          "model_module_version": "1.5.0",
          "state": {
            "_dom_classes": [],
            "_model_module": "@jupyter-widgets/controls",
            "_model_module_version": "1.5.0",
            "_model_name": "HTMLModel",
            "_view_count": null,
            "_view_module": "@jupyter-widgets/controls",
            "_view_module_version": "1.5.0",
            "_view_name": "HTMLView",
            "description": "",
            "description_tooltip": null,
<<<<<<< HEAD
            "layout": "IPY_MODEL_3379e3fc2cd6438b88f7666ec5997e6f",
            "placeholder": "​",
            "style": "IPY_MODEL_86bc2acd840a4bf9960fb57264708a4d",
            "value": "Downloading: 100%"
          }
        },
        "ec5f2a4da96040c6ba975d116a86a4b5": {
=======
            "layout": "IPY_MODEL_769821c2a09847199c03e01ee053fb2d",
            "placeholder": "​",
            "style": "IPY_MODEL_97c15f4161334f0ba6a9be862b5b949f",
            "value": "100%"
          }
        },
        "2eab69e2a1b14ee885a092ac62e6fd16": {
>>>>>>> b4ba64658fecc98da882c570695b641aa6a87bad
          "model_module": "@jupyter-widgets/controls",
          "model_name": "FloatProgressModel",
          "model_module_version": "1.5.0",
          "state": {
            "_dom_classes": [],
            "_model_module": "@jupyter-widgets/controls",
            "_model_module_version": "1.5.0",
            "_model_name": "FloatProgressModel",
            "_view_count": null,
            "_view_module": "@jupyter-widgets/controls",
            "_view_module_version": "1.5.0",
            "_view_name": "ProgressView",
            "bar_style": "success",
            "description": "",
            "description_tooltip": null,
<<<<<<< HEAD
            "layout": "IPY_MODEL_26a13c8ca48c4aa49b8f4f65c6daf46a",
            "max": 112,
            "min": 0,
            "orientation": "horizontal",
            "style": "IPY_MODEL_c774237e63054f75b8012b4069cd369b",
            "value": 112
          }
        },
        "c27f170f2a374618bc2ef996e3800bd2": {
=======
            "layout": "IPY_MODEL_f4e34c5f56bb49038104bc760fc60cca",
            "max": 1,
            "min": 0,
            "orientation": "horizontal",
            "style": "IPY_MODEL_b315e14bf9c240259a8151a28447edc6",
            "value": 1
          }
        },
        "52249c8806c5431d8c82f0ac2b8fcdd3": {
>>>>>>> b4ba64658fecc98da882c570695b641aa6a87bad
          "model_module": "@jupyter-widgets/controls",
          "model_name": "HTMLModel",
          "model_module_version": "1.5.0",
          "state": {
            "_dom_classes": [],
            "_model_module": "@jupyter-widgets/controls",
            "_model_module_version": "1.5.0",
            "_model_name": "HTMLModel",
            "_view_count": null,
            "_view_module": "@jupyter-widgets/controls",
            "_view_module_version": "1.5.0",
            "_view_name": "HTMLView",
            "description": "",
            "description_tooltip": null,
<<<<<<< HEAD
            "layout": "IPY_MODEL_0763072bf4b54509a207618d0910121e",
            "placeholder": "​",
            "style": "IPY_MODEL_882ff6286df7446abe4cfc73184ea2f8",
            "value": " 112/112 [00:00&lt;00:00, 1.01kB/s]"
          }
        },
        "b4cb8a7985ad43d49dfc83a8b1a2f7bc": {
=======
            "layout": "IPY_MODEL_c8e05f9139ab47918b0429e2cb69d6be",
            "placeholder": "​",
            "style": "IPY_MODEL_0b561abd80e447fba2331d844416843d",
            "value": " 1/1 [00:02&lt;00:00,  2.24s/ba]"
          }
        },
        "ba31531b8a0344a981564368f91c9c3b": {
>>>>>>> b4ba64658fecc98da882c570695b641aa6a87bad
          "model_module": "@jupyter-widgets/base",
          "model_name": "LayoutModel",
          "model_module_version": "1.2.0",
          "state": {
            "_model_module": "@jupyter-widgets/base",
            "_model_module_version": "1.2.0",
            "_model_name": "LayoutModel",
            "_view_count": null,
            "_view_module": "@jupyter-widgets/base",
            "_view_module_version": "1.2.0",
            "_view_name": "LayoutView",
            "align_content": null,
            "align_items": null,
            "align_self": null,
            "border": null,
            "bottom": null,
            "display": null,
            "flex": null,
            "flex_flow": null,
            "grid_area": null,
            "grid_auto_columns": null,
            "grid_auto_flow": null,
            "grid_auto_rows": null,
            "grid_column": null,
            "grid_gap": null,
            "grid_row": null,
            "grid_template_areas": null,
            "grid_template_columns": null,
            "grid_template_rows": null,
            "height": null,
            "justify_content": null,
            "justify_items": null,
            "left": null,
            "margin": null,
            "max_height": null,
            "max_width": null,
            "min_height": null,
            "min_width": null,
            "object_fit": null,
            "object_position": null,
            "order": null,
            "overflow": null,
            "overflow_x": null,
            "overflow_y": null,
            "padding": null,
            "right": null,
            "top": null,
            "visibility": null,
            "width": null
          }
        },
<<<<<<< HEAD
        "3379e3fc2cd6438b88f7666ec5997e6f": {
=======
        "769821c2a09847199c03e01ee053fb2d": {
>>>>>>> b4ba64658fecc98da882c570695b641aa6a87bad
          "model_module": "@jupyter-widgets/base",
          "model_name": "LayoutModel",
          "model_module_version": "1.2.0",
          "state": {
            "_model_module": "@jupyter-widgets/base",
            "_model_module_version": "1.2.0",
            "_model_name": "LayoutModel",
            "_view_count": null,
            "_view_module": "@jupyter-widgets/base",
            "_view_module_version": "1.2.0",
            "_view_name": "LayoutView",
            "align_content": null,
            "align_items": null,
            "align_self": null,
            "border": null,
            "bottom": null,
            "display": null,
            "flex": null,
            "flex_flow": null,
            "grid_area": null,
            "grid_auto_columns": null,
            "grid_auto_flow": null,
            "grid_auto_rows": null,
            "grid_column": null,
            "grid_gap": null,
            "grid_row": null,
            "grid_template_areas": null,
            "grid_template_columns": null,
            "grid_template_rows": null,
            "height": null,
            "justify_content": null,
            "justify_items": null,
            "left": null,
            "margin": null,
            "max_height": null,
            "max_width": null,
            "min_height": null,
            "min_width": null,
            "object_fit": null,
            "object_position": null,
            "order": null,
            "overflow": null,
            "overflow_x": null,
            "overflow_y": null,
            "padding": null,
            "right": null,
            "top": null,
            "visibility": null,
            "width": null
          }
        },
<<<<<<< HEAD
        "86bc2acd840a4bf9960fb57264708a4d": {
=======
        "97c15f4161334f0ba6a9be862b5b949f": {
>>>>>>> b4ba64658fecc98da882c570695b641aa6a87bad
          "model_module": "@jupyter-widgets/controls",
          "model_name": "DescriptionStyleModel",
          "model_module_version": "1.5.0",
          "state": {
            "_model_module": "@jupyter-widgets/controls",
            "_model_module_version": "1.5.0",
            "_model_name": "DescriptionStyleModel",
            "_view_count": null,
            "_view_module": "@jupyter-widgets/base",
            "_view_module_version": "1.2.0",
            "_view_name": "StyleView",
            "description_width": ""
          }
        },
<<<<<<< HEAD
        "26a13c8ca48c4aa49b8f4f65c6daf46a": {
=======
        "f4e34c5f56bb49038104bc760fc60cca": {
>>>>>>> b4ba64658fecc98da882c570695b641aa6a87bad
          "model_module": "@jupyter-widgets/base",
          "model_name": "LayoutModel",
          "model_module_version": "1.2.0",
          "state": {
            "_model_module": "@jupyter-widgets/base",
            "_model_module_version": "1.2.0",
            "_model_name": "LayoutModel",
            "_view_count": null,
            "_view_module": "@jupyter-widgets/base",
            "_view_module_version": "1.2.0",
            "_view_name": "LayoutView",
            "align_content": null,
            "align_items": null,
            "align_self": null,
            "border": null,
            "bottom": null,
            "display": null,
            "flex": null,
            "flex_flow": null,
            "grid_area": null,
            "grid_auto_columns": null,
            "grid_auto_flow": null,
            "grid_auto_rows": null,
            "grid_column": null,
            "grid_gap": null,
            "grid_row": null,
            "grid_template_areas": null,
            "grid_template_columns": null,
            "grid_template_rows": null,
            "height": null,
            "justify_content": null,
            "justify_items": null,
            "left": null,
            "margin": null,
            "max_height": null,
            "max_width": null,
            "min_height": null,
            "min_width": null,
            "object_fit": null,
            "object_position": null,
            "order": null,
            "overflow": null,
            "overflow_x": null,
            "overflow_y": null,
            "padding": null,
            "right": null,
            "top": null,
            "visibility": null,
            "width": null
          }
        },
<<<<<<< HEAD
        "c774237e63054f75b8012b4069cd369b": {
=======
        "b315e14bf9c240259a8151a28447edc6": {
>>>>>>> b4ba64658fecc98da882c570695b641aa6a87bad
          "model_module": "@jupyter-widgets/controls",
          "model_name": "ProgressStyleModel",
          "model_module_version": "1.5.0",
          "state": {
            "_model_module": "@jupyter-widgets/controls",
            "_model_module_version": "1.5.0",
            "_model_name": "ProgressStyleModel",
            "_view_count": null,
            "_view_module": "@jupyter-widgets/base",
            "_view_module_version": "1.2.0",
            "_view_name": "StyleView",
            "bar_color": null,
            "description_width": ""
          }
        },
<<<<<<< HEAD
        "0763072bf4b54509a207618d0910121e": {
=======
        "c8e05f9139ab47918b0429e2cb69d6be": {
>>>>>>> b4ba64658fecc98da882c570695b641aa6a87bad
          "model_module": "@jupyter-widgets/base",
          "model_name": "LayoutModel",
          "model_module_version": "1.2.0",
          "state": {
            "_model_module": "@jupyter-widgets/base",
            "_model_module_version": "1.2.0",
            "_model_name": "LayoutModel",
            "_view_count": null,
            "_view_module": "@jupyter-widgets/base",
            "_view_module_version": "1.2.0",
            "_view_name": "LayoutView",
            "align_content": null,
            "align_items": null,
            "align_self": null,
            "border": null,
            "bottom": null,
            "display": null,
            "flex": null,
            "flex_flow": null,
            "grid_area": null,
            "grid_auto_columns": null,
            "grid_auto_flow": null,
            "grid_auto_rows": null,
            "grid_column": null,
            "grid_gap": null,
            "grid_row": null,
            "grid_template_areas": null,
            "grid_template_columns": null,
            "grid_template_rows": null,
            "height": null,
            "justify_content": null,
            "justify_items": null,
            "left": null,
            "margin": null,
            "max_height": null,
            "max_width": null,
            "min_height": null,
            "min_width": null,
            "object_fit": null,
            "object_position": null,
            "order": null,
            "overflow": null,
            "overflow_x": null,
            "overflow_y": null,
            "padding": null,
            "right": null,
            "top": null,
            "visibility": null,
            "width": null
          }
        },
<<<<<<< HEAD
        "882ff6286df7446abe4cfc73184ea2f8": {
=======
        "0b561abd80e447fba2331d844416843d": {
>>>>>>> b4ba64658fecc98da882c570695b641aa6a87bad
          "model_module": "@jupyter-widgets/controls",
          "model_name": "DescriptionStyleModel",
          "model_module_version": "1.5.0",
          "state": {
            "_model_module": "@jupyter-widgets/controls",
            "_model_module_version": "1.5.0",
            "_model_name": "DescriptionStyleModel",
            "_view_count": null,
            "_view_module": "@jupyter-widgets/base",
            "_view_module_version": "1.2.0",
            "_view_name": "StyleView",
            "description_width": ""
          }
        },
<<<<<<< HEAD
        "43417d7cb23a4d9eb48d7d651227e060": {
=======
        "cbf35c4428e946f0ade53d956462a452": {
>>>>>>> b4ba64658fecc98da882c570695b641aa6a87bad
          "model_module": "@jupyter-widgets/controls",
          "model_name": "HBoxModel",
          "model_module_version": "1.5.0",
          "state": {
            "_dom_classes": [],
            "_model_module": "@jupyter-widgets/controls",
            "_model_module_version": "1.5.0",
            "_model_name": "HBoxModel",
            "_view_count": null,
            "_view_module": "@jupyter-widgets/controls",
            "_view_module_version": "1.5.0",
            "_view_name": "HBoxView",
            "box_style": "",
            "children": [
<<<<<<< HEAD
              "IPY_MODEL_0a09d560b86e4a13abe9d8870158c984",
              "IPY_MODEL_f92268c08a5c461ea4f4e159f4b6ac68",
              "IPY_MODEL_5a08ee1670c440bbafd1337582145fc7"
            ],
            "layout": "IPY_MODEL_14db396800944ac6b7d448cac67d7c29"
          }
        },
        "0a09d560b86e4a13abe9d8870158c984": {
=======
              "IPY_MODEL_503cad02cfad4f49b5b93de9b15e7f98",
              "IPY_MODEL_eb1a73b74fb440dd89c266302189f6ce",
              "IPY_MODEL_1a7bbddc7ae646bbbd9ec25a1c4266f4"
            ],
            "layout": "IPY_MODEL_b992cb3ba39a40d29b7d41558a3ecfd4"
          }
        },
        "503cad02cfad4f49b5b93de9b15e7f98": {
>>>>>>> b4ba64658fecc98da882c570695b641aa6a87bad
          "model_module": "@jupyter-widgets/controls",
          "model_name": "HTMLModel",
          "model_module_version": "1.5.0",
          "state": {
            "_dom_classes": [],
            "_model_module": "@jupyter-widgets/controls",
            "_model_module_version": "1.5.0",
            "_model_name": "HTMLModel",
            "_view_count": null,
            "_view_module": "@jupyter-widgets/controls",
            "_view_module_version": "1.5.0",
            "_view_name": "HTMLView",
            "description": "",
            "description_tooltip": null,
<<<<<<< HEAD
            "layout": "IPY_MODEL_9bf13c8cb6a74f939fb9195cccd47a71",
            "placeholder": "​",
            "style": "IPY_MODEL_28ac184762b44f03ac32330b77cff1a0",
            "value": "100%"
          }
        },
        "f92268c08a5c461ea4f4e159f4b6ac68": {
=======
            "layout": "IPY_MODEL_8c9ea498ad364d58b09c38080e9f7cf6",
            "placeholder": "​",
            "style": "IPY_MODEL_49e4dcdf01a9403fa4c01b9453390b32",
            "value": "100%"
          }
        },
        "eb1a73b74fb440dd89c266302189f6ce": {
>>>>>>> b4ba64658fecc98da882c570695b641aa6a87bad
          "model_module": "@jupyter-widgets/controls",
          "model_name": "FloatProgressModel",
          "model_module_version": "1.5.0",
          "state": {
            "_dom_classes": [],
            "_model_module": "@jupyter-widgets/controls",
            "_model_module_version": "1.5.0",
            "_model_name": "FloatProgressModel",
            "_view_count": null,
            "_view_module": "@jupyter-widgets/controls",
            "_view_module_version": "1.5.0",
            "_view_name": "ProgressView",
            "bar_style": "success",
            "description": "",
            "description_tooltip": null,
<<<<<<< HEAD
            "layout": "IPY_MODEL_83733b8b6d95476eb380585628c81410",
            "max": 1,
            "min": 0,
            "orientation": "horizontal",
            "style": "IPY_MODEL_b34eaf5fc39d478c865d695448d3a7e7",
            "value": 1
          }
        },
        "5a08ee1670c440bbafd1337582145fc7": {
=======
            "layout": "IPY_MODEL_7050927966a94bcfb46eab12d79c8f2a",
            "max": 1,
            "min": 0,
            "orientation": "horizontal",
            "style": "IPY_MODEL_298c096c5ced4af9955ee4a8b16942e9",
            "value": 1
          }
        },
        "1a7bbddc7ae646bbbd9ec25a1c4266f4": {
>>>>>>> b4ba64658fecc98da882c570695b641aa6a87bad
          "model_module": "@jupyter-widgets/controls",
          "model_name": "HTMLModel",
          "model_module_version": "1.5.0",
          "state": {
            "_dom_classes": [],
            "_model_module": "@jupyter-widgets/controls",
            "_model_module_version": "1.5.0",
            "_model_name": "HTMLModel",
            "_view_count": null,
            "_view_module": "@jupyter-widgets/controls",
            "_view_module_version": "1.5.0",
            "_view_name": "HTMLView",
            "description": "",
            "description_tooltip": null,
<<<<<<< HEAD
            "layout": "IPY_MODEL_7707d7f4cf9249c9bc42c84e748ae13d",
            "placeholder": "​",
            "style": "IPY_MODEL_c5048fd591a54733950df59a5565584f",
            "value": " 1/1 [00:00&lt;00:00,  1.51ba/s]"
          }
        },
        "14db396800944ac6b7d448cac67d7c29": {
=======
            "layout": "IPY_MODEL_11006d91b5a340cfb79d3807c717b209",
            "placeholder": "​",
            "style": "IPY_MODEL_3f3fb68bf5344505a5e02510efae97c8",
            "value": " 1/1 [00:00&lt;00:00,  7.43ba/s]"
          }
        },
        "b992cb3ba39a40d29b7d41558a3ecfd4": {
>>>>>>> b4ba64658fecc98da882c570695b641aa6a87bad
          "model_module": "@jupyter-widgets/base",
          "model_name": "LayoutModel",
          "model_module_version": "1.2.0",
          "state": {
            "_model_module": "@jupyter-widgets/base",
            "_model_module_version": "1.2.0",
            "_model_name": "LayoutModel",
            "_view_count": null,
            "_view_module": "@jupyter-widgets/base",
            "_view_module_version": "1.2.0",
            "_view_name": "LayoutView",
            "align_content": null,
            "align_items": null,
            "align_self": null,
            "border": null,
            "bottom": null,
            "display": null,
            "flex": null,
            "flex_flow": null,
            "grid_area": null,
            "grid_auto_columns": null,
            "grid_auto_flow": null,
            "grid_auto_rows": null,
            "grid_column": null,
            "grid_gap": null,
            "grid_row": null,
            "grid_template_areas": null,
            "grid_template_columns": null,
            "grid_template_rows": null,
            "height": null,
            "justify_content": null,
            "justify_items": null,
            "left": null,
            "margin": null,
            "max_height": null,
            "max_width": null,
            "min_height": null,
            "min_width": null,
            "object_fit": null,
            "object_position": null,
            "order": null,
            "overflow": null,
            "overflow_x": null,
            "overflow_y": null,
            "padding": null,
            "right": null,
            "top": null,
            "visibility": null,
            "width": null
          }
        },
<<<<<<< HEAD
        "9bf13c8cb6a74f939fb9195cccd47a71": {
=======
        "8c9ea498ad364d58b09c38080e9f7cf6": {
>>>>>>> b4ba64658fecc98da882c570695b641aa6a87bad
          "model_module": "@jupyter-widgets/base",
          "model_name": "LayoutModel",
          "model_module_version": "1.2.0",
          "state": {
            "_model_module": "@jupyter-widgets/base",
            "_model_module_version": "1.2.0",
            "_model_name": "LayoutModel",
            "_view_count": null,
            "_view_module": "@jupyter-widgets/base",
            "_view_module_version": "1.2.0",
            "_view_name": "LayoutView",
            "align_content": null,
            "align_items": null,
            "align_self": null,
            "border": null,
            "bottom": null,
            "display": null,
            "flex": null,
            "flex_flow": null,
            "grid_area": null,
            "grid_auto_columns": null,
            "grid_auto_flow": null,
            "grid_auto_rows": null,
            "grid_column": null,
            "grid_gap": null,
            "grid_row": null,
            "grid_template_areas": null,
            "grid_template_columns": null,
            "grid_template_rows": null,
            "height": null,
            "justify_content": null,
            "justify_items": null,
            "left": null,
            "margin": null,
            "max_height": null,
            "max_width": null,
            "min_height": null,
            "min_width": null,
            "object_fit": null,
            "object_position": null,
            "order": null,
            "overflow": null,
            "overflow_x": null,
            "overflow_y": null,
            "padding": null,
            "right": null,
            "top": null,
            "visibility": null,
            "width": null
          }
        },
<<<<<<< HEAD
        "28ac184762b44f03ac32330b77cff1a0": {
=======
        "49e4dcdf01a9403fa4c01b9453390b32": {
>>>>>>> b4ba64658fecc98da882c570695b641aa6a87bad
          "model_module": "@jupyter-widgets/controls",
          "model_name": "DescriptionStyleModel",
          "model_module_version": "1.5.0",
          "state": {
            "_model_module": "@jupyter-widgets/controls",
            "_model_module_version": "1.5.0",
            "_model_name": "DescriptionStyleModel",
            "_view_count": null,
            "_view_module": "@jupyter-widgets/base",
            "_view_module_version": "1.2.0",
            "_view_name": "StyleView",
            "description_width": ""
          }
        },
<<<<<<< HEAD
        "83733b8b6d95476eb380585628c81410": {
=======
        "7050927966a94bcfb46eab12d79c8f2a": {
>>>>>>> b4ba64658fecc98da882c570695b641aa6a87bad
          "model_module": "@jupyter-widgets/base",
          "model_name": "LayoutModel",
          "model_module_version": "1.2.0",
          "state": {
            "_model_module": "@jupyter-widgets/base",
            "_model_module_version": "1.2.0",
            "_model_name": "LayoutModel",
            "_view_count": null,
            "_view_module": "@jupyter-widgets/base",
            "_view_module_version": "1.2.0",
            "_view_name": "LayoutView",
            "align_content": null,
            "align_items": null,
            "align_self": null,
            "border": null,
            "bottom": null,
            "display": null,
            "flex": null,
            "flex_flow": null,
            "grid_area": null,
            "grid_auto_columns": null,
            "grid_auto_flow": null,
            "grid_auto_rows": null,
            "grid_column": null,
            "grid_gap": null,
            "grid_row": null,
            "grid_template_areas": null,
            "grid_template_columns": null,
            "grid_template_rows": null,
            "height": null,
            "justify_content": null,
            "justify_items": null,
            "left": null,
            "margin": null,
            "max_height": null,
            "max_width": null,
            "min_height": null,
            "min_width": null,
            "object_fit": null,
            "object_position": null,
            "order": null,
            "overflow": null,
            "overflow_x": null,
            "overflow_y": null,
            "padding": null,
            "right": null,
            "top": null,
            "visibility": null,
            "width": null
          }
        },
<<<<<<< HEAD
        "b34eaf5fc39d478c865d695448d3a7e7": {
=======
        "298c096c5ced4af9955ee4a8b16942e9": {
>>>>>>> b4ba64658fecc98da882c570695b641aa6a87bad
          "model_module": "@jupyter-widgets/controls",
          "model_name": "ProgressStyleModel",
          "model_module_version": "1.5.0",
          "state": {
            "_model_module": "@jupyter-widgets/controls",
            "_model_module_version": "1.5.0",
            "_model_name": "ProgressStyleModel",
            "_view_count": null,
            "_view_module": "@jupyter-widgets/base",
            "_view_module_version": "1.2.0",
            "_view_name": "StyleView",
            "bar_color": null,
            "description_width": ""
          }
        },
<<<<<<< HEAD
        "7707d7f4cf9249c9bc42c84e748ae13d": {
=======
        "11006d91b5a340cfb79d3807c717b209": {
>>>>>>> b4ba64658fecc98da882c570695b641aa6a87bad
          "model_module": "@jupyter-widgets/base",
          "model_name": "LayoutModel",
          "model_module_version": "1.2.0",
          "state": {
            "_model_module": "@jupyter-widgets/base",
            "_model_module_version": "1.2.0",
            "_model_name": "LayoutModel",
            "_view_count": null,
            "_view_module": "@jupyter-widgets/base",
            "_view_module_version": "1.2.0",
            "_view_name": "LayoutView",
            "align_content": null,
            "align_items": null,
            "align_self": null,
            "border": null,
            "bottom": null,
            "display": null,
            "flex": null,
            "flex_flow": null,
            "grid_area": null,
            "grid_auto_columns": null,
            "grid_auto_flow": null,
            "grid_auto_rows": null,
            "grid_column": null,
            "grid_gap": null,
            "grid_row": null,
            "grid_template_areas": null,
            "grid_template_columns": null,
            "grid_template_rows": null,
            "height": null,
            "justify_content": null,
            "justify_items": null,
            "left": null,
            "margin": null,
            "max_height": null,
            "max_width": null,
            "min_height": null,
            "min_width": null,
            "object_fit": null,
            "object_position": null,
            "order": null,
            "overflow": null,
            "overflow_x": null,
            "overflow_y": null,
            "padding": null,
            "right": null,
            "top": null,
            "visibility": null,
            "width": null
          }
        },
<<<<<<< HEAD
        "c5048fd591a54733950df59a5565584f": {
=======
        "3f3fb68bf5344505a5e02510efae97c8": {
>>>>>>> b4ba64658fecc98da882c570695b641aa6a87bad
          "model_module": "@jupyter-widgets/controls",
          "model_name": "DescriptionStyleModel",
          "model_module_version": "1.5.0",
          "state": {
            "_model_module": "@jupyter-widgets/controls",
            "_model_module_version": "1.5.0",
            "_model_name": "DescriptionStyleModel",
            "_view_count": null,
            "_view_module": "@jupyter-widgets/base",
            "_view_module_version": "1.2.0",
            "_view_name": "StyleView",
            "description_width": ""
          }
        },
<<<<<<< HEAD
        "ec373f1202fb4682ba38ce412be579aa": {
=======
        "ec24f60a5ddc4ffd892d19b268ce4119": {
>>>>>>> b4ba64658fecc98da882c570695b641aa6a87bad
          "model_module": "@jupyter-widgets/controls",
          "model_name": "HBoxModel",
          "model_module_version": "1.5.0",
          "state": {
            "_dom_classes": [],
            "_model_module": "@jupyter-widgets/controls",
            "_model_module_version": "1.5.0",
            "_model_name": "HBoxModel",
            "_view_count": null,
            "_view_module": "@jupyter-widgets/controls",
            "_view_module_version": "1.5.0",
            "_view_name": "HBoxView",
            "box_style": "",
            "children": [
<<<<<<< HEAD
              "IPY_MODEL_909b444eba6743c8893787255fc451f3",
              "IPY_MODEL_3b30d3112f204a85b320ad3aae81377b",
              "IPY_MODEL_62052335290f4e2ebf142c3a9c4232a2"
            ],
            "layout": "IPY_MODEL_b473f8672d2848c5a0b8c076d0add09a"
          }
        },
        "909b444eba6743c8893787255fc451f3": {
=======
              "IPY_MODEL_3c63f57b4470414d903d5809e1e6ecae",
              "IPY_MODEL_230b0c1dc94b4bca81ed2d361eae3adb",
              "IPY_MODEL_d4f4e09b47de4ef885279b4167420018"
            ],
            "layout": "IPY_MODEL_a4a45570506a460b9d3f7a23be0944d1"
          }
        },
        "3c63f57b4470414d903d5809e1e6ecae": {
>>>>>>> b4ba64658fecc98da882c570695b641aa6a87bad
          "model_module": "@jupyter-widgets/controls",
          "model_name": "HTMLModel",
          "model_module_version": "1.5.0",
          "state": {
            "_dom_classes": [],
            "_model_module": "@jupyter-widgets/controls",
            "_model_module_version": "1.5.0",
            "_model_name": "HTMLModel",
            "_view_count": null,
            "_view_module": "@jupyter-widgets/controls",
            "_view_module_version": "1.5.0",
            "_view_name": "HTMLView",
            "description": "",
            "description_tooltip": null,
<<<<<<< HEAD
            "layout": "IPY_MODEL_88329113f2dd4390b7c69377515ab9f9",
            "placeholder": "​",
            "style": "IPY_MODEL_9aac443b5b0d4373986c99e1d947ecc5",
            "value": "100%"
          }
        },
        "3b30d3112f204a85b320ad3aae81377b": {
=======
            "layout": "IPY_MODEL_607f8d4eaa6849d298a3f4b0fded7f74",
            "placeholder": "​",
            "style": "IPY_MODEL_1fbfe2cea302469e8d976226a42b28c4",
            "value": "100%"
          }
        },
        "230b0c1dc94b4bca81ed2d361eae3adb": {
>>>>>>> b4ba64658fecc98da882c570695b641aa6a87bad
          "model_module": "@jupyter-widgets/controls",
          "model_name": "FloatProgressModel",
          "model_module_version": "1.5.0",
          "state": {
            "_dom_classes": [],
            "_model_module": "@jupyter-widgets/controls",
            "_model_module_version": "1.5.0",
            "_model_name": "FloatProgressModel",
            "_view_count": null,
            "_view_module": "@jupyter-widgets/controls",
            "_view_module_version": "1.5.0",
            "_view_name": "ProgressView",
            "bar_style": "success",
            "description": "",
            "description_tooltip": null,
<<<<<<< HEAD
            "layout": "IPY_MODEL_098c5b19e0874cbea60d7930d68d4a07",
            "max": 1,
            "min": 0,
            "orientation": "horizontal",
            "style": "IPY_MODEL_8aaeeabf31614b21b8025ece8816c8f5",
            "value": 1
          }
        },
        "62052335290f4e2ebf142c3a9c4232a2": {
=======
            "layout": "IPY_MODEL_1c3b7d5c19d64c83b148f7d5b5e131bc",
            "max": 1,
            "min": 0,
            "orientation": "horizontal",
            "style": "IPY_MODEL_444b70f4dbcd489bbbb8e46baba9e461",
            "value": 1
          }
        },
        "d4f4e09b47de4ef885279b4167420018": {
>>>>>>> b4ba64658fecc98da882c570695b641aa6a87bad
          "model_module": "@jupyter-widgets/controls",
          "model_name": "HTMLModel",
          "model_module_version": "1.5.0",
          "state": {
            "_dom_classes": [],
            "_model_module": "@jupyter-widgets/controls",
            "_model_module_version": "1.5.0",
            "_model_name": "HTMLModel",
            "_view_count": null,
            "_view_module": "@jupyter-widgets/controls",
            "_view_module_version": "1.5.0",
            "_view_name": "HTMLView",
            "description": "",
            "description_tooltip": null,
<<<<<<< HEAD
            "layout": "IPY_MODEL_469a899a855c4da897f75e8a22342b56",
            "placeholder": "​",
            "style": "IPY_MODEL_069cfacf993540d2a235a364a9d2044c",
            "value": " 1/1 [00:00&lt;00:00,  3.34ba/s]"
          }
        },
        "b473f8672d2848c5a0b8c076d0add09a": {
=======
            "layout": "IPY_MODEL_d83d933b89b542bc8b70982ed121d4d9",
            "placeholder": "​",
            "style": "IPY_MODEL_93ebb1f3e5cc4e3da4681d164943f245",
            "value": " 1/1 [00:00&lt;00:00,  7.32ba/s]"
          }
        },
        "a4a45570506a460b9d3f7a23be0944d1": {
>>>>>>> b4ba64658fecc98da882c570695b641aa6a87bad
          "model_module": "@jupyter-widgets/base",
          "model_name": "LayoutModel",
          "model_module_version": "1.2.0",
          "state": {
            "_model_module": "@jupyter-widgets/base",
            "_model_module_version": "1.2.0",
            "_model_name": "LayoutModel",
            "_view_count": null,
            "_view_module": "@jupyter-widgets/base",
            "_view_module_version": "1.2.0",
            "_view_name": "LayoutView",
            "align_content": null,
            "align_items": null,
            "align_self": null,
            "border": null,
            "bottom": null,
            "display": null,
            "flex": null,
            "flex_flow": null,
            "grid_area": null,
            "grid_auto_columns": null,
            "grid_auto_flow": null,
            "grid_auto_rows": null,
            "grid_column": null,
            "grid_gap": null,
            "grid_row": null,
            "grid_template_areas": null,
            "grid_template_columns": null,
            "grid_template_rows": null,
            "height": null,
            "justify_content": null,
            "justify_items": null,
            "left": null,
            "margin": null,
            "max_height": null,
            "max_width": null,
            "min_height": null,
            "min_width": null,
            "object_fit": null,
            "object_position": null,
            "order": null,
            "overflow": null,
            "overflow_x": null,
            "overflow_y": null,
            "padding": null,
            "right": null,
            "top": null,
            "visibility": null,
            "width": null
          }
        },
<<<<<<< HEAD
        "88329113f2dd4390b7c69377515ab9f9": {
=======
        "607f8d4eaa6849d298a3f4b0fded7f74": {
>>>>>>> b4ba64658fecc98da882c570695b641aa6a87bad
          "model_module": "@jupyter-widgets/base",
          "model_name": "LayoutModel",
          "model_module_version": "1.2.0",
          "state": {
            "_model_module": "@jupyter-widgets/base",
            "_model_module_version": "1.2.0",
            "_model_name": "LayoutModel",
            "_view_count": null,
            "_view_module": "@jupyter-widgets/base",
            "_view_module_version": "1.2.0",
            "_view_name": "LayoutView",
            "align_content": null,
            "align_items": null,
            "align_self": null,
            "border": null,
            "bottom": null,
            "display": null,
            "flex": null,
            "flex_flow": null,
            "grid_area": null,
            "grid_auto_columns": null,
            "grid_auto_flow": null,
            "grid_auto_rows": null,
            "grid_column": null,
            "grid_gap": null,
            "grid_row": null,
            "grid_template_areas": null,
            "grid_template_columns": null,
            "grid_template_rows": null,
            "height": null,
            "justify_content": null,
            "justify_items": null,
            "left": null,
            "margin": null,
            "max_height": null,
            "max_width": null,
            "min_height": null,
            "min_width": null,
            "object_fit": null,
            "object_position": null,
            "order": null,
            "overflow": null,
            "overflow_x": null,
            "overflow_y": null,
            "padding": null,
            "right": null,
            "top": null,
            "visibility": null,
            "width": null
          }
        },
<<<<<<< HEAD
        "9aac443b5b0d4373986c99e1d947ecc5": {
=======
        "1fbfe2cea302469e8d976226a42b28c4": {
>>>>>>> b4ba64658fecc98da882c570695b641aa6a87bad
          "model_module": "@jupyter-widgets/controls",
          "model_name": "DescriptionStyleModel",
          "model_module_version": "1.5.0",
          "state": {
            "_model_module": "@jupyter-widgets/controls",
            "_model_module_version": "1.5.0",
            "_model_name": "DescriptionStyleModel",
            "_view_count": null,
            "_view_module": "@jupyter-widgets/base",
            "_view_module_version": "1.2.0",
            "_view_name": "StyleView",
            "description_width": ""
          }
        },
<<<<<<< HEAD
        "098c5b19e0874cbea60d7930d68d4a07": {
=======
        "1c3b7d5c19d64c83b148f7d5b5e131bc": {
>>>>>>> b4ba64658fecc98da882c570695b641aa6a87bad
          "model_module": "@jupyter-widgets/base",
          "model_name": "LayoutModel",
          "model_module_version": "1.2.0",
          "state": {
            "_model_module": "@jupyter-widgets/base",
            "_model_module_version": "1.2.0",
            "_model_name": "LayoutModel",
            "_view_count": null,
            "_view_module": "@jupyter-widgets/base",
            "_view_module_version": "1.2.0",
            "_view_name": "LayoutView",
            "align_content": null,
            "align_items": null,
            "align_self": null,
            "border": null,
            "bottom": null,
            "display": null,
            "flex": null,
            "flex_flow": null,
            "grid_area": null,
            "grid_auto_columns": null,
            "grid_auto_flow": null,
            "grid_auto_rows": null,
            "grid_column": null,
            "grid_gap": null,
            "grid_row": null,
            "grid_template_areas": null,
            "grid_template_columns": null,
            "grid_template_rows": null,
            "height": null,
            "justify_content": null,
            "justify_items": null,
            "left": null,
            "margin": null,
            "max_height": null,
            "max_width": null,
            "min_height": null,
            "min_width": null,
            "object_fit": null,
            "object_position": null,
            "order": null,
            "overflow": null,
            "overflow_x": null,
            "overflow_y": null,
            "padding": null,
            "right": null,
            "top": null,
            "visibility": null,
            "width": null
          }
        },
<<<<<<< HEAD
        "8aaeeabf31614b21b8025ece8816c8f5": {
=======
        "444b70f4dbcd489bbbb8e46baba9e461": {
>>>>>>> b4ba64658fecc98da882c570695b641aa6a87bad
          "model_module": "@jupyter-widgets/controls",
          "model_name": "ProgressStyleModel",
          "model_module_version": "1.5.0",
          "state": {
            "_model_module": "@jupyter-widgets/controls",
            "_model_module_version": "1.5.0",
            "_model_name": "ProgressStyleModel",
            "_view_count": null,
            "_view_module": "@jupyter-widgets/base",
            "_view_module_version": "1.2.0",
            "_view_name": "StyleView",
            "bar_color": null,
            "description_width": ""
          }
        },
<<<<<<< HEAD
        "469a899a855c4da897f75e8a22342b56": {
=======
        "d83d933b89b542bc8b70982ed121d4d9": {
>>>>>>> b4ba64658fecc98da882c570695b641aa6a87bad
          "model_module": "@jupyter-widgets/base",
          "model_name": "LayoutModel",
          "model_module_version": "1.2.0",
          "state": {
            "_model_module": "@jupyter-widgets/base",
            "_model_module_version": "1.2.0",
            "_model_name": "LayoutModel",
            "_view_count": null,
            "_view_module": "@jupyter-widgets/base",
            "_view_module_version": "1.2.0",
            "_view_name": "LayoutView",
            "align_content": null,
            "align_items": null,
            "align_self": null,
            "border": null,
            "bottom": null,
            "display": null,
            "flex": null,
            "flex_flow": null,
            "grid_area": null,
            "grid_auto_columns": null,
            "grid_auto_flow": null,
            "grid_auto_rows": null,
            "grid_column": null,
            "grid_gap": null,
            "grid_row": null,
            "grid_template_areas": null,
            "grid_template_columns": null,
            "grid_template_rows": null,
            "height": null,
            "justify_content": null,
            "justify_items": null,
            "left": null,
            "margin": null,
            "max_height": null,
            "max_width": null,
            "min_height": null,
            "min_width": null,
            "object_fit": null,
            "object_position": null,
            "order": null,
            "overflow": null,
            "overflow_x": null,
            "overflow_y": null,
            "padding": null,
            "right": null,
            "top": null,
            "visibility": null,
            "width": null
          }
        },
<<<<<<< HEAD
        "069cfacf993540d2a235a364a9d2044c": {
=======
        "93ebb1f3e5cc4e3da4681d164943f245": {
>>>>>>> b4ba64658fecc98da882c570695b641aa6a87bad
          "model_module": "@jupyter-widgets/controls",
          "model_name": "DescriptionStyleModel",
          "model_module_version": "1.5.0",
          "state": {
            "_model_module": "@jupyter-widgets/controls",
            "_model_module_version": "1.5.0",
            "_model_name": "DescriptionStyleModel",
            "_view_count": null,
            "_view_module": "@jupyter-widgets/base",
            "_view_module_version": "1.2.0",
            "_view_name": "StyleView",
            "description_width": ""
          }
        },
<<<<<<< HEAD
        "761254c774304ab290ec75cf7431c05c": {
=======
        "45d873437c6f4eb5b64da786843a0e41": {
>>>>>>> b4ba64658fecc98da882c570695b641aa6a87bad
          "model_module": "@jupyter-widgets/controls",
          "model_name": "HBoxModel",
          "model_module_version": "1.5.0",
          "state": {
            "_dom_classes": [],
            "_model_module": "@jupyter-widgets/controls",
            "_model_module_version": "1.5.0",
            "_model_name": "HBoxModel",
            "_view_count": null,
            "_view_module": "@jupyter-widgets/controls",
            "_view_module_version": "1.5.0",
            "_view_name": "HBoxView",
            "box_style": "",
            "children": [
<<<<<<< HEAD
              "IPY_MODEL_113a8dde4d234d4da5cc6f198aa26b25",
              "IPY_MODEL_1f13babf1b5a45aebff5b39d09b37584",
              "IPY_MODEL_4ccb27ccb5f0411194ff9385aa0b4857"
            ],
            "layout": "IPY_MODEL_3f0a620f780f4356ba46afb3722a9181"
          }
        },
        "113a8dde4d234d4da5cc6f198aa26b25": {
=======
              "IPY_MODEL_f72d60a5d9be420c833ae42421cd8e94",
              "IPY_MODEL_c83819cd8afb4d8a91d75c6170619c80",
              "IPY_MODEL_c8e0a8f3bf9745e490ea313bfdfa137d"
            ],
            "layout": "IPY_MODEL_04a9262a61494577aef7b4943d1be25a"
          }
        },
        "f72d60a5d9be420c833ae42421cd8e94": {
>>>>>>> b4ba64658fecc98da882c570695b641aa6a87bad
          "model_module": "@jupyter-widgets/controls",
          "model_name": "HTMLModel",
          "model_module_version": "1.5.0",
          "state": {
            "_dom_classes": [],
            "_model_module": "@jupyter-widgets/controls",
            "_model_module_version": "1.5.0",
            "_model_name": "HTMLModel",
            "_view_count": null,
            "_view_module": "@jupyter-widgets/controls",
            "_view_module_version": "1.5.0",
            "_view_name": "HTMLView",
            "description": "",
            "description_tooltip": null,
<<<<<<< HEAD
            "layout": "IPY_MODEL_57e0250b53914470ab6e9110bba19414",
            "placeholder": "​",
            "style": "IPY_MODEL_3ce972f374764e2f952a0ff0baead54e",
            "value": "100%"
          }
        },
        "1f13babf1b5a45aebff5b39d09b37584": {
=======
            "layout": "IPY_MODEL_2bf883ef96134059937283692355176a",
            "placeholder": "​",
            "style": "IPY_MODEL_bb7e97e689a64e1e99510d9ac01ef86b",
            "value": "100%"
          }
        },
        "c83819cd8afb4d8a91d75c6170619c80": {
>>>>>>> b4ba64658fecc98da882c570695b641aa6a87bad
          "model_module": "@jupyter-widgets/controls",
          "model_name": "FloatProgressModel",
          "model_module_version": "1.5.0",
          "state": {
            "_dom_classes": [],
            "_model_module": "@jupyter-widgets/controls",
            "_model_module_version": "1.5.0",
            "_model_name": "FloatProgressModel",
            "_view_count": null,
            "_view_module": "@jupyter-widgets/controls",
            "_view_module_version": "1.5.0",
            "_view_name": "ProgressView",
            "bar_style": "success",
            "description": "",
            "description_tooltip": null,
<<<<<<< HEAD
            "layout": "IPY_MODEL_3eaae1e286da45898653300540034661",
            "max": 1,
            "min": 0,
            "orientation": "horizontal",
            "style": "IPY_MODEL_99998b5543854d1e8b3a2ff3a85a45b0",
            "value": 1
          }
        },
        "4ccb27ccb5f0411194ff9385aa0b4857": {
=======
            "layout": "IPY_MODEL_fe34765e50fe45c98943d8ebc77fc044",
            "max": 14,
            "min": 0,
            "orientation": "horizontal",
            "style": "IPY_MODEL_2210d6e9d14d45ad8cdf1b20867fe201",
            "value": 14
          }
        },
        "c8e0a8f3bf9745e490ea313bfdfa137d": {
>>>>>>> b4ba64658fecc98da882c570695b641aa6a87bad
          "model_module": "@jupyter-widgets/controls",
          "model_name": "HTMLModel",
          "model_module_version": "1.5.0",
          "state": {
            "_dom_classes": [],
            "_model_module": "@jupyter-widgets/controls",
            "_model_module_version": "1.5.0",
            "_model_name": "HTMLModel",
            "_view_count": null,
            "_view_module": "@jupyter-widgets/controls",
            "_view_module_version": "1.5.0",
            "_view_name": "HTMLView",
            "description": "",
            "description_tooltip": null,
<<<<<<< HEAD
            "layout": "IPY_MODEL_941468b41a8842918f23989dd5a06819",
            "placeholder": "​",
            "style": "IPY_MODEL_9352389ec4a2484b95ffe2fec79dfdf9",
            "value": " 1/1 [00:01&lt;00:00,  1.28s/ba]"
          }
        },
        "3f0a620f780f4356ba46afb3722a9181": {
=======
            "layout": "IPY_MODEL_27be31e807e843c1a52841ec2cb74690",
            "placeholder": "​",
            "style": "IPY_MODEL_d8c20b79515647d4bef3fe41e28fa3ac",
            "value": " 14/14 [00:01&lt;00:00, 12.15ba/s]"
          }
        },
        "04a9262a61494577aef7b4943d1be25a": {
>>>>>>> b4ba64658fecc98da882c570695b641aa6a87bad
          "model_module": "@jupyter-widgets/base",
          "model_name": "LayoutModel",
          "model_module_version": "1.2.0",
          "state": {
            "_model_module": "@jupyter-widgets/base",
            "_model_module_version": "1.2.0",
            "_model_name": "LayoutModel",
            "_view_count": null,
            "_view_module": "@jupyter-widgets/base",
            "_view_module_version": "1.2.0",
            "_view_name": "LayoutView",
            "align_content": null,
            "align_items": null,
            "align_self": null,
            "border": null,
            "bottom": null,
            "display": null,
            "flex": null,
            "flex_flow": null,
            "grid_area": null,
            "grid_auto_columns": null,
            "grid_auto_flow": null,
            "grid_auto_rows": null,
            "grid_column": null,
            "grid_gap": null,
            "grid_row": null,
            "grid_template_areas": null,
            "grid_template_columns": null,
            "grid_template_rows": null,
            "height": null,
            "justify_content": null,
            "justify_items": null,
            "left": null,
            "margin": null,
            "max_height": null,
            "max_width": null,
            "min_height": null,
            "min_width": null,
            "object_fit": null,
            "object_position": null,
            "order": null,
            "overflow": null,
            "overflow_x": null,
            "overflow_y": null,
            "padding": null,
            "right": null,
            "top": null,
            "visibility": null,
            "width": null
          }
        },
<<<<<<< HEAD
        "57e0250b53914470ab6e9110bba19414": {
=======
        "2bf883ef96134059937283692355176a": {
>>>>>>> b4ba64658fecc98da882c570695b641aa6a87bad
          "model_module": "@jupyter-widgets/base",
          "model_name": "LayoutModel",
          "model_module_version": "1.2.0",
          "state": {
            "_model_module": "@jupyter-widgets/base",
            "_model_module_version": "1.2.0",
            "_model_name": "LayoutModel",
            "_view_count": null,
            "_view_module": "@jupyter-widgets/base",
            "_view_module_version": "1.2.0",
            "_view_name": "LayoutView",
            "align_content": null,
            "align_items": null,
            "align_self": null,
            "border": null,
            "bottom": null,
            "display": null,
            "flex": null,
            "flex_flow": null,
            "grid_area": null,
            "grid_auto_columns": null,
            "grid_auto_flow": null,
            "grid_auto_rows": null,
            "grid_column": null,
            "grid_gap": null,
            "grid_row": null,
            "grid_template_areas": null,
            "grid_template_columns": null,
            "grid_template_rows": null,
            "height": null,
            "justify_content": null,
            "justify_items": null,
            "left": null,
            "margin": null,
            "max_height": null,
            "max_width": null,
            "min_height": null,
            "min_width": null,
            "object_fit": null,
            "object_position": null,
            "order": null,
            "overflow": null,
            "overflow_x": null,
            "overflow_y": null,
            "padding": null,
            "right": null,
            "top": null,
            "visibility": null,
            "width": null
          }
        },
<<<<<<< HEAD
        "3ce972f374764e2f952a0ff0baead54e": {
=======
        "bb7e97e689a64e1e99510d9ac01ef86b": {
>>>>>>> b4ba64658fecc98da882c570695b641aa6a87bad
          "model_module": "@jupyter-widgets/controls",
          "model_name": "DescriptionStyleModel",
          "model_module_version": "1.5.0",
          "state": {
            "_model_module": "@jupyter-widgets/controls",
            "_model_module_version": "1.5.0",
            "_model_name": "DescriptionStyleModel",
            "_view_count": null,
            "_view_module": "@jupyter-widgets/base",
            "_view_module_version": "1.2.0",
            "_view_name": "StyleView",
            "description_width": ""
          }
        },
<<<<<<< HEAD
        "3eaae1e286da45898653300540034661": {
=======
        "fe34765e50fe45c98943d8ebc77fc044": {
>>>>>>> b4ba64658fecc98da882c570695b641aa6a87bad
          "model_module": "@jupyter-widgets/base",
          "model_name": "LayoutModel",
          "model_module_version": "1.2.0",
          "state": {
            "_model_module": "@jupyter-widgets/base",
            "_model_module_version": "1.2.0",
            "_model_name": "LayoutModel",
            "_view_count": null,
            "_view_module": "@jupyter-widgets/base",
            "_view_module_version": "1.2.0",
            "_view_name": "LayoutView",
            "align_content": null,
            "align_items": null,
            "align_self": null,
            "border": null,
            "bottom": null,
            "display": null,
            "flex": null,
            "flex_flow": null,
            "grid_area": null,
            "grid_auto_columns": null,
            "grid_auto_flow": null,
            "grid_auto_rows": null,
            "grid_column": null,
            "grid_gap": null,
            "grid_row": null,
            "grid_template_areas": null,
            "grid_template_columns": null,
            "grid_template_rows": null,
            "height": null,
            "justify_content": null,
            "justify_items": null,
            "left": null,
            "margin": null,
            "max_height": null,
            "max_width": null,
            "min_height": null,
            "min_width": null,
            "object_fit": null,
            "object_position": null,
            "order": null,
            "overflow": null,
            "overflow_x": null,
            "overflow_y": null,
            "padding": null,
            "right": null,
            "top": null,
            "visibility": null,
            "width": null
          }
        },
<<<<<<< HEAD
        "99998b5543854d1e8b3a2ff3a85a45b0": {
=======
        "2210d6e9d14d45ad8cdf1b20867fe201": {
>>>>>>> b4ba64658fecc98da882c570695b641aa6a87bad
          "model_module": "@jupyter-widgets/controls",
          "model_name": "ProgressStyleModel",
          "model_module_version": "1.5.0",
          "state": {
            "_model_module": "@jupyter-widgets/controls",
            "_model_module_version": "1.5.0",
            "_model_name": "ProgressStyleModel",
            "_view_count": null,
            "_view_module": "@jupyter-widgets/base",
            "_view_module_version": "1.2.0",
            "_view_name": "StyleView",
            "bar_color": null,
            "description_width": ""
          }
        },
<<<<<<< HEAD
        "941468b41a8842918f23989dd5a06819": {
=======
        "27be31e807e843c1a52841ec2cb74690": {
>>>>>>> b4ba64658fecc98da882c570695b641aa6a87bad
          "model_module": "@jupyter-widgets/base",
          "model_name": "LayoutModel",
          "model_module_version": "1.2.0",
          "state": {
            "_model_module": "@jupyter-widgets/base",
            "_model_module_version": "1.2.0",
            "_model_name": "LayoutModel",
            "_view_count": null,
            "_view_module": "@jupyter-widgets/base",
            "_view_module_version": "1.2.0",
            "_view_name": "LayoutView",
            "align_content": null,
            "align_items": null,
            "align_self": null,
            "border": null,
            "bottom": null,
            "display": null,
            "flex": null,
            "flex_flow": null,
            "grid_area": null,
            "grid_auto_columns": null,
            "grid_auto_flow": null,
            "grid_auto_rows": null,
            "grid_column": null,
            "grid_gap": null,
            "grid_row": null,
            "grid_template_areas": null,
            "grid_template_columns": null,
            "grid_template_rows": null,
            "height": null,
            "justify_content": null,
            "justify_items": null,
            "left": null,
            "margin": null,
            "max_height": null,
            "max_width": null,
            "min_height": null,
            "min_width": null,
            "object_fit": null,
            "object_position": null,
            "order": null,
            "overflow": null,
            "overflow_x": null,
            "overflow_y": null,
            "padding": null,
            "right": null,
            "top": null,
            "visibility": null,
            "width": null
          }
        },
<<<<<<< HEAD
        "9352389ec4a2484b95ffe2fec79dfdf9": {
=======
        "d8c20b79515647d4bef3fe41e28fa3ac": {
>>>>>>> b4ba64658fecc98da882c570695b641aa6a87bad
          "model_module": "@jupyter-widgets/controls",
          "model_name": "DescriptionStyleModel",
          "model_module_version": "1.5.0",
          "state": {
            "_model_module": "@jupyter-widgets/controls",
            "_model_module_version": "1.5.0",
            "_model_name": "DescriptionStyleModel",
            "_view_count": null,
            "_view_module": "@jupyter-widgets/base",
            "_view_module_version": "1.2.0",
            "_view_name": "StyleView",
            "description_width": ""
          }
        },
<<<<<<< HEAD
        "37fe890d1a7849b6ab01a065e8c161c9": {
=======
        "79ce668e2c3d4082a1fece27d90e4d68": {
>>>>>>> b4ba64658fecc98da882c570695b641aa6a87bad
          "model_module": "@jupyter-widgets/controls",
          "model_name": "HBoxModel",
          "model_module_version": "1.5.0",
          "state": {
            "_dom_classes": [],
            "_model_module": "@jupyter-widgets/controls",
            "_model_module_version": "1.5.0",
            "_model_name": "HBoxModel",
            "_view_count": null,
            "_view_module": "@jupyter-widgets/controls",
            "_view_module_version": "1.5.0",
            "_view_name": "HBoxView",
            "box_style": "",
            "children": [
<<<<<<< HEAD
              "IPY_MODEL_22c0b3f056b340fea0208b8f424c0e1f",
              "IPY_MODEL_4c85125ab81f4a94908e7c1720692600",
              "IPY_MODEL_f98ba401b43147c88247c9b7f03cba37"
            ],
            "layout": "IPY_MODEL_0ac0c2b3062e44cdb3ab5d2bc26df06a"
          }
        },
        "22c0b3f056b340fea0208b8f424c0e1f": {
=======
              "IPY_MODEL_e9c464bd88104187883b42c68d981100",
              "IPY_MODEL_d7c76ad3014b4a8a89842bcb79257f3a",
              "IPY_MODEL_4cea3c3fec914c4b84dc534137cc9985"
            ],
            "layout": "IPY_MODEL_affaffbb6927414fae7653466983ac10"
          }
        },
        "e9c464bd88104187883b42c68d981100": {
>>>>>>> b4ba64658fecc98da882c570695b641aa6a87bad
          "model_module": "@jupyter-widgets/controls",
          "model_name": "HTMLModel",
          "model_module_version": "1.5.0",
          "state": {
            "_dom_classes": [],
            "_model_module": "@jupyter-widgets/controls",
            "_model_module_version": "1.5.0",
            "_model_name": "HTMLModel",
            "_view_count": null,
            "_view_module": "@jupyter-widgets/controls",
            "_view_module_version": "1.5.0",
            "_view_name": "HTMLView",
            "description": "",
            "description_tooltip": null,
<<<<<<< HEAD
            "layout": "IPY_MODEL_12479843114d49db89faaa6fc0f8a320",
            "placeholder": "​",
            "style": "IPY_MODEL_7529be625c6a48098dac03eaeaef981e",
            "value": "100%"
          }
        },
        "4c85125ab81f4a94908e7c1720692600": {
=======
            "layout": "IPY_MODEL_697947385c414b6c96898a2eeebe56f6",
            "placeholder": "​",
            "style": "IPY_MODEL_f05c2d29c114498ba8cdbae08caff01a",
            "value": "100%"
          }
        },
        "d7c76ad3014b4a8a89842bcb79257f3a": {
>>>>>>> b4ba64658fecc98da882c570695b641aa6a87bad
          "model_module": "@jupyter-widgets/controls",
          "model_name": "FloatProgressModel",
          "model_module_version": "1.5.0",
          "state": {
            "_dom_classes": [],
            "_model_module": "@jupyter-widgets/controls",
            "_model_module_version": "1.5.0",
            "_model_name": "FloatProgressModel",
            "_view_count": null,
            "_view_module": "@jupyter-widgets/controls",
            "_view_module_version": "1.5.0",
            "_view_name": "ProgressView",
            "bar_style": "success",
            "description": "",
            "description_tooltip": null,
<<<<<<< HEAD
            "layout": "IPY_MODEL_dda86ae3706d43fb93a3ac2cb84a46ae",
            "max": 1,
            "min": 0,
            "orientation": "horizontal",
            "style": "IPY_MODEL_8139ef9f2ee74775a2e1275cadbfec2c",
            "value": 1
          }
        },
        "f98ba401b43147c88247c9b7f03cba37": {
=======
            "layout": "IPY_MODEL_a30bbaf9d3824470ae3005f6d01b50d8",
            "max": 4,
            "min": 0,
            "orientation": "horizontal",
            "style": "IPY_MODEL_da288dc16faf4041829cfc27114297f4",
            "value": 4
          }
        },
        "4cea3c3fec914c4b84dc534137cc9985": {
>>>>>>> b4ba64658fecc98da882c570695b641aa6a87bad
          "model_module": "@jupyter-widgets/controls",
          "model_name": "HTMLModel",
          "model_module_version": "1.5.0",
          "state": {
            "_dom_classes": [],
            "_model_module": "@jupyter-widgets/controls",
            "_model_module_version": "1.5.0",
            "_model_name": "HTMLModel",
            "_view_count": null,
            "_view_module": "@jupyter-widgets/controls",
            "_view_module_version": "1.5.0",
            "_view_name": "HTMLView",
            "description": "",
            "description_tooltip": null,
<<<<<<< HEAD
            "layout": "IPY_MODEL_0e9e212a09524218b03c3dd3bdf46034",
            "placeholder": "​",
            "style": "IPY_MODEL_586d5cbca78b4e5d8ba83dd02dae601f",
            "value": " 1/1 [00:00&lt;00:00,  2.51ba/s]"
          }
        },
        "0ac0c2b3062e44cdb3ab5d2bc26df06a": {
=======
            "layout": "IPY_MODEL_70876419393d43f98a2648be64bbe09e",
            "placeholder": "​",
            "style": "IPY_MODEL_2f296c5c78794fe4a8b7a5f74da2ce98",
            "value": " 4/4 [00:00&lt;00:00,  7.22ba/s]"
          }
        },
        "affaffbb6927414fae7653466983ac10": {
>>>>>>> b4ba64658fecc98da882c570695b641aa6a87bad
          "model_module": "@jupyter-widgets/base",
          "model_name": "LayoutModel",
          "model_module_version": "1.2.0",
          "state": {
            "_model_module": "@jupyter-widgets/base",
            "_model_module_version": "1.2.0",
            "_model_name": "LayoutModel",
            "_view_count": null,
            "_view_module": "@jupyter-widgets/base",
            "_view_module_version": "1.2.0",
            "_view_name": "LayoutView",
            "align_content": null,
            "align_items": null,
            "align_self": null,
            "border": null,
            "bottom": null,
            "display": null,
            "flex": null,
            "flex_flow": null,
            "grid_area": null,
            "grid_auto_columns": null,
            "grid_auto_flow": null,
            "grid_auto_rows": null,
            "grid_column": null,
            "grid_gap": null,
            "grid_row": null,
            "grid_template_areas": null,
            "grid_template_columns": null,
            "grid_template_rows": null,
            "height": null,
            "justify_content": null,
            "justify_items": null,
            "left": null,
            "margin": null,
            "max_height": null,
            "max_width": null,
            "min_height": null,
            "min_width": null,
            "object_fit": null,
            "object_position": null,
            "order": null,
            "overflow": null,
            "overflow_x": null,
            "overflow_y": null,
            "padding": null,
            "right": null,
            "top": null,
            "visibility": null,
            "width": null
          }
        },
<<<<<<< HEAD
        "12479843114d49db89faaa6fc0f8a320": {
=======
        "697947385c414b6c96898a2eeebe56f6": {
>>>>>>> b4ba64658fecc98da882c570695b641aa6a87bad
          "model_module": "@jupyter-widgets/base",
          "model_name": "LayoutModel",
          "model_module_version": "1.2.0",
          "state": {
            "_model_module": "@jupyter-widgets/base",
            "_model_module_version": "1.2.0",
            "_model_name": "LayoutModel",
            "_view_count": null,
            "_view_module": "@jupyter-widgets/base",
            "_view_module_version": "1.2.0",
            "_view_name": "LayoutView",
            "align_content": null,
            "align_items": null,
            "align_self": null,
            "border": null,
            "bottom": null,
            "display": null,
            "flex": null,
            "flex_flow": null,
            "grid_area": null,
            "grid_auto_columns": null,
            "grid_auto_flow": null,
            "grid_auto_rows": null,
            "grid_column": null,
            "grid_gap": null,
            "grid_row": null,
            "grid_template_areas": null,
            "grid_template_columns": null,
            "grid_template_rows": null,
            "height": null,
            "justify_content": null,
            "justify_items": null,
            "left": null,
            "margin": null,
            "max_height": null,
            "max_width": null,
            "min_height": null,
            "min_width": null,
            "object_fit": null,
            "object_position": null,
            "order": null,
            "overflow": null,
            "overflow_x": null,
            "overflow_y": null,
            "padding": null,
            "right": null,
            "top": null,
            "visibility": null,
            "width": null
          }
        },
<<<<<<< HEAD
        "7529be625c6a48098dac03eaeaef981e": {
=======
        "f05c2d29c114498ba8cdbae08caff01a": {
>>>>>>> b4ba64658fecc98da882c570695b641aa6a87bad
          "model_module": "@jupyter-widgets/controls",
          "model_name": "DescriptionStyleModel",
          "model_module_version": "1.5.0",
          "state": {
            "_model_module": "@jupyter-widgets/controls",
            "_model_module_version": "1.5.0",
            "_model_name": "DescriptionStyleModel",
            "_view_count": null,
            "_view_module": "@jupyter-widgets/base",
            "_view_module_version": "1.2.0",
            "_view_name": "StyleView",
            "description_width": ""
          }
        },
<<<<<<< HEAD
        "dda86ae3706d43fb93a3ac2cb84a46ae": {
=======
        "a30bbaf9d3824470ae3005f6d01b50d8": {
>>>>>>> b4ba64658fecc98da882c570695b641aa6a87bad
          "model_module": "@jupyter-widgets/base",
          "model_name": "LayoutModel",
          "model_module_version": "1.2.0",
          "state": {
            "_model_module": "@jupyter-widgets/base",
            "_model_module_version": "1.2.0",
            "_model_name": "LayoutModel",
            "_view_count": null,
            "_view_module": "@jupyter-widgets/base",
            "_view_module_version": "1.2.0",
            "_view_name": "LayoutView",
            "align_content": null,
            "align_items": null,
            "align_self": null,
            "border": null,
            "bottom": null,
            "display": null,
            "flex": null,
            "flex_flow": null,
            "grid_area": null,
            "grid_auto_columns": null,
            "grid_auto_flow": null,
            "grid_auto_rows": null,
            "grid_column": null,
            "grid_gap": null,
            "grid_row": null,
            "grid_template_areas": null,
            "grid_template_columns": null,
            "grid_template_rows": null,
            "height": null,
            "justify_content": null,
            "justify_items": null,
            "left": null,
            "margin": null,
            "max_height": null,
            "max_width": null,
            "min_height": null,
            "min_width": null,
            "object_fit": null,
            "object_position": null,
            "order": null,
            "overflow": null,
            "overflow_x": null,
            "overflow_y": null,
            "padding": null,
            "right": null,
            "top": null,
            "visibility": null,
            "width": null
          }
        },
<<<<<<< HEAD
        "8139ef9f2ee74775a2e1275cadbfec2c": {
=======
        "da288dc16faf4041829cfc27114297f4": {
>>>>>>> b4ba64658fecc98da882c570695b641aa6a87bad
          "model_module": "@jupyter-widgets/controls",
          "model_name": "ProgressStyleModel",
          "model_module_version": "1.5.0",
          "state": {
            "_model_module": "@jupyter-widgets/controls",
            "_model_module_version": "1.5.0",
            "_model_name": "ProgressStyleModel",
            "_view_count": null,
            "_view_module": "@jupyter-widgets/base",
            "_view_module_version": "1.2.0",
            "_view_name": "StyleView",
            "bar_color": null,
            "description_width": ""
          }
        },
<<<<<<< HEAD
        "0e9e212a09524218b03c3dd3bdf46034": {
=======
        "70876419393d43f98a2648be64bbe09e": {
>>>>>>> b4ba64658fecc98da882c570695b641aa6a87bad
          "model_module": "@jupyter-widgets/base",
          "model_name": "LayoutModel",
          "model_module_version": "1.2.0",
          "state": {
            "_model_module": "@jupyter-widgets/base",
            "_model_module_version": "1.2.0",
            "_model_name": "LayoutModel",
            "_view_count": null,
            "_view_module": "@jupyter-widgets/base",
            "_view_module_version": "1.2.0",
            "_view_name": "LayoutView",
            "align_content": null,
            "align_items": null,
            "align_self": null,
            "border": null,
            "bottom": null,
            "display": null,
            "flex": null,
            "flex_flow": null,
            "grid_area": null,
            "grid_auto_columns": null,
            "grid_auto_flow": null,
            "grid_auto_rows": null,
            "grid_column": null,
            "grid_gap": null,
            "grid_row": null,
            "grid_template_areas": null,
            "grid_template_columns": null,
            "grid_template_rows": null,
            "height": null,
            "justify_content": null,
            "justify_items": null,
            "left": null,
            "margin": null,
            "max_height": null,
            "max_width": null,
            "min_height": null,
            "min_width": null,
            "object_fit": null,
            "object_position": null,
            "order": null,
            "overflow": null,
            "overflow_x": null,
            "overflow_y": null,
            "padding": null,
            "right": null,
            "top": null,
            "visibility": null,
            "width": null
          }
        },
<<<<<<< HEAD
        "586d5cbca78b4e5d8ba83dd02dae601f": {
=======
        "2f296c5c78794fe4a8b7a5f74da2ce98": {
>>>>>>> b4ba64658fecc98da882c570695b641aa6a87bad
          "model_module": "@jupyter-widgets/controls",
          "model_name": "DescriptionStyleModel",
          "model_module_version": "1.5.0",
          "state": {
            "_model_module": "@jupyter-widgets/controls",
            "_model_module_version": "1.5.0",
            "_model_name": "DescriptionStyleModel",
            "_view_count": null,
            "_view_module": "@jupyter-widgets/base",
            "_view_module_version": "1.2.0",
            "_view_name": "StyleView",
            "description_width": ""
          }
        },
<<<<<<< HEAD
        "d280dd293b6d40cab67130deca1e48dc": {
=======
        "4f277f2454174d979b9cca0c10cff888": {
>>>>>>> b4ba64658fecc98da882c570695b641aa6a87bad
          "model_module": "@jupyter-widgets/controls",
          "model_name": "HBoxModel",
          "model_module_version": "1.5.0",
          "state": {
            "_dom_classes": [],
            "_model_module": "@jupyter-widgets/controls",
            "_model_module_version": "1.5.0",
            "_model_name": "HBoxModel",
            "_view_count": null,
            "_view_module": "@jupyter-widgets/controls",
            "_view_module_version": "1.5.0",
            "_view_name": "HBoxView",
            "box_style": "",
            "children": [
<<<<<<< HEAD
              "IPY_MODEL_a2c3db3915b04f35a244e3acb003baaa",
              "IPY_MODEL_55c43d20d3e444bea1099a0169fd06b7",
              "IPY_MODEL_71f6704a10264dbdb311191ff642ab23"
            ],
            "layout": "IPY_MODEL_27ddde2e52154bbea5091ebee653f10a"
          }
        },
        "a2c3db3915b04f35a244e3acb003baaa": {
=======
              "IPY_MODEL_9a25b358fdec4400a0ad8db8d7f8e27a",
              "IPY_MODEL_584c6873d6ab4da3a4149ed31f29bd8b",
              "IPY_MODEL_6ed798df59d24ae6a116dc135fb09fa8"
            ],
            "layout": "IPY_MODEL_0a617272574d4d6bacb561529882a5c8"
          }
        },
        "9a25b358fdec4400a0ad8db8d7f8e27a": {
>>>>>>> b4ba64658fecc98da882c570695b641aa6a87bad
          "model_module": "@jupyter-widgets/controls",
          "model_name": "HTMLModel",
          "model_module_version": "1.5.0",
          "state": {
            "_dom_classes": [],
            "_model_module": "@jupyter-widgets/controls",
            "_model_module_version": "1.5.0",
            "_model_name": "HTMLModel",
            "_view_count": null,
            "_view_module": "@jupyter-widgets/controls",
            "_view_module_version": "1.5.0",
            "_view_name": "HTMLView",
            "description": "",
            "description_tooltip": null,
<<<<<<< HEAD
            "layout": "IPY_MODEL_da15e00b53b042369ab683d1b79750ac",
            "placeholder": "​",
            "style": "IPY_MODEL_70719193bbbe485aa2d896ef0e168508",
            "value": "100%"
          }
        },
        "55c43d20d3e444bea1099a0169fd06b7": {
=======
            "layout": "IPY_MODEL_86c84221ab464394bb7676c4597eea9a",
            "placeholder": "​",
            "style": "IPY_MODEL_2a30b3f838d2436787b2157d67da38f5",
            "value": "100%"
          }
        },
        "584c6873d6ab4da3a4149ed31f29bd8b": {
>>>>>>> b4ba64658fecc98da882c570695b641aa6a87bad
          "model_module": "@jupyter-widgets/controls",
          "model_name": "FloatProgressModel",
          "model_module_version": "1.5.0",
          "state": {
            "_dom_classes": [],
            "_model_module": "@jupyter-widgets/controls",
            "_model_module_version": "1.5.0",
            "_model_name": "FloatProgressModel",
            "_view_count": null,
            "_view_module": "@jupyter-widgets/controls",
            "_view_module_version": "1.5.0",
            "_view_name": "ProgressView",
            "bar_style": "success",
            "description": "",
            "description_tooltip": null,
<<<<<<< HEAD
            "layout": "IPY_MODEL_9b053fca6c75462a9d25837a88277d7a",
            "max": 14,
            "min": 0,
            "orientation": "horizontal",
            "style": "IPY_MODEL_f126dbea42934c72b0ce057df1ae2b09",
            "value": 14
          }
        },
        "71f6704a10264dbdb311191ff642ab23": {
=======
            "layout": "IPY_MODEL_29365ead5044414585aec4dd32729020",
            "max": 2,
            "min": 0,
            "orientation": "horizontal",
            "style": "IPY_MODEL_4b8fc9a44c384c89b7cb393e5e368bbc",
            "value": 2
          }
        },
        "6ed798df59d24ae6a116dc135fb09fa8": {
>>>>>>> b4ba64658fecc98da882c570695b641aa6a87bad
          "model_module": "@jupyter-widgets/controls",
          "model_name": "HTMLModel",
          "model_module_version": "1.5.0",
          "state": {
            "_dom_classes": [],
            "_model_module": "@jupyter-widgets/controls",
            "_model_module_version": "1.5.0",
            "_model_name": "HTMLModel",
            "_view_count": null,
            "_view_module": "@jupyter-widgets/controls",
            "_view_module_version": "1.5.0",
            "_view_name": "HTMLView",
            "description": "",
            "description_tooltip": null,
<<<<<<< HEAD
            "layout": "IPY_MODEL_396c3d1459be4296b3afe087d3a7f460",
            "placeholder": "​",
            "style": "IPY_MODEL_5599cf53be46408a90d60a68f436cc9d",
            "value": " 14/14 [00:01&lt;00:00, 11.62ba/s]"
          }
        },
        "27ddde2e52154bbea5091ebee653f10a": {
=======
            "layout": "IPY_MODEL_13ed26eb160a4861a66c4462317040e4",
            "placeholder": "​",
            "style": "IPY_MODEL_72dad58942df482794b6c6427d0b703c",
            "value": " 2/2 [00:00&lt;00:00,  4.86ba/s]"
          }
        },
        "0a617272574d4d6bacb561529882a5c8": {
>>>>>>> b4ba64658fecc98da882c570695b641aa6a87bad
          "model_module": "@jupyter-widgets/base",
          "model_name": "LayoutModel",
          "model_module_version": "1.2.0",
          "state": {
            "_model_module": "@jupyter-widgets/base",
            "_model_module_version": "1.2.0",
            "_model_name": "LayoutModel",
            "_view_count": null,
            "_view_module": "@jupyter-widgets/base",
            "_view_module_version": "1.2.0",
            "_view_name": "LayoutView",
            "align_content": null,
            "align_items": null,
            "align_self": null,
            "border": null,
            "bottom": null,
            "display": null,
            "flex": null,
            "flex_flow": null,
            "grid_area": null,
            "grid_auto_columns": null,
            "grid_auto_flow": null,
            "grid_auto_rows": null,
            "grid_column": null,
            "grid_gap": null,
            "grid_row": null,
            "grid_template_areas": null,
            "grid_template_columns": null,
            "grid_template_rows": null,
            "height": null,
            "justify_content": null,
            "justify_items": null,
            "left": null,
            "margin": null,
            "max_height": null,
            "max_width": null,
            "min_height": null,
            "min_width": null,
            "object_fit": null,
            "object_position": null,
            "order": null,
            "overflow": null,
            "overflow_x": null,
            "overflow_y": null,
            "padding": null,
            "right": null,
            "top": null,
            "visibility": null,
            "width": null
          }
        },
<<<<<<< HEAD
        "da15e00b53b042369ab683d1b79750ac": {
=======
        "86c84221ab464394bb7676c4597eea9a": {
>>>>>>> b4ba64658fecc98da882c570695b641aa6a87bad
          "model_module": "@jupyter-widgets/base",
          "model_name": "LayoutModel",
          "model_module_version": "1.2.0",
          "state": {
            "_model_module": "@jupyter-widgets/base",
            "_model_module_version": "1.2.0",
            "_model_name": "LayoutModel",
            "_view_count": null,
            "_view_module": "@jupyter-widgets/base",
            "_view_module_version": "1.2.0",
            "_view_name": "LayoutView",
            "align_content": null,
            "align_items": null,
            "align_self": null,
            "border": null,
            "bottom": null,
            "display": null,
            "flex": null,
            "flex_flow": null,
            "grid_area": null,
            "grid_auto_columns": null,
            "grid_auto_flow": null,
            "grid_auto_rows": null,
            "grid_column": null,
            "grid_gap": null,
            "grid_row": null,
            "grid_template_areas": null,
            "grid_template_columns": null,
            "grid_template_rows": null,
            "height": null,
            "justify_content": null,
            "justify_items": null,
            "left": null,
            "margin": null,
            "max_height": null,
            "max_width": null,
            "min_height": null,
            "min_width": null,
            "object_fit": null,
            "object_position": null,
            "order": null,
            "overflow": null,
            "overflow_x": null,
            "overflow_y": null,
            "padding": null,
            "right": null,
            "top": null,
            "visibility": null,
            "width": null
          }
        },
<<<<<<< HEAD
        "70719193bbbe485aa2d896ef0e168508": {
=======
        "2a30b3f838d2436787b2157d67da38f5": {
>>>>>>> b4ba64658fecc98da882c570695b641aa6a87bad
          "model_module": "@jupyter-widgets/controls",
          "model_name": "DescriptionStyleModel",
          "model_module_version": "1.5.0",
          "state": {
            "_model_module": "@jupyter-widgets/controls",
            "_model_module_version": "1.5.0",
            "_model_name": "DescriptionStyleModel",
            "_view_count": null,
            "_view_module": "@jupyter-widgets/base",
            "_view_module_version": "1.2.0",
            "_view_name": "StyleView",
            "description_width": ""
          }
        },
<<<<<<< HEAD
        "9b053fca6c75462a9d25837a88277d7a": {
=======
        "29365ead5044414585aec4dd32729020": {
>>>>>>> b4ba64658fecc98da882c570695b641aa6a87bad
          "model_module": "@jupyter-widgets/base",
          "model_name": "LayoutModel",
          "model_module_version": "1.2.0",
          "state": {
            "_model_module": "@jupyter-widgets/base",
            "_model_module_version": "1.2.0",
            "_model_name": "LayoutModel",
            "_view_count": null,
            "_view_module": "@jupyter-widgets/base",
            "_view_module_version": "1.2.0",
            "_view_name": "LayoutView",
            "align_content": null,
            "align_items": null,
            "align_self": null,
            "border": null,
            "bottom": null,
            "display": null,
            "flex": null,
            "flex_flow": null,
            "grid_area": null,
            "grid_auto_columns": null,
            "grid_auto_flow": null,
            "grid_auto_rows": null,
            "grid_column": null,
            "grid_gap": null,
            "grid_row": null,
            "grid_template_areas": null,
            "grid_template_columns": null,
            "grid_template_rows": null,
            "height": null,
            "justify_content": null,
            "justify_items": null,
            "left": null,
            "margin": null,
            "max_height": null,
            "max_width": null,
            "min_height": null,
            "min_width": null,
            "object_fit": null,
            "object_position": null,
            "order": null,
            "overflow": null,
            "overflow_x": null,
            "overflow_y": null,
            "padding": null,
            "right": null,
            "top": null,
            "visibility": null,
            "width": null
          }
        },
<<<<<<< HEAD
        "f126dbea42934c72b0ce057df1ae2b09": {
=======
        "4b8fc9a44c384c89b7cb393e5e368bbc": {
>>>>>>> b4ba64658fecc98da882c570695b641aa6a87bad
          "model_module": "@jupyter-widgets/controls",
          "model_name": "ProgressStyleModel",
          "model_module_version": "1.5.0",
          "state": {
            "_model_module": "@jupyter-widgets/controls",
            "_model_module_version": "1.5.0",
            "_model_name": "ProgressStyleModel",
            "_view_count": null,
            "_view_module": "@jupyter-widgets/base",
            "_view_module_version": "1.2.0",
            "_view_name": "StyleView",
            "bar_color": null,
            "description_width": ""
          }
        },
<<<<<<< HEAD
        "396c3d1459be4296b3afe087d3a7f460": {
=======
        "13ed26eb160a4861a66c4462317040e4": {
>>>>>>> b4ba64658fecc98da882c570695b641aa6a87bad
          "model_module": "@jupyter-widgets/base",
          "model_name": "LayoutModel",
          "model_module_version": "1.2.0",
          "state": {
            "_model_module": "@jupyter-widgets/base",
            "_model_module_version": "1.2.0",
            "_model_name": "LayoutModel",
            "_view_count": null,
            "_view_module": "@jupyter-widgets/base",
            "_view_module_version": "1.2.0",
            "_view_name": "LayoutView",
            "align_content": null,
            "align_items": null,
            "align_self": null,
            "border": null,
            "bottom": null,
            "display": null,
            "flex": null,
            "flex_flow": null,
            "grid_area": null,
            "grid_auto_columns": null,
            "grid_auto_flow": null,
            "grid_auto_rows": null,
            "grid_column": null,
            "grid_gap": null,
            "grid_row": null,
            "grid_template_areas": null,
            "grid_template_columns": null,
            "grid_template_rows": null,
            "height": null,
            "justify_content": null,
            "justify_items": null,
            "left": null,
            "margin": null,
            "max_height": null,
            "max_width": null,
            "min_height": null,
            "min_width": null,
            "object_fit": null,
            "object_position": null,
            "order": null,
            "overflow": null,
            "overflow_x": null,
            "overflow_y": null,
            "padding": null,
            "right": null,
            "top": null,
            "visibility": null,
            "width": null
          }
        },
<<<<<<< HEAD
        "5599cf53be46408a90d60a68f436cc9d": {
=======
        "72dad58942df482794b6c6427d0b703c": {
>>>>>>> b4ba64658fecc98da882c570695b641aa6a87bad
          "model_module": "@jupyter-widgets/controls",
          "model_name": "DescriptionStyleModel",
          "model_module_version": "1.5.0",
          "state": {
            "_model_module": "@jupyter-widgets/controls",
            "_model_module_version": "1.5.0",
            "_model_name": "DescriptionStyleModel",
            "_view_count": null,
            "_view_module": "@jupyter-widgets/base",
            "_view_module_version": "1.2.0",
            "_view_name": "StyleView",
            "description_width": ""
          }
<<<<<<< HEAD
        },
        "534dce876d2e440996a25c4836bcf8c9": {
          "model_module": "@jupyter-widgets/controls",
          "model_name": "HBoxModel",
          "model_module_version": "1.5.0",
          "state": {
            "_dom_classes": [],
            "_model_module": "@jupyter-widgets/controls",
            "_model_module_version": "1.5.0",
            "_model_name": "HBoxModel",
            "_view_count": null,
            "_view_module": "@jupyter-widgets/controls",
            "_view_module_version": "1.5.0",
            "_view_name": "HBoxView",
            "box_style": "",
            "children": [
              "IPY_MODEL_deb83a11330b44cf9a7e7489ec758b3d",
              "IPY_MODEL_80af05f153e14b9bb05905036837abfb",
              "IPY_MODEL_9663f1c3473b478ab5836c03b23f3ac0"
            ],
            "layout": "IPY_MODEL_ea979d68f8034f5da7d7847d3683e406"
          }
        },
        "deb83a11330b44cf9a7e7489ec758b3d": {
          "model_module": "@jupyter-widgets/controls",
          "model_name": "HTMLModel",
          "model_module_version": "1.5.0",
          "state": {
            "_dom_classes": [],
            "_model_module": "@jupyter-widgets/controls",
            "_model_module_version": "1.5.0",
            "_model_name": "HTMLModel",
            "_view_count": null,
            "_view_module": "@jupyter-widgets/controls",
            "_view_module_version": "1.5.0",
            "_view_name": "HTMLView",
            "description": "",
            "description_tooltip": null,
            "layout": "IPY_MODEL_7f19e35967dd487c88142ab1701d7074",
            "placeholder": "​",
            "style": "IPY_MODEL_6ab365a6d60647a580e7f60a8631a380",
            "value": "100%"
          }
        },
        "80af05f153e14b9bb05905036837abfb": {
          "model_module": "@jupyter-widgets/controls",
          "model_name": "FloatProgressModel",
          "model_module_version": "1.5.0",
          "state": {
            "_dom_classes": [],
            "_model_module": "@jupyter-widgets/controls",
            "_model_module_version": "1.5.0",
            "_model_name": "FloatProgressModel",
            "_view_count": null,
            "_view_module": "@jupyter-widgets/controls",
            "_view_module_version": "1.5.0",
            "_view_name": "ProgressView",
            "bar_style": "success",
            "description": "",
            "description_tooltip": null,
            "layout": "IPY_MODEL_c45fa9ac672444089875a4096c3dbf69",
            "max": 4,
            "min": 0,
            "orientation": "horizontal",
            "style": "IPY_MODEL_a8d704e0b3114b2da99dfe766a4b71ac",
            "value": 4
          }
        },
        "9663f1c3473b478ab5836c03b23f3ac0": {
          "model_module": "@jupyter-widgets/controls",
          "model_name": "HTMLModel",
          "model_module_version": "1.5.0",
          "state": {
            "_dom_classes": [],
            "_model_module": "@jupyter-widgets/controls",
            "_model_module_version": "1.5.0",
            "_model_name": "HTMLModel",
            "_view_count": null,
            "_view_module": "@jupyter-widgets/controls",
            "_view_module_version": "1.5.0",
            "_view_name": "HTMLView",
            "description": "",
            "description_tooltip": null,
            "layout": "IPY_MODEL_ccd58e6e298249a38849dc47a71a0b40",
            "placeholder": "​",
            "style": "IPY_MODEL_bc26cbe31c1841d282c7db123826a6b3",
            "value": " 4/4 [00:00&lt;00:00, 10.53ba/s]"
          }
        },
        "ea979d68f8034f5da7d7847d3683e406": {
          "model_module": "@jupyter-widgets/base",
          "model_name": "LayoutModel",
          "model_module_version": "1.2.0",
          "state": {
            "_model_module": "@jupyter-widgets/base",
            "_model_module_version": "1.2.0",
            "_model_name": "LayoutModel",
            "_view_count": null,
            "_view_module": "@jupyter-widgets/base",
            "_view_module_version": "1.2.0",
            "_view_name": "LayoutView",
            "align_content": null,
            "align_items": null,
            "align_self": null,
            "border": null,
            "bottom": null,
            "display": null,
            "flex": null,
            "flex_flow": null,
            "grid_area": null,
            "grid_auto_columns": null,
            "grid_auto_flow": null,
            "grid_auto_rows": null,
            "grid_column": null,
            "grid_gap": null,
            "grid_row": null,
            "grid_template_areas": null,
            "grid_template_columns": null,
            "grid_template_rows": null,
            "height": null,
            "justify_content": null,
            "justify_items": null,
            "left": null,
            "margin": null,
            "max_height": null,
            "max_width": null,
            "min_height": null,
            "min_width": null,
            "object_fit": null,
            "object_position": null,
            "order": null,
            "overflow": null,
            "overflow_x": null,
            "overflow_y": null,
            "padding": null,
            "right": null,
            "top": null,
            "visibility": null,
            "width": null
          }
        },
        "7f19e35967dd487c88142ab1701d7074": {
          "model_module": "@jupyter-widgets/base",
          "model_name": "LayoutModel",
          "model_module_version": "1.2.0",
          "state": {
            "_model_module": "@jupyter-widgets/base",
            "_model_module_version": "1.2.0",
            "_model_name": "LayoutModel",
            "_view_count": null,
            "_view_module": "@jupyter-widgets/base",
            "_view_module_version": "1.2.0",
            "_view_name": "LayoutView",
            "align_content": null,
            "align_items": null,
            "align_self": null,
            "border": null,
            "bottom": null,
            "display": null,
            "flex": null,
            "flex_flow": null,
            "grid_area": null,
            "grid_auto_columns": null,
            "grid_auto_flow": null,
            "grid_auto_rows": null,
            "grid_column": null,
            "grid_gap": null,
            "grid_row": null,
            "grid_template_areas": null,
            "grid_template_columns": null,
            "grid_template_rows": null,
            "height": null,
            "justify_content": null,
            "justify_items": null,
            "left": null,
            "margin": null,
            "max_height": null,
            "max_width": null,
            "min_height": null,
            "min_width": null,
            "object_fit": null,
            "object_position": null,
            "order": null,
            "overflow": null,
            "overflow_x": null,
            "overflow_y": null,
            "padding": null,
            "right": null,
            "top": null,
            "visibility": null,
            "width": null
          }
        },
        "6ab365a6d60647a580e7f60a8631a380": {
          "model_module": "@jupyter-widgets/controls",
          "model_name": "DescriptionStyleModel",
          "model_module_version": "1.5.0",
          "state": {
            "_model_module": "@jupyter-widgets/controls",
            "_model_module_version": "1.5.0",
            "_model_name": "DescriptionStyleModel",
            "_view_count": null,
            "_view_module": "@jupyter-widgets/base",
            "_view_module_version": "1.2.0",
            "_view_name": "StyleView",
            "description_width": ""
          }
        },
        "c45fa9ac672444089875a4096c3dbf69": {
          "model_module": "@jupyter-widgets/base",
          "model_name": "LayoutModel",
          "model_module_version": "1.2.0",
          "state": {
            "_model_module": "@jupyter-widgets/base",
            "_model_module_version": "1.2.0",
            "_model_name": "LayoutModel",
            "_view_count": null,
            "_view_module": "@jupyter-widgets/base",
            "_view_module_version": "1.2.0",
            "_view_name": "LayoutView",
            "align_content": null,
            "align_items": null,
            "align_self": null,
            "border": null,
            "bottom": null,
            "display": null,
            "flex": null,
            "flex_flow": null,
            "grid_area": null,
            "grid_auto_columns": null,
            "grid_auto_flow": null,
            "grid_auto_rows": null,
            "grid_column": null,
            "grid_gap": null,
            "grid_row": null,
            "grid_template_areas": null,
            "grid_template_columns": null,
            "grid_template_rows": null,
            "height": null,
            "justify_content": null,
            "justify_items": null,
            "left": null,
            "margin": null,
            "max_height": null,
            "max_width": null,
            "min_height": null,
            "min_width": null,
            "object_fit": null,
            "object_position": null,
            "order": null,
            "overflow": null,
            "overflow_x": null,
            "overflow_y": null,
            "padding": null,
            "right": null,
            "top": null,
            "visibility": null,
            "width": null
          }
        },
        "a8d704e0b3114b2da99dfe766a4b71ac": {
          "model_module": "@jupyter-widgets/controls",
          "model_name": "ProgressStyleModel",
          "model_module_version": "1.5.0",
          "state": {
            "_model_module": "@jupyter-widgets/controls",
            "_model_module_version": "1.5.0",
            "_model_name": "ProgressStyleModel",
            "_view_count": null,
            "_view_module": "@jupyter-widgets/base",
            "_view_module_version": "1.2.0",
            "_view_name": "StyleView",
            "bar_color": null,
            "description_width": ""
          }
        },
        "ccd58e6e298249a38849dc47a71a0b40": {
          "model_module": "@jupyter-widgets/base",
          "model_name": "LayoutModel",
          "model_module_version": "1.2.0",
          "state": {
            "_model_module": "@jupyter-widgets/base",
            "_model_module_version": "1.2.0",
            "_model_name": "LayoutModel",
            "_view_count": null,
            "_view_module": "@jupyter-widgets/base",
            "_view_module_version": "1.2.0",
            "_view_name": "LayoutView",
            "align_content": null,
            "align_items": null,
            "align_self": null,
            "border": null,
            "bottom": null,
            "display": null,
            "flex": null,
            "flex_flow": null,
            "grid_area": null,
            "grid_auto_columns": null,
            "grid_auto_flow": null,
            "grid_auto_rows": null,
            "grid_column": null,
            "grid_gap": null,
            "grid_row": null,
            "grid_template_areas": null,
            "grid_template_columns": null,
            "grid_template_rows": null,
            "height": null,
            "justify_content": null,
            "justify_items": null,
            "left": null,
            "margin": null,
            "max_height": null,
            "max_width": null,
            "min_height": null,
            "min_width": null,
            "object_fit": null,
            "object_position": null,
            "order": null,
            "overflow": null,
            "overflow_x": null,
            "overflow_y": null,
            "padding": null,
            "right": null,
            "top": null,
            "visibility": null,
            "width": null
          }
        },
        "bc26cbe31c1841d282c7db123826a6b3": {
          "model_module": "@jupyter-widgets/controls",
          "model_name": "DescriptionStyleModel",
          "model_module_version": "1.5.0",
          "state": {
            "_model_module": "@jupyter-widgets/controls",
            "_model_module_version": "1.5.0",
            "_model_name": "DescriptionStyleModel",
            "_view_count": null,
            "_view_module": "@jupyter-widgets/base",
            "_view_module_version": "1.2.0",
            "_view_name": "StyleView",
            "description_width": ""
          }
        },
        "cf76c1e065bc47c9911828981cec1567": {
          "model_module": "@jupyter-widgets/controls",
          "model_name": "HBoxModel",
          "model_module_version": "1.5.0",
          "state": {
            "_dom_classes": [],
            "_model_module": "@jupyter-widgets/controls",
            "_model_module_version": "1.5.0",
            "_model_name": "HBoxModel",
            "_view_count": null,
            "_view_module": "@jupyter-widgets/controls",
            "_view_module_version": "1.5.0",
            "_view_name": "HBoxView",
            "box_style": "",
            "children": [
              "IPY_MODEL_8209b21974534a409887b6728b72566b",
              "IPY_MODEL_7709c9924ccd4130b4f1b5868a64b7be",
              "IPY_MODEL_7d8678c93f6b42478ef6e35ee84a9e9b"
            ],
            "layout": "IPY_MODEL_555ac9e2854a4d608815546bced6fa26"
          }
        },
        "8209b21974534a409887b6728b72566b": {
          "model_module": "@jupyter-widgets/controls",
          "model_name": "HTMLModel",
          "model_module_version": "1.5.0",
          "state": {
            "_dom_classes": [],
            "_model_module": "@jupyter-widgets/controls",
            "_model_module_version": "1.5.0",
            "_model_name": "HTMLModel",
            "_view_count": null,
            "_view_module": "@jupyter-widgets/controls",
            "_view_module_version": "1.5.0",
            "_view_name": "HTMLView",
            "description": "",
            "description_tooltip": null,
            "layout": "IPY_MODEL_506f85b0eec146a699b23a33b98e060d",
            "placeholder": "​",
            "style": "IPY_MODEL_b4d81672f7e04d11a0dd160a93a07610",
            "value": "100%"
          }
        },
        "7709c9924ccd4130b4f1b5868a64b7be": {
          "model_module": "@jupyter-widgets/controls",
          "model_name": "FloatProgressModel",
          "model_module_version": "1.5.0",
          "state": {
            "_dom_classes": [],
            "_model_module": "@jupyter-widgets/controls",
            "_model_module_version": "1.5.0",
            "_model_name": "FloatProgressModel",
            "_view_count": null,
            "_view_module": "@jupyter-widgets/controls",
            "_view_module_version": "1.5.0",
            "_view_name": "ProgressView",
            "bar_style": "success",
            "description": "",
            "description_tooltip": null,
            "layout": "IPY_MODEL_0c3e9da5d12a4e9ca3ac5b06cdd5129d",
            "max": 2,
            "min": 0,
            "orientation": "horizontal",
            "style": "IPY_MODEL_70d3f1345f7c44fa82af66e9f4fdee79",
            "value": 2
          }
        },
        "7d8678c93f6b42478ef6e35ee84a9e9b": {
          "model_module": "@jupyter-widgets/controls",
          "model_name": "HTMLModel",
          "model_module_version": "1.5.0",
          "state": {
            "_dom_classes": [],
            "_model_module": "@jupyter-widgets/controls",
            "_model_module_version": "1.5.0",
            "_model_name": "HTMLModel",
            "_view_count": null,
            "_view_module": "@jupyter-widgets/controls",
            "_view_module_version": "1.5.0",
            "_view_name": "HTMLView",
            "description": "",
            "description_tooltip": null,
            "layout": "IPY_MODEL_06d3c0fdb5c444ec8f12e4e9b4680bb8",
            "placeholder": "​",
            "style": "IPY_MODEL_74fdb2a38715417db069c0dcf6b168bd",
            "value": " 2/2 [00:00&lt;00:00,  7.63ba/s]"
          }
        },
        "555ac9e2854a4d608815546bced6fa26": {
          "model_module": "@jupyter-widgets/base",
          "model_name": "LayoutModel",
          "model_module_version": "1.2.0",
          "state": {
            "_model_module": "@jupyter-widgets/base",
            "_model_module_version": "1.2.0",
            "_model_name": "LayoutModel",
            "_view_count": null,
            "_view_module": "@jupyter-widgets/base",
            "_view_module_version": "1.2.0",
            "_view_name": "LayoutView",
            "align_content": null,
            "align_items": null,
            "align_self": null,
            "border": null,
            "bottom": null,
            "display": null,
            "flex": null,
            "flex_flow": null,
            "grid_area": null,
            "grid_auto_columns": null,
            "grid_auto_flow": null,
            "grid_auto_rows": null,
            "grid_column": null,
            "grid_gap": null,
            "grid_row": null,
            "grid_template_areas": null,
            "grid_template_columns": null,
            "grid_template_rows": null,
            "height": null,
            "justify_content": null,
            "justify_items": null,
            "left": null,
            "margin": null,
            "max_height": null,
            "max_width": null,
            "min_height": null,
            "min_width": null,
            "object_fit": null,
            "object_position": null,
            "order": null,
            "overflow": null,
            "overflow_x": null,
            "overflow_y": null,
            "padding": null,
            "right": null,
            "top": null,
            "visibility": null,
            "width": null
          }
        },
        "506f85b0eec146a699b23a33b98e060d": {
          "model_module": "@jupyter-widgets/base",
          "model_name": "LayoutModel",
          "model_module_version": "1.2.0",
          "state": {
            "_model_module": "@jupyter-widgets/base",
            "_model_module_version": "1.2.0",
            "_model_name": "LayoutModel",
            "_view_count": null,
            "_view_module": "@jupyter-widgets/base",
            "_view_module_version": "1.2.0",
            "_view_name": "LayoutView",
            "align_content": null,
            "align_items": null,
            "align_self": null,
            "border": null,
            "bottom": null,
            "display": null,
            "flex": null,
            "flex_flow": null,
            "grid_area": null,
            "grid_auto_columns": null,
            "grid_auto_flow": null,
            "grid_auto_rows": null,
            "grid_column": null,
            "grid_gap": null,
            "grid_row": null,
            "grid_template_areas": null,
            "grid_template_columns": null,
            "grid_template_rows": null,
            "height": null,
            "justify_content": null,
            "justify_items": null,
            "left": null,
            "margin": null,
            "max_height": null,
            "max_width": null,
            "min_height": null,
            "min_width": null,
            "object_fit": null,
            "object_position": null,
            "order": null,
            "overflow": null,
            "overflow_x": null,
            "overflow_y": null,
            "padding": null,
            "right": null,
            "top": null,
            "visibility": null,
            "width": null
          }
        },
        "b4d81672f7e04d11a0dd160a93a07610": {
          "model_module": "@jupyter-widgets/controls",
          "model_name": "DescriptionStyleModel",
          "model_module_version": "1.5.0",
          "state": {
            "_model_module": "@jupyter-widgets/controls",
            "_model_module_version": "1.5.0",
            "_model_name": "DescriptionStyleModel",
            "_view_count": null,
            "_view_module": "@jupyter-widgets/base",
            "_view_module_version": "1.2.0",
            "_view_name": "StyleView",
            "description_width": ""
          }
        },
        "0c3e9da5d12a4e9ca3ac5b06cdd5129d": {
          "model_module": "@jupyter-widgets/base",
          "model_name": "LayoutModel",
          "model_module_version": "1.2.0",
          "state": {
            "_model_module": "@jupyter-widgets/base",
            "_model_module_version": "1.2.0",
            "_model_name": "LayoutModel",
            "_view_count": null,
            "_view_module": "@jupyter-widgets/base",
            "_view_module_version": "1.2.0",
            "_view_name": "LayoutView",
            "align_content": null,
            "align_items": null,
            "align_self": null,
            "border": null,
            "bottom": null,
            "display": null,
            "flex": null,
            "flex_flow": null,
            "grid_area": null,
            "grid_auto_columns": null,
            "grid_auto_flow": null,
            "grid_auto_rows": null,
            "grid_column": null,
            "grid_gap": null,
            "grid_row": null,
            "grid_template_areas": null,
            "grid_template_columns": null,
            "grid_template_rows": null,
            "height": null,
            "justify_content": null,
            "justify_items": null,
            "left": null,
            "margin": null,
            "max_height": null,
            "max_width": null,
            "min_height": null,
            "min_width": null,
            "object_fit": null,
            "object_position": null,
            "order": null,
            "overflow": null,
            "overflow_x": null,
            "overflow_y": null,
            "padding": null,
            "right": null,
            "top": null,
            "visibility": null,
            "width": null
          }
        },
        "70d3f1345f7c44fa82af66e9f4fdee79": {
          "model_module": "@jupyter-widgets/controls",
          "model_name": "ProgressStyleModel",
          "model_module_version": "1.5.0",
          "state": {
            "_model_module": "@jupyter-widgets/controls",
            "_model_module_version": "1.5.0",
            "_model_name": "ProgressStyleModel",
            "_view_count": null,
            "_view_module": "@jupyter-widgets/base",
            "_view_module_version": "1.2.0",
            "_view_name": "StyleView",
            "bar_color": null,
            "description_width": ""
          }
        },
        "06d3c0fdb5c444ec8f12e4e9b4680bb8": {
          "model_module": "@jupyter-widgets/base",
          "model_name": "LayoutModel",
          "model_module_version": "1.2.0",
          "state": {
            "_model_module": "@jupyter-widgets/base",
            "_model_module_version": "1.2.0",
            "_model_name": "LayoutModel",
            "_view_count": null,
            "_view_module": "@jupyter-widgets/base",
            "_view_module_version": "1.2.0",
            "_view_name": "LayoutView",
            "align_content": null,
            "align_items": null,
            "align_self": null,
            "border": null,
            "bottom": null,
            "display": null,
            "flex": null,
            "flex_flow": null,
            "grid_area": null,
            "grid_auto_columns": null,
            "grid_auto_flow": null,
            "grid_auto_rows": null,
            "grid_column": null,
            "grid_gap": null,
            "grid_row": null,
            "grid_template_areas": null,
            "grid_template_columns": null,
            "grid_template_rows": null,
            "height": null,
            "justify_content": null,
            "justify_items": null,
            "left": null,
            "margin": null,
            "max_height": null,
            "max_width": null,
            "min_height": null,
            "min_width": null,
            "object_fit": null,
            "object_position": null,
            "order": null,
            "overflow": null,
            "overflow_x": null,
            "overflow_y": null,
            "padding": null,
            "right": null,
            "top": null,
            "visibility": null,
            "width": null
          }
        },
        "74fdb2a38715417db069c0dcf6b168bd": {
          "model_module": "@jupyter-widgets/controls",
          "model_name": "DescriptionStyleModel",
          "model_module_version": "1.5.0",
          "state": {
            "_model_module": "@jupyter-widgets/controls",
            "_model_module_version": "1.5.0",
            "_model_name": "DescriptionStyleModel",
            "_view_count": null,
            "_view_module": "@jupyter-widgets/base",
            "_view_module_version": "1.2.0",
            "_view_name": "StyleView",
            "description_width": ""
          }
        }
      }
    }
  },
  "cells": [
    {
      "cell_type": "markdown",
      "source": [
        "# Domain adaptation\n",
        "\n",
        "In this notebook, domain adaptation techniques were employed using a model trained on masked data to classify the OPArticles ADU dataset."
      ],
      "metadata": {
        "id": "JBLFqcHnRzye"
      }
    },
    {
      "cell_type": "markdown",
      "source": [
        "## Google colab setup"
      ],
      "metadata": {
        "id": "Kplt79TvSN44"
      }
    },
    {
      "cell_type": "code",
      "source": [
        "from google.colab import drive\n",
        "drive.mount('/content/drive')"
      ],
      "metadata": {
        "id": "czvTEfJs44D9"
      },
      "execution_count": null,
      "outputs": []
    },
    {
      "cell_type": "code",
      "source": [
        "!pip install transformers\n",
        "!pip install pandas\n",
        "!pip install datasets\n",
        "!pip install collections\n",
        "!pip install numpy"
      ],
      "metadata": {
        "id": "YnKTVyqSCUYY"
      },
      "execution_count": null,
      "outputs": []
    },
    {
      "cell_type": "markdown",
      "source": [
        "## Base model\n",
        "\n",
        "We chose the [neuralmind/bert-base-portuguese-cased](https://huggingface.co/neuralmind/bert-base-portuguese-cased) model as a base model to train with our masked corpus."
      ],
      "metadata": {
        "id": "zyQxS1tkSRbV"
      }
    },
    {
      "cell_type": "code",
      "execution_count": null,
      "metadata": {
        "colab": {
          "base_uri": "https://localhost:8080/",
          "height": 153,
          "referenced_widgets": [
            "2d6348ce605f4ccf95c13078acd71fae",
            "0249ff05e66f463e8f76f7bc5a6081eb",
            "f104a45e8ede489aa6932d9c2ddf69e3",
            "f013f5afd2ef4fcf9ae6c26f4ae98a2c",
            "11a3f0bdb9dd48eba8deeb751ca356e8",
            "03b6690112884f769154b0fbda1fa99e",
            "b03a0e92aa604c80bddacb10110dad98",
            "4b151282feda4f26a0f5444285866fd4",
            "6f954ae7d62e4593b85496ddcd0d8faa",
            "9859e090396b4f3e92bbf1717f0050c5",
            "114c5d75300440b2b773595c636d1c35",
            "af0024ad37704b2e8d6a3895dc2b6c89",
            "cce481eaa2984ecdb3cc0be191d43dc4",
            "c7919c233253457dbb31d839c55c7145",
            "c4526e61f64c46cf844c3e8b2dde8b4d",
            "416a98c46e97456b91d82649fb9c1147",
            "7233fecc90574f6490b01d4d8b9ce75e",
            "d0fc25819ef84c7ea8cab3857d10aec2",
            "703a0681bb314cb9b7a3299ae338ffb6",
            "6d5de0f3a86340359eb2c5f412cb242c",
            "c53d7d3adaa04123965c7bde6b112bce",
            "4358361835dd4a1e8073bc9dc0b4315c"
          ]
        },
        "id": "41gFfKG3BSqX",
        "outputId": "d927b4f8-ce66-4b67-f02e-033639a91093"
      },
      "outputs": [
        {
          "output_type": "display_data",
          "data": {
            "text/plain": [
              "Downloading:   0%|          | 0.00/647 [00:00<?, ?B/s]"
            ],
            "application/vnd.jupyter.widget-view+json": {
              "version_major": 2,
              "version_minor": 0,
              "model_id": "2d6348ce605f4ccf95c13078acd71fae"
            }
          },
          "metadata": {}
        },
        {
          "output_type": "display_data",
          "data": {
            "text/plain": [
              "Downloading:   0%|          | 0.00/418M [00:00<?, ?B/s]"
            ],
            "application/vnd.jupyter.widget-view+json": {
              "version_major": 2,
              "version_minor": 0,
              "model_id": "af0024ad37704b2e8d6a3895dc2b6c89"
            }
          },
          "metadata": {}
=======
        }
      }
    }
  },
  "cells": [
    {
      "cell_type": "markdown",
      "source": [
        "# Domain adaptation\n",
        "\n",
        "In this notebook, domain adaptation techniques were employed using a model trained on masked data to classify the OPArticles ADU dataset."
      ],
      "metadata": {
        "id": "JBLFqcHnRzye"
      }
    },
    {
      "cell_type": "markdown",
      "source": [
        "## Google colab setup"
      ],
      "metadata": {
        "id": "Kplt79TvSN44"
      }
    },
    {
      "cell_type": "code",
      "source": [
        "from google.colab import drive\n",
        "drive.mount('/content/drive')"
      ],
      "metadata": {
        "id": "czvTEfJs44D9"
      },
      "execution_count": null,
      "outputs": []
    },
    {
      "cell_type": "code",
      "source": [
        "!pip install transformers\n",
        "!pip install pandas\n",
        "!pip install datasets\n",
        "!pip install collections\n",
        "!pip install numpy"
      ],
      "metadata": {
        "id": "YnKTVyqSCUYY"
      },
      "execution_count": null,
      "outputs": []
    },
    {
      "cell_type": "markdown",
      "source": [
        "## Base model\n",
        "\n",
        "We chose the [neuralmind/bert-base-portuguese-cased](https://huggingface.co/neuralmind/bert-base-portuguese-cased) model as a base model to train with our masked corpus."
      ],
      "metadata": {
        "id": "zyQxS1tkSRbV"
      }
    },
    {
      "cell_type": "code",
      "execution_count": 4,
      "metadata": {
        "colab": {
          "base_uri": "https://localhost:8080/",
          "height": 153,
          "referenced_widgets": [
            "3be980d623cb456db5471cbc04dd79ba",
            "ce3edd054390461383cb0a384d2afbd8",
            "68879a7f5d6f49efa9b0cbcc14f0a598",
            "da812fe8d16049cb90c50c898bcc37fc",
            "82dd9ed9bbae4794b53f31687d1f956a",
            "a9515b552b7240a3a68b7283be58b2c3",
            "09336cb94589427fb71cde75387ffd6c",
            "101d65858f834d35b5e4f05b30feab97",
            "2625212b33774f818000afdcf1f2692b",
            "91daa23e75af46efa8bf2302d311b023",
            "46164f24919045f08e834dbcd12dcaa5",
            "17de3b1ad3e8491eb1192bc88e6135fa",
            "c9dfef6e0d1c47bdad1cbe7390ceaac1",
            "b1a3e0c0d527499b946ce0e83e063991",
            "7624fc514f3c4ad0a202a5191debaa78",
            "44386c9044b0424fb0a5cda66a20864b",
            "5cf72444377847e595b25d86695bc64e",
            "d4355326b91045f38d24f2f3b34673c1",
            "a9133b8ce1a846b1bd8a067901f3a473",
            "79d956b9063745a097e335be91d2e696",
            "fbc3b4f7b22e410a91d849598db0a6c3",
            "d2fd2ff45e9a47eb929f371bb371a5ce"
          ]
        },
        "id": "41gFfKG3BSqX",
        "outputId": "da4c6517-7ab3-409f-efd1-d3371b843400"
      },
      "outputs": [
        {
          "output_type": "display_data",
          "data": {
            "text/plain": [
              "Downloading:   0%|          | 0.00/647 [00:00<?, ?B/s]"
            ],
            "application/vnd.jupyter.widget-view+json": {
              "version_major": 2,
              "version_minor": 0,
              "model_id": "3be980d623cb456db5471cbc04dd79ba"
            }
          },
          "metadata": {}
        },
        {
          "output_type": "display_data",
          "data": {
            "text/plain": [
              "Downloading:   0%|          | 0.00/418M [00:00<?, ?B/s]"
            ],
            "application/vnd.jupyter.widget-view+json": {
              "version_major": 2,
              "version_minor": 0,
              "model_id": "17de3b1ad3e8491eb1192bc88e6135fa"
            }
          },
          "metadata": {}
>>>>>>> b4ba64658fecc98da882c570695b641aa6a87bad
        },
        {
          "output_type": "stream",
          "name": "stderr",
          "text": [
            "Some weights of the model checkpoint at neuralmind/bert-base-portuguese-cased were not used when initializing BertForMaskedLM: ['cls.seq_relationship.bias', 'cls.seq_relationship.weight']\n",
            "- This IS expected if you are initializing BertForMaskedLM from the checkpoint of a model trained on another task or with another architecture (e.g. initializing a BertForSequenceClassification model from a BertForPreTraining model).\n",
            "- This IS NOT expected if you are initializing BertForMaskedLM from the checkpoint of a model that you expect to be exactly identical (initializing a BertForSequenceClassification model from a BertForSequenceClassification model).\n"
          ]
        }
      ],
      "source": [
        "from transformers import AutoModelForMaskedLM\n",
        "\n",
        "model_checkpoint = 'neuralmind/bert-base-portuguese-cased'\n",
        "model = AutoModelForMaskedLM.from_pretrained(model_checkpoint)"
      ]
    },
    {
      "cell_type": "code",
      "source": [
        "text = \"Gosto muito de [MASK].\""
      ],
      "metadata": {
        "id": "r5DaqO65Cb9A"
      },
<<<<<<< HEAD
      "execution_count": null,
=======
      "execution_count": 1,
>>>>>>> b4ba64658fecc98da882c570695b641aa6a87bad
      "outputs": []
    },
    {
      "cell_type": "code",
      "source": [
        "from transformers import AutoTokenizer\n",
        "\n",
        "tokenizer = AutoTokenizer.from_pretrained(model_checkpoint)"
      ],
      "metadata": {
<<<<<<< HEAD
        "colab": {
          "base_uri": "https://localhost:8080/",
          "height": 145,
          "referenced_widgets": [
            "0f4cecd0f0fd4e3ebf733baa8c1bbc0e",
            "4462cced08c94de7a3fc3efb989e5286",
            "bec88e813cdc421da4ccb57b39b74192",
            "8862fe376a19465bb5f2751d9cb16473",
            "2fd0a8ea80b9478d9bc8f9a71491e8c5",
            "560a26e95df64c09aa941b0fa4550e15",
            "022bf045a36b41c0ac34bd9d47f93e40",
            "9c3fbcbb3691490390466472eb61b0a9",
            "696ffe33a26d4cb1acc1f22931967256",
            "a363321e238c4db485215e8ec1d67aed",
            "433783611c9b41a3b4dfed2effbcf62c",
            "ab20db21b9dd479d87d3adaf35263d14",
            "6c12dcf1f57641738cf822ba154ee176",
            "4903fb14febd4a07a30acec1b4363255",
            "acdea3c0ce924af5835d650455ff6ed9",
            "286a53cb65b040d2ad85ce365862ee43",
            "a010c1ddb7304ba698b1bd8d171012fc",
            "e122d268ff394d5dbac02297279dfbdd",
            "ce9668627f1042fb8bbb4663a3b6cdcd",
            "1334394b7514455d86d29f6e146516bf",
            "1ade8d2ccf88427aa34475f78b172021",
            "e7ecdebaf54b4924953375bec5b788d6",
            "abeea031a9474d7881025368a82dfd7e",
            "6f212d3cf7b64a0793742b9efd1ba367",
            "dd8c6c96a0b94b14bb1de92a460b2679",
            "fed9f7925c5249b9b34bf736c181da35",
            "0d0106bb02124089b2d9032f9817d755",
            "de432d768b514d5482508c2eb16e8821",
            "4256fa7a214441628349139922df8296",
            "07f9ab9c9de748aaab20d1a145d36e87",
            "02cc4e39cf8c49e79b62318d9094724c",
            "8d04d5d452b542f7aa7b7ddb38f2e95b",
            "c9ac187c84234096ba2921cfc2ab8b76",
            "373400cdc67a4b99b8f6d06f54a84392",
            "25896296fc404683a7112c5ff751e1e3",
            "ec5f2a4da96040c6ba975d116a86a4b5",
            "c27f170f2a374618bc2ef996e3800bd2",
            "b4cb8a7985ad43d49dfc83a8b1a2f7bc",
            "3379e3fc2cd6438b88f7666ec5997e6f",
            "86bc2acd840a4bf9960fb57264708a4d",
            "26a13c8ca48c4aa49b8f4f65c6daf46a",
            "c774237e63054f75b8012b4069cd369b",
            "0763072bf4b54509a207618d0910121e",
            "882ff6286df7446abe4cfc73184ea2f8"
          ]
        },
        "id": "EvaWiIEzCjpQ",
        "outputId": "6829e6a9-45ff-4b8e-af15-bd1cdd0bf7cd"
      },
      "execution_count": null,
      "outputs": [
        {
          "output_type": "display_data",
          "data": {
            "text/plain": [
              "Downloading:   0%|          | 0.00/43.0 [00:00<?, ?B/s]"
            ],
            "application/vnd.jupyter.widget-view+json": {
              "version_major": 2,
              "version_minor": 0,
              "model_id": "0f4cecd0f0fd4e3ebf733baa8c1bbc0e"
            }
          },
          "metadata": {}
        },
        {
          "output_type": "display_data",
          "data": {
            "text/plain": [
              "Downloading:   0%|          | 0.00/205k [00:00<?, ?B/s]"
            ],
            "application/vnd.jupyter.widget-view+json": {
              "version_major": 2,
              "version_minor": 0,
              "model_id": "ab20db21b9dd479d87d3adaf35263d14"
            }
          },
          "metadata": {}
        },
        {
          "output_type": "display_data",
          "data": {
            "text/plain": [
              "Downloading:   0%|          | 0.00/2.00 [00:00<?, ?B/s]"
            ],
            "application/vnd.jupyter.widget-view+json": {
              "version_major": 2,
              "version_minor": 0,
              "model_id": "abeea031a9474d7881025368a82dfd7e"
            }
          },
          "metadata": {}
        },
        {
          "output_type": "display_data",
          "data": {
            "text/plain": [
              "Downloading:   0%|          | 0.00/112 [00:00<?, ?B/s]"
            ],
            "application/vnd.jupyter.widget-view+json": {
              "version_major": 2,
              "version_minor": 0,
              "model_id": "373400cdc67a4b99b8f6d06f54a84392"
            }
          },
          "metadata": {}
        }
      ]
=======
        "id": "EvaWiIEzCjpQ"
      },
      "execution_count": null,
      "outputs": []
>>>>>>> b4ba64658fecc98da882c570695b641aa6a87bad
    },
    {
      "cell_type": "code",
      "source": [
        "import torch\n",
        "\n",
        "inputs = tokenizer(text, return_tensors=\"pt\")\n",
        "token_logits = model(**inputs).logits\n",
        "# Find the location of [MASK] and extract its logits\n",
        "mask_token_index = torch.where(inputs[\"input_ids\"] == tokenizer.mask_token_id)[1]\n",
        "mask_token_logits = token_logits[0, mask_token_index, :]\n",
        "# Pick the [MASK] candidates with the highest logits\n",
        "top_5_tokens = torch.topk(mask_token_logits, 5, dim=1).indices[0].tolist()\n",
        "\n",
        "for token in top_5_tokens:\n",
        "    print(f\"'>>> {text.replace(tokenizer.mask_token, tokenizer.decode([token]))}'\")"
      ],
      "metadata": {
<<<<<<< HEAD
        "colab": {
          "base_uri": "https://localhost:8080/"
        },
        "id": "4aI4ajN5CngY",
        "outputId": "5b2ce192-7b11-4cba-80bd-61fdc455a671"
      },
      "execution_count": null,
      "outputs": [
        {
          "output_type": "stream",
          "name": "stdout",
          "text": [
            "'>>> Gosto muito de ler.'\n",
            "'>>> Gosto muito de escrever.'\n",
            "'>>> Gosto muito de música.'\n",
            "'>>> Gosto muito de futebol.'\n",
            "'>>> Gosto muito de você.'\n"
          ]
        }
      ]
=======
        "id": "4aI4ajN5CngY"
      },
      "execution_count": null,
      "outputs": []
>>>>>>> b4ba64658fecc98da882c570695b641aa6a87bad
    },
    {
      "cell_type": "markdown",
      "source": [
        "## Preprocessing the data"
      ],
      "metadata": {
        "id": "78xnv6v_D9D-"
      }
    },
    {
      "cell_type": "markdown",
      "source": [
        "After importing the model we load the dataset of the whole opinion articles, keeping only the body as this is the only feature we will need."
      ],
      "metadata": {
        "id": "sxLs0jF7S5tq"
      }
    },
    {
      "cell_type": "code",
      "source": [
        "import pandas as pd\n",
        "\n",
        "oparticles = pd.read_excel('/content/drive/Shareddrives/PLN/OpArticles.xlsx')\n",
        "oparticles = oparticles[[\"body\"]]\n",
        "oparticles"
      ],
      "metadata": {
        "colab": {
          "base_uri": "https://localhost:8080/",
          "height": 424
        },
        "id": "Yq_3zrSqMGdI",
<<<<<<< HEAD
        "outputId": "2ea120e3-b925-4238-cbcd-7e0893393cfa"
      },
      "execution_count": null,
=======
        "outputId": "c7dffee0-dfc0-493d-da45-c4164f9b8c75"
      },
      "execution_count": 11,
>>>>>>> b4ba64658fecc98da882c570695b641aa6a87bad
      "outputs": [
        {
          "output_type": "execute_result",
          "data": {
            "text/plain": [
              "                                                  body\n",
              "0    O poeta espanhol António Machado escrevia, uns...\n",
              "1    “O mais excelente quadro posto a uma luz logo ...\n",
              "2    1. As sociedades humanas parecem ser regidas p...\n",
              "3    Este foi um Mundial incrível. Vimos actuações ...\n",
              "4    O futebol sempre foi um jogo aparentemente sim...\n",
              "..                                                 ...\n",
              "368  Era apenas mais um jogo da Lazio, em final de ...\n",
              "369  As eleições europeias no Reino Unido estão a s...\n",
              "370  Estava eu no Brasil, de férias, entretido (e d...\n",
              "371  Passaram mais de 300 dias desde que a Assemble...\n",
              "372  O mês de julho é o mês da primeira fase de can...\n",
              "\n",
              "[373 rows x 1 columns]"
            ],
            "text/html": [
              "\n",
<<<<<<< HEAD
              "  <div id=\"df-7fe40283-91c0-4409-a695-876f34f3aa38\">\n",
=======
              "  <div id=\"df-03c609f2-548a-43e3-bbb0-8578297b41ec\">\n",
>>>>>>> b4ba64658fecc98da882c570695b641aa6a87bad
              "    <div class=\"colab-df-container\">\n",
              "      <div>\n",
              "<style scoped>\n",
              "    .dataframe tbody tr th:only-of-type {\n",
              "        vertical-align: middle;\n",
              "    }\n",
              "\n",
              "    .dataframe tbody tr th {\n",
              "        vertical-align: top;\n",
              "    }\n",
              "\n",
              "    .dataframe thead th {\n",
              "        text-align: right;\n",
              "    }\n",
              "</style>\n",
              "<table border=\"1\" class=\"dataframe\">\n",
              "  <thead>\n",
              "    <tr style=\"text-align: right;\">\n",
              "      <th></th>\n",
              "      <th>body</th>\n",
              "    </tr>\n",
              "  </thead>\n",
              "  <tbody>\n",
              "    <tr>\n",
              "      <th>0</th>\n",
              "      <td>O poeta espanhol António Machado escrevia, uns...</td>\n",
              "    </tr>\n",
              "    <tr>\n",
              "      <th>1</th>\n",
              "      <td>“O mais excelente quadro posto a uma luz logo ...</td>\n",
              "    </tr>\n",
              "    <tr>\n",
              "      <th>2</th>\n",
              "      <td>1. As sociedades humanas parecem ser regidas p...</td>\n",
              "    </tr>\n",
              "    <tr>\n",
              "      <th>3</th>\n",
              "      <td>Este foi um Mundial incrível. Vimos actuações ...</td>\n",
              "    </tr>\n",
              "    <tr>\n",
              "      <th>4</th>\n",
              "      <td>O futebol sempre foi um jogo aparentemente sim...</td>\n",
              "    </tr>\n",
              "    <tr>\n",
              "      <th>...</th>\n",
              "      <td>...</td>\n",
              "    </tr>\n",
              "    <tr>\n",
              "      <th>368</th>\n",
              "      <td>Era apenas mais um jogo da Lazio, em final de ...</td>\n",
              "    </tr>\n",
              "    <tr>\n",
              "      <th>369</th>\n",
              "      <td>As eleições europeias no Reino Unido estão a s...</td>\n",
              "    </tr>\n",
              "    <tr>\n",
              "      <th>370</th>\n",
              "      <td>Estava eu no Brasil, de férias, entretido (e d...</td>\n",
              "    </tr>\n",
              "    <tr>\n",
              "      <th>371</th>\n",
              "      <td>Passaram mais de 300 dias desde que a Assemble...</td>\n",
              "    </tr>\n",
              "    <tr>\n",
              "      <th>372</th>\n",
              "      <td>O mês de julho é o mês da primeira fase de can...</td>\n",
              "    </tr>\n",
              "  </tbody>\n",
              "</table>\n",
              "<p>373 rows × 1 columns</p>\n",
              "</div>\n",
<<<<<<< HEAD
              "      <button class=\"colab-df-convert\" onclick=\"convertToInteractive('df-7fe40283-91c0-4409-a695-876f34f3aa38')\"\n",
=======
              "      <button class=\"colab-df-convert\" onclick=\"convertToInteractive('df-03c609f2-548a-43e3-bbb0-8578297b41ec')\"\n",
>>>>>>> b4ba64658fecc98da882c570695b641aa6a87bad
              "              title=\"Convert this dataframe to an interactive table.\"\n",
              "              style=\"display:none;\">\n",
              "        \n",
              "  <svg xmlns=\"http://www.w3.org/2000/svg\" height=\"24px\"viewBox=\"0 0 24 24\"\n",
              "       width=\"24px\">\n",
              "    <path d=\"M0 0h24v24H0V0z\" fill=\"none\"/>\n",
              "    <path d=\"M18.56 5.44l.94 2.06.94-2.06 2.06-.94-2.06-.94-.94-2.06-.94 2.06-2.06.94zm-11 1L8.5 8.5l.94-2.06 2.06-.94-2.06-.94L8.5 2.5l-.94 2.06-2.06.94zm10 10l.94 2.06.94-2.06 2.06-.94-2.06-.94-.94-2.06-.94 2.06-2.06.94z\"/><path d=\"M17.41 7.96l-1.37-1.37c-.4-.4-.92-.59-1.43-.59-.52 0-1.04.2-1.43.59L10.3 9.45l-7.72 7.72c-.78.78-.78 2.05 0 2.83L4 21.41c.39.39.9.59 1.41.59.51 0 1.02-.2 1.41-.59l7.78-7.78 2.81-2.81c.8-.78.8-2.07 0-2.86zM5.41 20L4 18.59l7.72-7.72 1.47 1.35L5.41 20z\"/>\n",
              "  </svg>\n",
              "      </button>\n",
              "      \n",
              "  <style>\n",
              "    .colab-df-container {\n",
              "      display:flex;\n",
              "      flex-wrap:wrap;\n",
              "      gap: 12px;\n",
              "    }\n",
              "\n",
              "    .colab-df-convert {\n",
              "      background-color: #E8F0FE;\n",
              "      border: none;\n",
              "      border-radius: 50%;\n",
              "      cursor: pointer;\n",
              "      display: none;\n",
              "      fill: #1967D2;\n",
              "      height: 32px;\n",
              "      padding: 0 0 0 0;\n",
              "      width: 32px;\n",
              "    }\n",
              "\n",
              "    .colab-df-convert:hover {\n",
              "      background-color: #E2EBFA;\n",
              "      box-shadow: 0px 1px 2px rgba(60, 64, 67, 0.3), 0px 1px 3px 1px rgba(60, 64, 67, 0.15);\n",
              "      fill: #174EA6;\n",
              "    }\n",
              "\n",
              "    [theme=dark] .colab-df-convert {\n",
              "      background-color: #3B4455;\n",
              "      fill: #D2E3FC;\n",
              "    }\n",
              "\n",
              "    [theme=dark] .colab-df-convert:hover {\n",
              "      background-color: #434B5C;\n",
              "      box-shadow: 0px 1px 3px 1px rgba(0, 0, 0, 0.15);\n",
              "      filter: drop-shadow(0px 1px 2px rgba(0, 0, 0, 0.3));\n",
              "      fill: #FFFFFF;\n",
              "    }\n",
              "  </style>\n",
              "\n",
              "      <script>\n",
              "        const buttonEl =\n",
<<<<<<< HEAD
              "          document.querySelector('#df-7fe40283-91c0-4409-a695-876f34f3aa38 button.colab-df-convert');\n",
=======
              "          document.querySelector('#df-03c609f2-548a-43e3-bbb0-8578297b41ec button.colab-df-convert');\n",
>>>>>>> b4ba64658fecc98da882c570695b641aa6a87bad
              "        buttonEl.style.display =\n",
              "          google.colab.kernel.accessAllowed ? 'block' : 'none';\n",
              "\n",
              "        async function convertToInteractive(key) {\n",
<<<<<<< HEAD
              "          const element = document.querySelector('#df-7fe40283-91c0-4409-a695-876f34f3aa38');\n",
=======
              "          const element = document.querySelector('#df-03c609f2-548a-43e3-bbb0-8578297b41ec');\n",
>>>>>>> b4ba64658fecc98da882c570695b641aa6a87bad
              "          const dataTable =\n",
              "            await google.colab.kernel.invokeFunction('convertToInteractive',\n",
              "                                                     [key], {});\n",
              "          if (!dataTable) return;\n",
              "\n",
              "          const docLinkHtml = 'Like what you see? Visit the ' +\n",
              "            '<a target=\"_blank\" href=https://colab.research.google.com/notebooks/data_table.ipynb>data table notebook</a>'\n",
              "            + ' to learn more about interactive tables.';\n",
              "          element.innerHTML = '';\n",
              "          dataTable['output_type'] = 'display_data';\n",
              "          await google.colab.output.renderOutput(dataTable, element);\n",
              "          const docLink = document.createElement('div');\n",
              "          docLink.innerHTML = docLinkHtml;\n",
              "          element.appendChild(docLink);\n",
              "        }\n",
              "      </script>\n",
              "    </div>\n",
              "  </div>\n",
              "  "
            ]
          },
          "metadata": {},
<<<<<<< HEAD
          "execution_count": 7
=======
          "execution_count": 11
>>>>>>> b4ba64658fecc98da882c570695b641aa6a87bad
        }
      ]
    },
    {
      "cell_type": "markdown",
      "source": [
        "Afterwards, we split the dataset into two subsets for training and testing."
      ],
      "metadata": {
        "id": "N5bEMJlRTGX4"
      }
    },
    {
      "cell_type": "code",
      "source": [
        "from datasets import Dataset\n",
        "\n",
        "opa_dataset = Dataset.from_pandas(oparticles)\n",
        "\n",
        "opa_dataset = opa_dataset.train_test_split(test_size=0.3, shuffle=True, seed=42)\n",
        "\n",
        "opa_dataset"
      ],
      "metadata": {
        "colab": {
          "base_uri": "https://localhost:8080/"
        },
        "id": "LKwNcCvFDdYu",
<<<<<<< HEAD
        "outputId": "61c00ba9-455f-4880-dbbd-e8be933577f7"
      },
      "execution_count": null,
=======
        "outputId": "509fb883-600f-448b-c487-d2ff1054e221"
      },
      "execution_count": 12,
>>>>>>> b4ba64658fecc98da882c570695b641aa6a87bad
      "outputs": [
        {
          "output_type": "execute_result",
          "data": {
            "text/plain": [
              "DatasetDict({\n",
              "    train: Dataset({\n",
              "        features: ['body'],\n",
<<<<<<< HEAD
              "        num_rows: 261\n",
              "    })\n",
              "    test: Dataset({\n",
              "        features: ['body'],\n",
              "        num_rows: 112\n",
=======
              "        num_rows: 298\n",
              "    })\n",
              "    test: Dataset({\n",
              "        features: ['body'],\n",
              "        num_rows: 38\n",
              "    })\n",
              "    validation: Dataset({\n",
              "        features: ['body'],\n",
              "        num_rows: 37\n",
>>>>>>> b4ba64658fecc98da882c570695b641aa6a87bad
              "    })\n",
              "})"
            ]
          },
          "metadata": {},
<<<<<<< HEAD
          "execution_count": 8
=======
          "execution_count": 12
>>>>>>> b4ba64658fecc98da882c570695b641aa6a87bad
        }
      ]
    },
    {
      "cell_type": "code",
      "source": [
        "def tokenize_function(examples):\n",
<<<<<<< HEAD
        "    result = tokenizer(examples[\"body\"])\n",
        "    if tokenizer.is_fast:\n",
        "        result[\"word_ids\"] = [result.word_ids(i) for i in range(len(result[\"input_ids\"]))]\n",
        "    return result\n",
        "\n",
        "\n",
        "# Use batched=True to activate fast multithreading!\n",
=======
        "    return tokenizer(examples[\"body\"])\n",
        "\n",
        "\n",
>>>>>>> b4ba64658fecc98da882c570695b641aa6a87bad
        "tokenized_datasets = opa_dataset.map(\n",
        "    tokenize_function, batched=True, remove_columns=[\"body\"]\n",
        ")\n",
        "tokenized_datasets"
      ],
      "metadata": {
        "colab": {
          "base_uri": "https://localhost:8080/",
<<<<<<< HEAD
          "height": 255,
          "referenced_widgets": [
            "43417d7cb23a4d9eb48d7d651227e060",
            "0a09d560b86e4a13abe9d8870158c984",
            "f92268c08a5c461ea4f4e159f4b6ac68",
            "5a08ee1670c440bbafd1337582145fc7",
            "14db396800944ac6b7d448cac67d7c29",
            "9bf13c8cb6a74f939fb9195cccd47a71",
            "28ac184762b44f03ac32330b77cff1a0",
            "83733b8b6d95476eb380585628c81410",
            "b34eaf5fc39d478c865d695448d3a7e7",
            "7707d7f4cf9249c9bc42c84e748ae13d",
            "c5048fd591a54733950df59a5565584f",
            "ec373f1202fb4682ba38ce412be579aa",
            "909b444eba6743c8893787255fc451f3",
            "3b30d3112f204a85b320ad3aae81377b",
            "62052335290f4e2ebf142c3a9c4232a2",
            "b473f8672d2848c5a0b8c076d0add09a",
            "88329113f2dd4390b7c69377515ab9f9",
            "9aac443b5b0d4373986c99e1d947ecc5",
            "098c5b19e0874cbea60d7930d68d4a07",
            "8aaeeabf31614b21b8025ece8816c8f5",
            "469a899a855c4da897f75e8a22342b56",
            "069cfacf993540d2a235a364a9d2044c"
          ]
        },
        "id": "WB6VsewTD_p6",
        "outputId": "d294815d-c616-4457-d7fe-47d57490c37b"
      },
      "execution_count": null,
=======
          "height": 356,
          "referenced_widgets": [
            "22ce97b557114532867af7a113a3504a",
            "71e8502394c54699aec99fa53745b544",
            "f54c68c89a8d4e7599c147977a320959",
            "3831cd2df11546ba935bd34e5e89ae18",
            "5fd33f6e45b743d381d503473522a83f",
            "c097d2088efe4a94859f70650147323a",
            "0fcb93f16bcc4a429aa5502e21afeb18",
            "33297b198d024e1e9149be9e6ed8ef50",
            "b019ec54512646b78ac2263a048711a5",
            "ba9165205e804f9aac35b794cd8c0c0a",
            "db1729b7e67340a3ae249c485c5405a7",
            "b77dc88ecf204cecb9cc3e08d69b6abe",
            "f4d10f77b33c43d8aaf72f953c0b33bd",
            "b753fdc6f0894113bb15da42d0671d75",
            "c32b2dc3593c4f9c91fe10ea540bc1b2",
            "908302aaccb34df8876f02aa1339ef78",
            "05ed0ac2a77641bfa52f2e99f49fde66",
            "4ad2fd0b53404ea396fc4162c7bdf254",
            "f4a2b250a0a549f59abbf09ca14bf21b",
            "f7de531c34964622abc24de5f886de22",
            "69bd5867ff644b1b98d50790002542d7",
            "c650d0197ee94a4e9699b255415ddb7b",
            "4abc1169435a4d1fa22f029ad3f9b7ca",
            "64a982fde12f4eec9746ad0801b09a4d",
            "4ce822a2c3384fed974b175615424ce6",
            "1359b70f1e5d494184cd3495402a1c4b",
            "9fcfb945526b47d789605e9de0a1a72d",
            "4a49941800064497a651e5e8ac8aa25e",
            "d2fce9f8758f47108b70cfa8c630a321",
            "d358491fe0414b6c8fdcbb9ca5c41753",
            "67a6afa1fb994b9dac4a07a4c8b2eead",
            "bcac03dd45204ec0b079d9dc7533e96a",
            "a9e2fd6d74384acebb0a601880b59668"
          ]
        },
        "id": "WB6VsewTD_p6",
        "outputId": "c4d2420c-00a4-409e-a839-2e7229652f00"
      },
      "execution_count": 13,
>>>>>>> b4ba64658fecc98da882c570695b641aa6a87bad
      "outputs": [
        {
          "output_type": "display_data",
          "data": {
            "text/plain": [
              "  0%|          | 0/1 [00:00<?, ?ba/s]"
            ],
            "application/vnd.jupyter.widget-view+json": {
              "version_major": 2,
              "version_minor": 0,
<<<<<<< HEAD
              "model_id": "43417d7cb23a4d9eb48d7d651227e060"
=======
              "model_id": "22ce97b557114532867af7a113a3504a"
            }
          },
          "metadata": {}
        },
        {
          "output_type": "display_data",
          "data": {
            "text/plain": [
              "  0%|          | 0/1 [00:00<?, ?ba/s]"
            ],
            "application/vnd.jupyter.widget-view+json": {
              "version_major": 2,
              "version_minor": 0,
              "model_id": "b77dc88ecf204cecb9cc3e08d69b6abe"
>>>>>>> b4ba64658fecc98da882c570695b641aa6a87bad
            }
          },
          "metadata": {}
        },
        {
          "output_type": "display_data",
          "data": {
            "text/plain": [
              "  0%|          | 0/1 [00:00<?, ?ba/s]"
            ],
            "application/vnd.jupyter.widget-view+json": {
              "version_major": 2,
              "version_minor": 0,
<<<<<<< HEAD
              "model_id": "ec373f1202fb4682ba38ce412be579aa"
=======
              "model_id": "4abc1169435a4d1fa22f029ad3f9b7ca"
>>>>>>> b4ba64658fecc98da882c570695b641aa6a87bad
            }
          },
          "metadata": {}
        },
        {
          "output_type": "execute_result",
          "data": {
            "text/plain": [
              "DatasetDict({\n",
              "    train: Dataset({\n",
              "        features: ['input_ids', 'token_type_ids', 'attention_mask', 'word_ids'],\n",
<<<<<<< HEAD
              "        num_rows: 261\n",
              "    })\n",
              "    test: Dataset({\n",
              "        features: ['input_ids', 'token_type_ids', 'attention_mask', 'word_ids'],\n",
              "        num_rows: 112\n",
=======
              "        num_rows: 298\n",
              "    })\n",
              "    test: Dataset({\n",
              "        features: ['input_ids', 'token_type_ids', 'attention_mask', 'word_ids'],\n",
              "        num_rows: 38\n",
              "    })\n",
              "    validation: Dataset({\n",
              "        features: ['input_ids', 'token_type_ids', 'attention_mask', 'word_ids'],\n",
              "        num_rows: 37\n",
>>>>>>> b4ba64658fecc98da882c570695b641aa6a87bad
              "    })\n",
              "})"
            ]
          },
          "metadata": {},
<<<<<<< HEAD
          "execution_count": 9
=======
          "execution_count": 13
>>>>>>> b4ba64658fecc98da882c570695b641aa6a87bad
        }
      ]
    },
    {
      "cell_type": "markdown",
      "source": [
        "After the dataset is tokenized we collate all the articles and divide them into equally sized chunks to allow for better compatibility with the models."
      ],
      "metadata": {
        "id": "smlEbU5GWklw"
      }
    },
    {
      "cell_type": "code",
      "source": [
        "chunk_size = 128\n",
        "\n",
        "def group_texts(examples):\n",
        "    # Concatenate all texts\n",
        "    concatenated_examples = {k: sum(examples[k], []) for k in examples.keys()}\n",
        "    # Compute length of concatenated texts\n",
        "    total_length = len(concatenated_examples[list(examples.keys())[0]])\n",
        "    # We drop the last chunk if it's smaller than chunk_size\n",
        "    total_length = (total_length // chunk_size) * chunk_size\n",
        "    # Split by chunks of max_len\n",
        "    result = {\n",
        "        k: [t[i : i + chunk_size] for i in range(0, total_length, chunk_size)]\n",
        "        for k, t in concatenated_examples.items()\n",
        "    }\n",
        "    # Create a new labels column\n",
        "    result[\"labels\"] = result[\"input_ids\"].copy()\n",
        "    return result"
      ],
      "metadata": {
        "id": "JmjRfrDzGH_n"
      },
<<<<<<< HEAD
      "execution_count": null,
=======
      "execution_count": 15,
>>>>>>> b4ba64658fecc98da882c570695b641aa6a87bad
      "outputs": []
    },
    {
      "cell_type": "code",
      "source": [
        "lm_datasets = tokenized_datasets.map(group_texts, batched=True)\n",
        "lm_datasets"
      ],
      "metadata": {
        "colab": {
          "base_uri": "https://localhost:8080/",
<<<<<<< HEAD
          "height": 255,
          "referenced_widgets": [
            "761254c774304ab290ec75cf7431c05c",
            "113a8dde4d234d4da5cc6f198aa26b25",
            "1f13babf1b5a45aebff5b39d09b37584",
            "4ccb27ccb5f0411194ff9385aa0b4857",
            "3f0a620f780f4356ba46afb3722a9181",
            "57e0250b53914470ab6e9110bba19414",
            "3ce972f374764e2f952a0ff0baead54e",
            "3eaae1e286da45898653300540034661",
            "99998b5543854d1e8b3a2ff3a85a45b0",
            "941468b41a8842918f23989dd5a06819",
            "9352389ec4a2484b95ffe2fec79dfdf9",
            "37fe890d1a7849b6ab01a065e8c161c9",
            "22c0b3f056b340fea0208b8f424c0e1f",
            "4c85125ab81f4a94908e7c1720692600",
            "f98ba401b43147c88247c9b7f03cba37",
            "0ac0c2b3062e44cdb3ab5d2bc26df06a",
            "12479843114d49db89faaa6fc0f8a320",
            "7529be625c6a48098dac03eaeaef981e",
            "dda86ae3706d43fb93a3ac2cb84a46ae",
            "8139ef9f2ee74775a2e1275cadbfec2c",
            "0e9e212a09524218b03c3dd3bdf46034",
            "586d5cbca78b4e5d8ba83dd02dae601f"
          ]
        },
        "id": "icTR5wswG-pH",
        "outputId": "b9879a62-8ed8-4c85-bc01-33951db6a616"
      },
      "execution_count": null,
=======
          "height": 356,
          "referenced_widgets": [
            "c98c49f2340a4997a44f8ff00ce8ed93",
            "ea8b82495ea34852a1aaa4cacc2b43a2",
            "2eab69e2a1b14ee885a092ac62e6fd16",
            "52249c8806c5431d8c82f0ac2b8fcdd3",
            "ba31531b8a0344a981564368f91c9c3b",
            "769821c2a09847199c03e01ee053fb2d",
            "97c15f4161334f0ba6a9be862b5b949f",
            "f4e34c5f56bb49038104bc760fc60cca",
            "b315e14bf9c240259a8151a28447edc6",
            "c8e05f9139ab47918b0429e2cb69d6be",
            "0b561abd80e447fba2331d844416843d",
            "cbf35c4428e946f0ade53d956462a452",
            "503cad02cfad4f49b5b93de9b15e7f98",
            "eb1a73b74fb440dd89c266302189f6ce",
            "1a7bbddc7ae646bbbd9ec25a1c4266f4",
            "b992cb3ba39a40d29b7d41558a3ecfd4",
            "8c9ea498ad364d58b09c38080e9f7cf6",
            "49e4dcdf01a9403fa4c01b9453390b32",
            "7050927966a94bcfb46eab12d79c8f2a",
            "298c096c5ced4af9955ee4a8b16942e9",
            "11006d91b5a340cfb79d3807c717b209",
            "3f3fb68bf5344505a5e02510efae97c8",
            "ec24f60a5ddc4ffd892d19b268ce4119",
            "3c63f57b4470414d903d5809e1e6ecae",
            "230b0c1dc94b4bca81ed2d361eae3adb",
            "d4f4e09b47de4ef885279b4167420018",
            "a4a45570506a460b9d3f7a23be0944d1",
            "607f8d4eaa6849d298a3f4b0fded7f74",
            "1fbfe2cea302469e8d976226a42b28c4",
            "1c3b7d5c19d64c83b148f7d5b5e131bc",
            "444b70f4dbcd489bbbb8e46baba9e461",
            "d83d933b89b542bc8b70982ed121d4d9",
            "93ebb1f3e5cc4e3da4681d164943f245"
          ]
        },
        "id": "icTR5wswG-pH",
        "outputId": "c3d97749-a123-44bf-9791-52c8f6d8501b"
      },
      "execution_count": 16,
>>>>>>> b4ba64658fecc98da882c570695b641aa6a87bad
      "outputs": [
        {
          "output_type": "display_data",
          "data": {
            "text/plain": [
              "  0%|          | 0/1 [00:00<?, ?ba/s]"
            ],
            "application/vnd.jupyter.widget-view+json": {
              "version_major": 2,
              "version_minor": 0,
<<<<<<< HEAD
              "model_id": "761254c774304ab290ec75cf7431c05c"
=======
              "model_id": "c98c49f2340a4997a44f8ff00ce8ed93"
            }
          },
          "metadata": {}
        },
        {
          "output_type": "display_data",
          "data": {
            "text/plain": [
              "  0%|          | 0/1 [00:00<?, ?ba/s]"
            ],
            "application/vnd.jupyter.widget-view+json": {
              "version_major": 2,
              "version_minor": 0,
              "model_id": "cbf35c4428e946f0ade53d956462a452"
>>>>>>> b4ba64658fecc98da882c570695b641aa6a87bad
            }
          },
          "metadata": {}
        },
        {
          "output_type": "display_data",
          "data": {
            "text/plain": [
              "  0%|          | 0/1 [00:00<?, ?ba/s]"
            ],
            "application/vnd.jupyter.widget-view+json": {
              "version_major": 2,
              "version_minor": 0,
<<<<<<< HEAD
              "model_id": "37fe890d1a7849b6ab01a065e8c161c9"
=======
              "model_id": "ec24f60a5ddc4ffd892d19b268ce4119"
>>>>>>> b4ba64658fecc98da882c570695b641aa6a87bad
            }
          },
          "metadata": {}
        },
        {
          "output_type": "execute_result",
          "data": {
            "text/plain": [
              "DatasetDict({\n",
              "    train: Dataset({\n",
              "        features: ['input_ids', 'token_type_ids', 'attention_mask', 'word_ids', 'labels'],\n",
<<<<<<< HEAD
              "        num_rows: 2306\n",
              "    })\n",
              "    test: Dataset({\n",
              "        features: ['input_ids', 'token_type_ids', 'attention_mask', 'word_ids', 'labels'],\n",
              "        num_rows: 953\n",
=======
              "        num_rows: 2611\n",
              "    })\n",
              "    test: Dataset({\n",
              "        features: ['input_ids', 'token_type_ids', 'attention_mask', 'word_ids', 'labels'],\n",
              "        num_rows: 341\n",
              "    })\n",
              "    validation: Dataset({\n",
              "        features: ['input_ids', 'token_type_ids', 'attention_mask', 'word_ids', 'labels'],\n",
              "        num_rows: 308\n",
>>>>>>> b4ba64658fecc98da882c570695b641aa6a87bad
              "    })\n",
              "})"
            ]
          },
          "metadata": {},
<<<<<<< HEAD
          "execution_count": 11
=======
          "execution_count": 16
>>>>>>> b4ba64658fecc98da882c570695b641aa6a87bad
        }
      ]
    },
    {
      "cell_type": "markdown",
      "source": [
        "## Fine tuning with Trainer\n",
        "\n",
        "With our data ready we will finetune the model using the Trainer API. Before we do so, a final preprocessing step is needed: masking some parts of the dataset.\n",
        "\n",
        "The `transformers` library has functionality for this but it ignores word boundaries, so alternatively, we can define a masking function that masks whole words only. We have tried both approaches."
      ],
      "metadata": {
        "id": "iI5waLQXH_As"
      }
    },
    {
      "cell_type": "code",
      "source": [
        "from transformers import DataCollatorForLanguageModeling\n",
        "\n",
<<<<<<< HEAD
        "data_collator = DataCollatorForLanguageModeling(tokenizer=tokenizer, mlm_probability=0.15)"
      ],
      "metadata": {
        "id": "Sux8aqVCIBlT"
      },
      "execution_count": null,
=======
        "data_collator = DataCollatorForLanguageModeling(tokenizer=tokenizer, mlm_probability=0.15)"
      ],
      "metadata": {
        "id": "Sux8aqVCIBlT"
      },
      "execution_count": 17,
      "outputs": []
    },
    {
      "cell_type": "code",
      "source": [
        "samples = [lm_datasets[\"train\"][i] for i in range(2)]\n",
        "for sample in samples:\n",
        "    _ = sample.pop(\"word_ids\")\n",
        "\n",
        "# builtin transformers collator\n",
        "for chunk in data_collator(samples)[\"input_ids\"]:\n",
        "    print(f\"\\n'>>> {tokenizer.decode(chunk)}'\")"
      ],
      "metadata": {
        "colab": {
          "base_uri": "https://localhost:8080/"
        },
        "id": "A-_jYZK9KlFS",
        "outputId": "2cace3c0-7ab6-40d7-eaf7-2e81e77fa1ec"
      },
      "execution_count": 18,
      "outputs": [
        {
          "output_type": "stream",
          "name": "stdout",
          "text": [
            "\n",
            "'>>> [CLS] Segundo um artigo que [MASK] a [MASK] página do [MASK]ÚBLICO de 13 de Abril, a [MASK] dos Médicos entende que os clínicos de família não [MASK] passar atestados para condução de veículos ou porte de arma aos [MASK]tentes que a eles [MASK]m porque a [MASK] de tais atestados deve estar isenta de “ impedimentos e suspeições ”, o que poderá não [MASK] em diversas circunstâncias. Infelizmente, o problema não se circunscreve aos médicos. Em várias outras profissões reguladas, os atestados [MASK] declarações e termos [MASK] responsabilidade servem de base a autor [MASK], licenças e outras decisões'\n",
            "\n",
            "'>>> processuais cujos efeitos, tal como a condução de veículos e o uso e [MASK] de [MASK], podem [MASK] a segurança de pessoas e bens. É o [MASK] do licenciamento municipaḻ obras, em particular de reabilitação. De acordo com o respetivo regime jurídico, uma declaração do técnico autor do projeto [MASK] que são observadas as opções de [MASK] adequadas obtendo segurança estrutural e sí빲mica do edifício dispensa a câmara de qualquer verifica [MASK]. Em consequência, a própria regulamentação camarária remete muitas das [MASK] para relatórios [MASK] pareceres assinados por engenheiros [MASK] Por [MASK], no caso da Câmara Municipal de Lisboa [MASK] que põe [MASK] [MASK] dos'\n"
          ]
        }
      ]
    },
    {
      "cell_type": "code",
      "source": [
        "import collections\n",
        "import numpy as np\n",
        "\n",
        "from transformers import default_data_collator\n",
        "\n",
        "wwm_probability = 0.2\n",
        "\n",
        "\n",
        "def whole_word_masking_data_collator(features):\n",
        "    for feature in features:\n",
        "        word_ids = feature.pop(\"word_ids\")\n",
        "\n",
        "        # Create a map between words and corresponding token indices\n",
        "        mapping = collections.defaultdict(list)\n",
        "        current_word_index = -1\n",
        "        current_word = None\n",
        "        for idx, word_id in enumerate(word_ids):\n",
        "            if word_id is not None:\n",
        "                if word_id != current_word:\n",
        "                    current_word = word_id\n",
        "                    current_word_index += 1\n",
        "                mapping[current_word_index].append(idx)\n",
        "\n",
        "        # Randomly mask words\n",
        "        mask = np.random.binomial(1, wwm_probability, (len(mapping),))\n",
        "        input_ids = feature[\"input_ids\"]\n",
        "        labels = feature[\"labels\"]\n",
        "        new_labels = [-100] * len(labels)\n",
        "        for word_id in np.where(mask)[0]:\n",
        "            word_id = word_id.item()\n",
        "            for idx in mapping[word_id]:\n",
        "                new_labels[idx] = labels[idx]\n",
        "                input_ids[idx] = tokenizer.mask_token_id\n",
        "\n",
        "    return default_data_collator(features)"
      ],
      "metadata": {
        "id": "z9VTCYaJT4fl"
      },
      "execution_count": 19,
>>>>>>> b4ba64658fecc98da882c570695b641aa6a87bad
      "outputs": []
    },
    {
      "cell_type": "code",
      "source": [
        "samples = [lm_datasets[\"train\"][i] for i in range(2)]\n",
<<<<<<< HEAD
        "for sample in samples:\n",
        "    _ = sample.pop(\"word_ids\")\n",
        "\n",
        "for chunk in data_collator(samples)[\"input_ids\"]:\n",
=======
        "batch = whole_word_masking_data_collator(samples)\n",
        "\n",
        "# whole word masking collator\n",
        "for chunk in batch[\"input_ids\"]:\n",
>>>>>>> b4ba64658fecc98da882c570695b641aa6a87bad
        "    print(f\"\\n'>>> {tokenizer.decode(chunk)}'\")"
      ],
      "metadata": {
        "colab": {
          "base_uri": "https://localhost:8080/"
        },
<<<<<<< HEAD
        "id": "A-_jYZK9KlFS",
        "outputId": "31ab914e-eec1-42ea-9d71-c09ed45d5a1b"
      },
      "execution_count": null,
=======
        "id": "WU-hqTu2Uvee",
        "outputId": "282f0d3f-e4df-42ae-bc63-9959caea5c3a"
      },
      "execution_count": 20,
>>>>>>> b4ba64658fecc98da882c570695b641aa6a87bad
      "outputs": [
        {
          "output_type": "stream",
          "name": "stdout",
          "text": [
            "\n",
<<<<<<< HEAD
            "'>>> [CLS] 1. O debate no mundo ocidental vai - se cent [MASK] cada [MASK] mais na [MASK] popul [MASK]. Os populistas, acossados, entre outras reivindicações [MASK] pelo fenó [MASK] migratório oriundo de África, Ásia e América Central [MASK] [MASK] como os passado [MASK], [MASK] [MASK] com [MASK] imigração, dadas as votações crescentes nas urnas. Sim, os populistas, cient [MASK] dos desequilíbrios da globalização, agudiz [MASK] com conflitos nas regiões menos prósperas, têm explorado com mes coroado o desespero de parte [MASK] [MASK] [MASK], entregando - lhe o culpado fácil [MASK] o [MASK]nte / refugiado'\n",
            "\n",
            "'>>> , perante [MASK] passividade inquietante dos moderados que preferem nãoⲟ no assunto, que [MASK] amplo [MASK] complexo [MASK] exigindo [MASK] por isso [MASK] [MASK] abordagem séria e cora [MASK] [MASK]. A indiferença é anuente com [MASK], a [MASK] vistos, perigosas! Por isso [MASK] importa - nos como [MASK], [MASK] parte implicada nesta problemática [MASK] tec Jackson [MASK] [MASK] [MASK] e propor [MASK] [MASK] podem [MASK] a mitigar este [MASK]meno que muito nos tem revolvido as entranhas. 2. [MASK] quem não anda [MASK] familiarizado com a questão [MASK] repartição demográfica, convém reportar ampliação África, [MASK] dados recentes'\n"
=======
            "'>>> [CLS] Segundo [MASK] artigo que fez a primeira [MASK] do PÚBLICO [MASK] 13 de Abril, a Ordem dos Médicos entende que os [MASK] [MASK] de família não devem passar [MASK] [MASK] [MASK] [MASK] condução de veículos [MASK] porte de [MASK] aos utentes que a eles recorrem porque a emissão de tais [MASK] [MASK] [MASK] deve [MASK] isenta de [MASK] impedimentos e suspeições ”, [MASK] que poderá não [MASK] em [MASK] [MASK]. Infelizmente [MASK] o problema não se circunscreve aos médicos [MASK] [MASK] várias outras profissões reguladas, os [MASK] [MASK] [MASK], declarações e termos de responsabilidade servem de base a autorizações, licenças e outras decisões'\n",
            "\n",
            "'>>> processuais cujos efeitos, tal como a condução de veículos e o [MASK] e porte de arma, [MASK] envolver a segurança de pessoas e bens. [MASK] [MASK] caso do licenciamento municipal de obras [MASK] em particular de [MASK]. De [MASK] com [MASK] respetivo regime jurídico [MASK] uma declaração do técnico [MASK] do projeto [MASK] que [MASK] observadas as opções de [MASK] adequadas à segurança [MASK] e sísmica do edifício dispensa a [MASK] de [MASK] verificação. Em consequência, [MASK] [MASK] regulamentação camarária remete muitas [MASK] [MASK] para relatórios e [MASK] [MASK] assinados por engenheiros. Por exemplo, no caso da Câmara Municipal de Lisboa [MASK] que põe à [MASK] [MASK]'\n"
>>>>>>> b4ba64658fecc98da882c570695b641aa6a87bad
          ]
        }
      ]
    },
    {
      "cell_type": "markdown",
      "source": [
        "## Training the masked model\n",
        "\n",
        "With data prepped we can now create the trainer that will finetune the base model based on our masked data."
      ],
      "metadata": {
        "id": "Z_iXOo1ZYpQX"
      }
    },
    {
      "cell_type": "code",
      "source": [
        "from transformers import TrainingArguments\n",
        "\n",
        "batch_size = 64\n",
        "\n",
        "training_args = TrainingArguments(\n",
        "    output_dir=f\"./results\",\n",
        "    overwrite_output_dir=True,\n",
        "    evaluation_strategy=\"epoch\",\n",
        "    save_strategy=\"epoch\",\n",
        "    num_train_epochs=10,\n",
        "    learning_rate=2e-5,\n",
        "    weight_decay=0.01,\n",
        "    data_seed=42,\n",
        "    per_device_train_batch_size=batch_size,\n",
        "    per_device_eval_batch_size=batch_size,\n",
        "    load_best_model_at_end=True,\n",
        ")"
      ],
      "metadata": {
        "id": "sVXh-DhWViqK"
      },
<<<<<<< HEAD
      "execution_count": null,
=======
      "execution_count": 21,
>>>>>>> b4ba64658fecc98da882c570695b641aa6a87bad
      "outputs": []
    },
    {
      "cell_type": "code",
      "source": [
        "from transformers import Trainer\n",
        "\n",
        "trainer_dc = Trainer(\n",
        "    model=model,\n",
        "    args=training_args,\n",
        "    train_dataset=lm_datasets[\"train\"],\n",
        "    eval_dataset=lm_datasets[\"test\"],\n",
        "    data_collator=data_collator,\n",
<<<<<<< HEAD
=======
        ")\n",
        "\n",
        "trainer_cc = Trainer(\n",
        "    model=model,\n",
        "    args=training_args,\n",
        "    train_dataset=lm_datasets[\"train\"],\n",
        "    eval_dataset=lm_datasets[\"test\"],\n",
        "    data_collator=whole_word_masking_data_collator,\n",
>>>>>>> b4ba64658fecc98da882c570695b641aa6a87bad
        ")"
      ],
      "metadata": {
        "id": "KlgcBI9eXBj7"
      },
<<<<<<< HEAD
      "execution_count": null,
=======
      "execution_count": 23,
>>>>>>> b4ba64658fecc98da882c570695b641aa6a87bad
      "outputs": []
    },
    {
      "cell_type": "code",
      "source": [
        "trainer_dc.train()"
      ],
      "metadata": {
        "colab": {
          "base_uri": "https://localhost:8080/",
<<<<<<< HEAD
          "height": 1000
        },
        "id": "Nt1oYuWhXsTu",
        "outputId": "eaa9d947-bf70-449b-c5e8-509bc9c00f4e"
      },
      "execution_count": null,
=======
          "height": 598
        },
        "id": "Nt1oYuWhXsTu",
        "outputId": "076ce3d9-7d31-4715-d3da-355454000a87"
      },
      "execution_count": 24,
>>>>>>> b4ba64658fecc98da882c570695b641aa6a87bad
      "outputs": [
        {
          "output_type": "stream",
          "name": "stderr",
          "text": [
            "The following columns in the training set don't have a corresponding argument in `BertForMaskedLM.forward` and have been ignored: word_ids. If word_ids are not expected by `BertForMaskedLM.forward`,  you can safely ignore this message.\n",
            "/usr/local/lib/python3.7/dist-packages/transformers/optimization.py:309: FutureWarning: This implementation of AdamW is deprecated and will be removed in a future version. Use the PyTorch implementation torch.optim.AdamW instead, or set `no_deprecation_warning=True` to disable this warning\n",
            "  FutureWarning,\n",
            "***** Running training *****\n",
<<<<<<< HEAD
            "  Num examples = 2306\n",
=======
            "  Num examples = 2611\n",
>>>>>>> b4ba64658fecc98da882c570695b641aa6a87bad
            "  Num Epochs = 10\n",
            "  Instantaneous batch size per device = 64\n",
            "  Total train batch size (w. parallel, distributed & accumulation) = 64\n",
            "  Gradient Accumulation steps = 1\n",
<<<<<<< HEAD
            "  Total optimization steps = 370\n"
=======
            "  Total optimization steps = 410\n"
>>>>>>> b4ba64658fecc98da882c570695b641aa6a87bad
          ]
        },
        {
          "output_type": "display_data",
          "data": {
            "text/plain": [
              "<IPython.core.display.HTML object>"
            ],
            "text/html": [
              "\n",
              "    <div>\n",
              "      \n",
<<<<<<< HEAD
              "      <progress value='370' max='370' style='width:300px; height:20px; vertical-align: middle;'></progress>\n",
              "      [370/370 13:23, Epoch 10/10]\n",
=======
              "      <progress value='10' max='410' style='width:300px; height:20px; vertical-align: middle;'></progress>\n",
              "      [ 10/410 00:12 < 10:13, 0.65 it/s, Epoch 0.22/10]\n",
>>>>>>> b4ba64658fecc98da882c570695b641aa6a87bad
              "    </div>\n",
              "    <table border=\"1\" class=\"dataframe\">\n",
              "  <thead>\n",
              " <tr style=\"text-align: left;\">\n",
              "      <th>Epoch</th>\n",
              "      <th>Training Loss</th>\n",
              "      <th>Validation Loss</th>\n",
              "    </tr>\n",
              "  </thead>\n",
              "  <tbody>\n",
<<<<<<< HEAD
              "    <tr>\n",
              "      <td>1</td>\n",
              "      <td>No log</td>\n",
              "      <td>1.912010</td>\n",
              "    </tr>\n",
              "    <tr>\n",
              "      <td>2</td>\n",
              "      <td>No log</td>\n",
              "      <td>1.888229</td>\n",
              "    </tr>\n",
              "    <tr>\n",
              "      <td>3</td>\n",
              "      <td>No log</td>\n",
              "      <td>1.851818</td>\n",
              "    </tr>\n",
              "    <tr>\n",
              "      <td>4</td>\n",
              "      <td>No log</td>\n",
              "      <td>1.834873</td>\n",
              "    </tr>\n",
              "    <tr>\n",
              "      <td>5</td>\n",
              "      <td>No log</td>\n",
              "      <td>1.799981</td>\n",
              "    </tr>\n",
              "    <tr>\n",
              "      <td>6</td>\n",
              "      <td>No log</td>\n",
              "      <td>1.804453</td>\n",
              "    </tr>\n",
              "    <tr>\n",
              "      <td>7</td>\n",
              "      <td>No log</td>\n",
              "      <td>1.782689</td>\n",
              "    </tr>\n",
              "    <tr>\n",
              "      <td>8</td>\n",
              "      <td>No log</td>\n",
              "      <td>1.764677</td>\n",
              "    </tr>\n",
              "    <tr>\n",
              "      <td>9</td>\n",
              "      <td>No log</td>\n",
              "      <td>1.802975</td>\n",
              "    </tr>\n",
              "    <tr>\n",
              "      <td>10</td>\n",
              "      <td>No log</td>\n",
              "      <td>1.791921</td>\n",
              "    </tr>\n",
=======
>>>>>>> b4ba64658fecc98da882c570695b641aa6a87bad
              "  </tbody>\n",
              "</table><p>"
            ]
          },
          "metadata": {}
        },
        {
<<<<<<< HEAD
          "output_type": "stream",
          "name": "stderr",
          "text": [
            "The following columns in the evaluation set don't have a corresponding argument in `BertForMaskedLM.forward` and have been ignored: word_ids. If word_ids are not expected by `BertForMaskedLM.forward`,  you can safely ignore this message.\n",
            "***** Running Evaluation *****\n",
            "  Num examples = 953\n",
            "  Batch size = 64\n",
            "Saving model checkpoint to ./results/checkpoint-37\n",
            "Configuration saved in ./results/checkpoint-37/config.json\n",
            "Model weights saved in ./results/checkpoint-37/pytorch_model.bin\n",
            "The following columns in the evaluation set don't have a corresponding argument in `BertForMaskedLM.forward` and have been ignored: word_ids. If word_ids are not expected by `BertForMaskedLM.forward`,  you can safely ignore this message.\n",
            "***** Running Evaluation *****\n",
            "  Num examples = 953\n",
            "  Batch size = 64\n",
            "Saving model checkpoint to ./results/checkpoint-74\n",
            "Configuration saved in ./results/checkpoint-74/config.json\n",
            "Model weights saved in ./results/checkpoint-74/pytorch_model.bin\n",
            "The following columns in the evaluation set don't have a corresponding argument in `BertForMaskedLM.forward` and have been ignored: word_ids. If word_ids are not expected by `BertForMaskedLM.forward`,  you can safely ignore this message.\n",
            "***** Running Evaluation *****\n",
            "  Num examples = 953\n",
            "  Batch size = 64\n",
            "Saving model checkpoint to ./results/checkpoint-111\n",
            "Configuration saved in ./results/checkpoint-111/config.json\n",
            "Model weights saved in ./results/checkpoint-111/pytorch_model.bin\n",
            "The following columns in the evaluation set don't have a corresponding argument in `BertForMaskedLM.forward` and have been ignored: word_ids. If word_ids are not expected by `BertForMaskedLM.forward`,  you can safely ignore this message.\n",
            "***** Running Evaluation *****\n",
            "  Num examples = 953\n",
            "  Batch size = 64\n",
            "Saving model checkpoint to ./results/checkpoint-148\n",
            "Configuration saved in ./results/checkpoint-148/config.json\n",
            "Model weights saved in ./results/checkpoint-148/pytorch_model.bin\n",
            "The following columns in the evaluation set don't have a corresponding argument in `BertForMaskedLM.forward` and have been ignored: word_ids. If word_ids are not expected by `BertForMaskedLM.forward`,  you can safely ignore this message.\n",
            "***** Running Evaluation *****\n",
            "  Num examples = 953\n",
            "  Batch size = 64\n",
            "Saving model checkpoint to ./results/checkpoint-185\n",
            "Configuration saved in ./results/checkpoint-185/config.json\n",
            "Model weights saved in ./results/checkpoint-185/pytorch_model.bin\n",
            "The following columns in the evaluation set don't have a corresponding argument in `BertForMaskedLM.forward` and have been ignored: word_ids. If word_ids are not expected by `BertForMaskedLM.forward`,  you can safely ignore this message.\n",
            "***** Running Evaluation *****\n",
            "  Num examples = 953\n",
            "  Batch size = 64\n",
            "Saving model checkpoint to ./results/checkpoint-222\n",
            "Configuration saved in ./results/checkpoint-222/config.json\n",
            "Model weights saved in ./results/checkpoint-222/pytorch_model.bin\n",
            "The following columns in the evaluation set don't have a corresponding argument in `BertForMaskedLM.forward` and have been ignored: word_ids. If word_ids are not expected by `BertForMaskedLM.forward`,  you can safely ignore this message.\n",
            "***** Running Evaluation *****\n",
            "  Num examples = 953\n",
            "  Batch size = 64\n",
            "Saving model checkpoint to ./results/checkpoint-259\n",
            "Configuration saved in ./results/checkpoint-259/config.json\n",
            "Model weights saved in ./results/checkpoint-259/pytorch_model.bin\n",
            "The following columns in the evaluation set don't have a corresponding argument in `BertForMaskedLM.forward` and have been ignored: word_ids. If word_ids are not expected by `BertForMaskedLM.forward`,  you can safely ignore this message.\n",
            "***** Running Evaluation *****\n",
            "  Num examples = 953\n",
            "  Batch size = 64\n",
            "Saving model checkpoint to ./results/checkpoint-296\n",
            "Configuration saved in ./results/checkpoint-296/config.json\n",
            "Model weights saved in ./results/checkpoint-296/pytorch_model.bin\n",
            "The following columns in the evaluation set don't have a corresponding argument in `BertForMaskedLM.forward` and have been ignored: word_ids. If word_ids are not expected by `BertForMaskedLM.forward`,  you can safely ignore this message.\n",
            "***** Running Evaluation *****\n",
            "  Num examples = 953\n",
            "  Batch size = 64\n",
            "Saving model checkpoint to ./results/checkpoint-333\n",
            "Configuration saved in ./results/checkpoint-333/config.json\n",
            "Model weights saved in ./results/checkpoint-333/pytorch_model.bin\n",
            "The following columns in the evaluation set don't have a corresponding argument in `BertForMaskedLM.forward` and have been ignored: word_ids. If word_ids are not expected by `BertForMaskedLM.forward`,  you can safely ignore this message.\n",
            "***** Running Evaluation *****\n",
            "  Num examples = 953\n",
            "  Batch size = 64\n",
            "Saving model checkpoint to ./results/checkpoint-370\n",
            "Configuration saved in ./results/checkpoint-370/config.json\n",
            "Model weights saved in ./results/checkpoint-370/pytorch_model.bin\n",
            "\n",
            "\n",
            "Training completed. Do not forget to share your model on huggingface.co/models =)\n",
            "\n",
            "\n",
            "Loading best model from ./results/checkpoint-296 (score: 1.7646774053573608).\n"
          ]
        },
        {
          "output_type": "execute_result",
          "data": {
            "text/plain": [
              "TrainOutput(global_step=370, training_loss=1.8956955368454391, metrics={'train_runtime': 805.1293, 'train_samples_per_second': 28.641, 'train_steps_per_second': 0.46, 'total_flos': 1517362852853760.0, 'train_loss': 1.8956955368454391, 'epoch': 10.0})"
            ]
          },
          "metadata": {},
          "execution_count": 25
=======
          "output_type": "error",
          "ename": "KeyboardInterrupt",
          "evalue": "ignored",
          "traceback": [
            "\u001b[0;31m---------------------------------------------------------------------------\u001b[0m",
            "\u001b[0;31mKeyboardInterrupt\u001b[0m                         Traceback (most recent call last)",
            "\u001b[0;32m<ipython-input-24-3435b262f1ae>\u001b[0m in \u001b[0;36m<module>\u001b[0;34m()\u001b[0m\n\u001b[0;32m----> 1\u001b[0;31m \u001b[0mtrainer\u001b[0m\u001b[0;34m.\u001b[0m\u001b[0mtrain\u001b[0m\u001b[0;34m(\u001b[0m\u001b[0;34m)\u001b[0m\u001b[0;34m\u001b[0m\u001b[0;34m\u001b[0m\u001b[0m\n\u001b[0m",
            "\u001b[0;32m/usr/local/lib/python3.7/dist-packages/transformers/trainer.py\u001b[0m in \u001b[0;36mtrain\u001b[0;34m(self, resume_from_checkpoint, trial, ignore_keys_for_eval, **kwargs)\u001b[0m\n\u001b[1;32m   1319\u001b[0m             \u001b[0mresume_from_checkpoint\u001b[0m\u001b[0;34m=\u001b[0m\u001b[0mresume_from_checkpoint\u001b[0m\u001b[0;34m,\u001b[0m\u001b[0;34m\u001b[0m\u001b[0;34m\u001b[0m\u001b[0m\n\u001b[1;32m   1320\u001b[0m             \u001b[0mtrial\u001b[0m\u001b[0;34m=\u001b[0m\u001b[0mtrial\u001b[0m\u001b[0;34m,\u001b[0m\u001b[0;34m\u001b[0m\u001b[0;34m\u001b[0m\u001b[0m\n\u001b[0;32m-> 1321\u001b[0;31m             \u001b[0mignore_keys_for_eval\u001b[0m\u001b[0;34m=\u001b[0m\u001b[0mignore_keys_for_eval\u001b[0m\u001b[0;34m,\u001b[0m\u001b[0;34m\u001b[0m\u001b[0;34m\u001b[0m\u001b[0m\n\u001b[0m\u001b[1;32m   1322\u001b[0m         )\n\u001b[1;32m   1323\u001b[0m \u001b[0;34m\u001b[0m\u001b[0m\n",
            "\u001b[0;32m/usr/local/lib/python3.7/dist-packages/transformers/trainer.py\u001b[0m in \u001b[0;36m_inner_training_loop\u001b[0;34m(self, batch_size, args, resume_from_checkpoint, trial, ignore_keys_for_eval)\u001b[0m\n\u001b[1;32m   1552\u001b[0m                         \u001b[0mtr_loss_step\u001b[0m \u001b[0;34m=\u001b[0m \u001b[0mself\u001b[0m\u001b[0;34m.\u001b[0m\u001b[0mtraining_step\u001b[0m\u001b[0;34m(\u001b[0m\u001b[0mmodel\u001b[0m\u001b[0;34m,\u001b[0m \u001b[0minputs\u001b[0m\u001b[0;34m)\u001b[0m\u001b[0;34m\u001b[0m\u001b[0;34m\u001b[0m\u001b[0m\n\u001b[1;32m   1553\u001b[0m                 \u001b[0;32melse\u001b[0m\u001b[0;34m:\u001b[0m\u001b[0;34m\u001b[0m\u001b[0;34m\u001b[0m\u001b[0m\n\u001b[0;32m-> 1554\u001b[0;31m                     \u001b[0mtr_loss_step\u001b[0m \u001b[0;34m=\u001b[0m \u001b[0mself\u001b[0m\u001b[0;34m.\u001b[0m\u001b[0mtraining_step\u001b[0m\u001b[0;34m(\u001b[0m\u001b[0mmodel\u001b[0m\u001b[0;34m,\u001b[0m \u001b[0minputs\u001b[0m\u001b[0;34m)\u001b[0m\u001b[0;34m\u001b[0m\u001b[0;34m\u001b[0m\u001b[0m\n\u001b[0m\u001b[1;32m   1555\u001b[0m \u001b[0;34m\u001b[0m\u001b[0m\n\u001b[1;32m   1556\u001b[0m                 if (\n",
            "\u001b[0;32m/usr/local/lib/python3.7/dist-packages/transformers/trainer.py\u001b[0m in \u001b[0;36mtraining_step\u001b[0;34m(self, model, inputs)\u001b[0m\n\u001b[1;32m   2199\u001b[0m             \u001b[0mloss\u001b[0m \u001b[0;34m=\u001b[0m \u001b[0mself\u001b[0m\u001b[0;34m.\u001b[0m\u001b[0mdeepspeed\u001b[0m\u001b[0;34m.\u001b[0m\u001b[0mbackward\u001b[0m\u001b[0;34m(\u001b[0m\u001b[0mloss\u001b[0m\u001b[0;34m)\u001b[0m\u001b[0;34m\u001b[0m\u001b[0;34m\u001b[0m\u001b[0m\n\u001b[1;32m   2200\u001b[0m         \u001b[0;32melse\u001b[0m\u001b[0;34m:\u001b[0m\u001b[0;34m\u001b[0m\u001b[0;34m\u001b[0m\u001b[0m\n\u001b[0;32m-> 2201\u001b[0;31m             \u001b[0mloss\u001b[0m\u001b[0;34m.\u001b[0m\u001b[0mbackward\u001b[0m\u001b[0;34m(\u001b[0m\u001b[0;34m)\u001b[0m\u001b[0;34m\u001b[0m\u001b[0;34m\u001b[0m\u001b[0m\n\u001b[0m\u001b[1;32m   2202\u001b[0m \u001b[0;34m\u001b[0m\u001b[0m\n\u001b[1;32m   2203\u001b[0m         \u001b[0;32mreturn\u001b[0m \u001b[0mloss\u001b[0m\u001b[0;34m.\u001b[0m\u001b[0mdetach\u001b[0m\u001b[0;34m(\u001b[0m\u001b[0;34m)\u001b[0m\u001b[0;34m\u001b[0m\u001b[0;34m\u001b[0m\u001b[0m\n",
            "\u001b[0;32m/usr/local/lib/python3.7/dist-packages/torch/_tensor.py\u001b[0m in \u001b[0;36mbackward\u001b[0;34m(self, gradient, retain_graph, create_graph, inputs)\u001b[0m\n\u001b[1;32m    361\u001b[0m                 \u001b[0mcreate_graph\u001b[0m\u001b[0;34m=\u001b[0m\u001b[0mcreate_graph\u001b[0m\u001b[0;34m,\u001b[0m\u001b[0;34m\u001b[0m\u001b[0;34m\u001b[0m\u001b[0m\n\u001b[1;32m    362\u001b[0m                 inputs=inputs)\n\u001b[0;32m--> 363\u001b[0;31m         \u001b[0mtorch\u001b[0m\u001b[0;34m.\u001b[0m\u001b[0mautograd\u001b[0m\u001b[0;34m.\u001b[0m\u001b[0mbackward\u001b[0m\u001b[0;34m(\u001b[0m\u001b[0mself\u001b[0m\u001b[0;34m,\u001b[0m \u001b[0mgradient\u001b[0m\u001b[0;34m,\u001b[0m \u001b[0mretain_graph\u001b[0m\u001b[0;34m,\u001b[0m \u001b[0mcreate_graph\u001b[0m\u001b[0;34m,\u001b[0m \u001b[0minputs\u001b[0m\u001b[0;34m=\u001b[0m\u001b[0minputs\u001b[0m\u001b[0;34m)\u001b[0m\u001b[0;34m\u001b[0m\u001b[0;34m\u001b[0m\u001b[0m\n\u001b[0m\u001b[1;32m    364\u001b[0m \u001b[0;34m\u001b[0m\u001b[0m\n\u001b[1;32m    365\u001b[0m     \u001b[0;32mdef\u001b[0m \u001b[0mregister_hook\u001b[0m\u001b[0;34m(\u001b[0m\u001b[0mself\u001b[0m\u001b[0;34m,\u001b[0m \u001b[0mhook\u001b[0m\u001b[0;34m)\u001b[0m\u001b[0;34m:\u001b[0m\u001b[0;34m\u001b[0m\u001b[0;34m\u001b[0m\u001b[0m\n",
            "\u001b[0;32m/usr/local/lib/python3.7/dist-packages/torch/autograd/__init__.py\u001b[0m in \u001b[0;36mbackward\u001b[0;34m(tensors, grad_tensors, retain_graph, create_graph, grad_variables, inputs)\u001b[0m\n\u001b[1;32m    173\u001b[0m     Variable._execution_engine.run_backward(  # Calls into the C++ engine to run the backward pass\n\u001b[1;32m    174\u001b[0m         \u001b[0mtensors\u001b[0m\u001b[0;34m,\u001b[0m \u001b[0mgrad_tensors_\u001b[0m\u001b[0;34m,\u001b[0m \u001b[0mretain_graph\u001b[0m\u001b[0;34m,\u001b[0m \u001b[0mcreate_graph\u001b[0m\u001b[0;34m,\u001b[0m \u001b[0minputs\u001b[0m\u001b[0;34m,\u001b[0m\u001b[0;34m\u001b[0m\u001b[0;34m\u001b[0m\u001b[0m\n\u001b[0;32m--> 175\u001b[0;31m         allow_unreachable=True, accumulate_grad=True)  # Calls into the C++ engine to run the backward pass\n\u001b[0m\u001b[1;32m    176\u001b[0m \u001b[0;34m\u001b[0m\u001b[0m\n\u001b[1;32m    177\u001b[0m def grad(\n",
            "\u001b[0;31mKeyboardInterrupt\u001b[0m: "
          ]
>>>>>>> b4ba64658fecc98da882c570695b641aa6a87bad
        }
      ]
    },
    {
      "cell_type": "code",
      "source": [
        "trainer_dc.save_model('/content/drive/Shareddrives/PLN/models/domain_adaptation/pretrained_default')"
      ],
      "metadata": {
        "colab": {
          "base_uri": "https://localhost:8080/"
        },
        "id": "5_kUCIAnbJHy",
<<<<<<< HEAD
        "outputId": "8f8f7a48-fa44-4d10-ea82-28359dea51d3"
=======
        "outputId": "dbb3a745-7517-4176-f00d-e3f9a0486066"
>>>>>>> b4ba64658fecc98da882c570695b641aa6a87bad
      },
      "execution_count": null,
      "outputs": [
        {
          "output_type": "stream",
          "name": "stderr",
          "text": [
<<<<<<< HEAD
            "Saving model checkpoint to /content/drive/Shareddrives/PLN/models/domain_adaptation/pretrained_default\n",
            "Configuration saved in /content/drive/Shareddrives/PLN/models/domain_adaptation/pretrained_default/config.json\n",
            "Model weights saved in /content/drive/Shareddrives/PLN/models/domain_adaptation/pretrained_default/pytorch_model.bin\n"
=======
            "Saving model checkpoint to /content/models/domain_adaptation/pretrained\n",
            "Configuration saved in /content/models/domain_adaptation/pretrained/config.json\n",
            "Model weights saved in /content/models/domain_adaptation/pretrained/pytorch_model.bin\n"
>>>>>>> b4ba64658fecc98da882c570695b641aa6a87bad
          ]
        }
      ]
    },
    {
<<<<<<< HEAD
=======
      "cell_type": "code",
      "source": [
        "trainer_cc.train()"
      ],
      "metadata": {
        "id": "qIgowcDCbMUE"
      },
      "execution_count": null,
      "outputs": []
    },
    {
      "cell_type": "code",
      "source": [
        "trainer_cc.save_model('/content/drive/Shareddrives/PLN/models/domain_adaptation/pretrained_whole')"
      ],
      "metadata": {
        "id": "Ywmbe692bPrm"
      },
      "execution_count": null,
      "outputs": []
    },
    {
>>>>>>> b4ba64658fecc98da882c570695b641aa6a87bad
      "cell_type": "markdown",
      "source": [
        "## Finetuning ADUs\n",
        "\n",
        "After finetuning the language model based on the OpArticles dataset, we can now use it for the ADU classification task."
      ],
      "metadata": {
        "id": "1KaMUsWpb1FF"
      }
    },
    {
      "cell_type": "markdown",
      "source": [
        "### Data preparation\n",
        "\n",
        "Similar data preparation techniques are applied to the `OpArticles_ADUs` dataset, with the only difference being that now we split the dataset into three parts to allow for test data to be used while training the model (the `validation` set) and for evaluating the model (the `test` set)."
      ],
      "metadata": {
        "id": "TfOvm3udZJFk"
      }
    },
    {
      "cell_type": "code",
      "source": [
        "adus = pd.read_excel('/content/drive/Shareddrives/PLN/OpArticles_ADUs.xlsx')\n",
        "adus = adus[['tokens', 'label']]\n",
        "adus['label'].replace(\n",
        "    ['Value', 'Value(+)', 'Value(-)', 'Fact', 'Policy'],\n",
        "    [0,1,2,3,4],\n",
        "    inplace=True\n",
        ")\n",
        "adus"
      ],
      "metadata": {
        "colab": {
          "base_uri": "https://localhost:8080/",
          "height": 424
        },
        "id": "WOptp1bKcJrA",
<<<<<<< HEAD
        "outputId": "956e39ef-2671-439c-c663-dd9e4d621c64"
      },
      "execution_count": null,
=======
        "outputId": "a126f03b-ee9d-491d-d852-51b9ea1481dc"
      },
      "execution_count": 25,
>>>>>>> b4ba64658fecc98da882c570695b641aa6a87bad
      "outputs": [
        {
          "output_type": "execute_result",
          "data": {
            "text/plain": [
              "                                                  tokens  label\n",
              "0               O facto não é apenas fruto da ignorância      0\n",
              "1      havia no seu humor mais jornalismo (mais inves...      0\n",
              "2                                  É tudo cómico na FIFA      0\n",
              "3      o que todos nós permitimos que esta organizaçã...      0\n",
              "4                não nos fazem rir à custa dos poderosos      0\n",
              "...                                                  ...    ...\n",
              "16738  A única variável disponibilizada que pode ser ...      0\n",
              "16739    esse número esconde informação muito pertinente      3\n",
              "16740                                bastante imperfeita      2\n",
              "16741  esconde também a proporção de diplomados que e...      0\n",
              "16742  esconde a distribuição de salários dos diplomados      3\n",
              "\n",
              "[16743 rows x 2 columns]"
            ],
            "text/html": [
              "\n",
<<<<<<< HEAD
              "  <div id=\"df-14169608-9d19-4eba-adfe-799fef5705f7\">\n",
=======
              "  <div id=\"df-bfb572de-4ddd-4398-9814-9ca0a3492283\">\n",
>>>>>>> b4ba64658fecc98da882c570695b641aa6a87bad
              "    <div class=\"colab-df-container\">\n",
              "      <div>\n",
              "<style scoped>\n",
              "    .dataframe tbody tr th:only-of-type {\n",
              "        vertical-align: middle;\n",
              "    }\n",
              "\n",
              "    .dataframe tbody tr th {\n",
              "        vertical-align: top;\n",
              "    }\n",
              "\n",
              "    .dataframe thead th {\n",
              "        text-align: right;\n",
              "    }\n",
              "</style>\n",
              "<table border=\"1\" class=\"dataframe\">\n",
              "  <thead>\n",
              "    <tr style=\"text-align: right;\">\n",
              "      <th></th>\n",
              "      <th>tokens</th>\n",
              "      <th>label</th>\n",
              "    </tr>\n",
              "  </thead>\n",
              "  <tbody>\n",
              "    <tr>\n",
              "      <th>0</th>\n",
              "      <td>O facto não é apenas fruto da ignorância</td>\n",
              "      <td>0</td>\n",
              "    </tr>\n",
              "    <tr>\n",
              "      <th>1</th>\n",
              "      <td>havia no seu humor mais jornalismo (mais inves...</td>\n",
              "      <td>0</td>\n",
              "    </tr>\n",
              "    <tr>\n",
              "      <th>2</th>\n",
              "      <td>É tudo cómico na FIFA</td>\n",
              "      <td>0</td>\n",
              "    </tr>\n",
              "    <tr>\n",
              "      <th>3</th>\n",
              "      <td>o que todos nós permitimos que esta organizaçã...</td>\n",
              "      <td>0</td>\n",
              "    </tr>\n",
              "    <tr>\n",
              "      <th>4</th>\n",
              "      <td>não nos fazem rir à custa dos poderosos</td>\n",
              "      <td>0</td>\n",
              "    </tr>\n",
              "    <tr>\n",
              "      <th>...</th>\n",
              "      <td>...</td>\n",
              "      <td>...</td>\n",
              "    </tr>\n",
              "    <tr>\n",
              "      <th>16738</th>\n",
              "      <td>A única variável disponibilizada que pode ser ...</td>\n",
              "      <td>0</td>\n",
              "    </tr>\n",
              "    <tr>\n",
              "      <th>16739</th>\n",
              "      <td>esse número esconde informação muito pertinente</td>\n",
              "      <td>3</td>\n",
              "    </tr>\n",
              "    <tr>\n",
              "      <th>16740</th>\n",
              "      <td>bastante imperfeita</td>\n",
              "      <td>2</td>\n",
              "    </tr>\n",
              "    <tr>\n",
              "      <th>16741</th>\n",
              "      <td>esconde também a proporção de diplomados que e...</td>\n",
              "      <td>0</td>\n",
              "    </tr>\n",
              "    <tr>\n",
              "      <th>16742</th>\n",
              "      <td>esconde a distribuição de salários dos diplomados</td>\n",
              "      <td>3</td>\n",
              "    </tr>\n",
              "  </tbody>\n",
              "</table>\n",
              "<p>16743 rows × 2 columns</p>\n",
              "</div>\n",
<<<<<<< HEAD
              "      <button class=\"colab-df-convert\" onclick=\"convertToInteractive('df-14169608-9d19-4eba-adfe-799fef5705f7')\"\n",
=======
              "      <button class=\"colab-df-convert\" onclick=\"convertToInteractive('df-bfb572de-4ddd-4398-9814-9ca0a3492283')\"\n",
>>>>>>> b4ba64658fecc98da882c570695b641aa6a87bad
              "              title=\"Convert this dataframe to an interactive table.\"\n",
              "              style=\"display:none;\">\n",
              "        \n",
              "  <svg xmlns=\"http://www.w3.org/2000/svg\" height=\"24px\"viewBox=\"0 0 24 24\"\n",
              "       width=\"24px\">\n",
              "    <path d=\"M0 0h24v24H0V0z\" fill=\"none\"/>\n",
              "    <path d=\"M18.56 5.44l.94 2.06.94-2.06 2.06-.94-2.06-.94-.94-2.06-.94 2.06-2.06.94zm-11 1L8.5 8.5l.94-2.06 2.06-.94-2.06-.94L8.5 2.5l-.94 2.06-2.06.94zm10 10l.94 2.06.94-2.06 2.06-.94-2.06-.94-.94-2.06-.94 2.06-2.06.94z\"/><path d=\"M17.41 7.96l-1.37-1.37c-.4-.4-.92-.59-1.43-.59-.52 0-1.04.2-1.43.59L10.3 9.45l-7.72 7.72c-.78.78-.78 2.05 0 2.83L4 21.41c.39.39.9.59 1.41.59.51 0 1.02-.2 1.41-.59l7.78-7.78 2.81-2.81c.8-.78.8-2.07 0-2.86zM5.41 20L4 18.59l7.72-7.72 1.47 1.35L5.41 20z\"/>\n",
              "  </svg>\n",
              "      </button>\n",
              "      \n",
              "  <style>\n",
              "    .colab-df-container {\n",
              "      display:flex;\n",
              "      flex-wrap:wrap;\n",
              "      gap: 12px;\n",
              "    }\n",
              "\n",
              "    .colab-df-convert {\n",
              "      background-color: #E8F0FE;\n",
              "      border: none;\n",
              "      border-radius: 50%;\n",
              "      cursor: pointer;\n",
              "      display: none;\n",
              "      fill: #1967D2;\n",
              "      height: 32px;\n",
              "      padding: 0 0 0 0;\n",
              "      width: 32px;\n",
              "    }\n",
              "\n",
              "    .colab-df-convert:hover {\n",
              "      background-color: #E2EBFA;\n",
              "      box-shadow: 0px 1px 2px rgba(60, 64, 67, 0.3), 0px 1px 3px 1px rgba(60, 64, 67, 0.15);\n",
              "      fill: #174EA6;\n",
              "    }\n",
              "\n",
              "    [theme=dark] .colab-df-convert {\n",
              "      background-color: #3B4455;\n",
              "      fill: #D2E3FC;\n",
              "    }\n",
              "\n",
              "    [theme=dark] .colab-df-convert:hover {\n",
              "      background-color: #434B5C;\n",
              "      box-shadow: 0px 1px 3px 1px rgba(0, 0, 0, 0.15);\n",
              "      filter: drop-shadow(0px 1px 2px rgba(0, 0, 0, 0.3));\n",
              "      fill: #FFFFFF;\n",
              "    }\n",
              "  </style>\n",
              "\n",
              "      <script>\n",
              "        const buttonEl =\n",
<<<<<<< HEAD
              "          document.querySelector('#df-14169608-9d19-4eba-adfe-799fef5705f7 button.colab-df-convert');\n",
=======
              "          document.querySelector('#df-bfb572de-4ddd-4398-9814-9ca0a3492283 button.colab-df-convert');\n",
>>>>>>> b4ba64658fecc98da882c570695b641aa6a87bad
              "        buttonEl.style.display =\n",
              "          google.colab.kernel.accessAllowed ? 'block' : 'none';\n",
              "\n",
              "        async function convertToInteractive(key) {\n",
<<<<<<< HEAD
              "          const element = document.querySelector('#df-14169608-9d19-4eba-adfe-799fef5705f7');\n",
=======
              "          const element = document.querySelector('#df-bfb572de-4ddd-4398-9814-9ca0a3492283');\n",
>>>>>>> b4ba64658fecc98da882c570695b641aa6a87bad
              "          const dataTable =\n",
              "            await google.colab.kernel.invokeFunction('convertToInteractive',\n",
              "                                                     [key], {});\n",
              "          if (!dataTable) return;\n",
              "\n",
              "          const docLinkHtml = 'Like what you see? Visit the ' +\n",
              "            '<a target=\"_blank\" href=https://colab.research.google.com/notebooks/data_table.ipynb>data table notebook</a>'\n",
              "            + ' to learn more about interactive tables.';\n",
              "          element.innerHTML = '';\n",
              "          dataTable['output_type'] = 'display_data';\n",
              "          await google.colab.output.renderOutput(dataTable, element);\n",
              "          const docLink = document.createElement('div');\n",
              "          docLink.innerHTML = docLinkHtml;\n",
              "          element.appendChild(docLink);\n",
              "        }\n",
              "      </script>\n",
              "    </div>\n",
              "  </div>\n",
              "  "
            ]
          },
          "metadata": {},
<<<<<<< HEAD
          "execution_count": 18
=======
          "execution_count": 25
>>>>>>> b4ba64658fecc98da882c570695b641aa6a87bad
        }
      ]
    },
    {
      "cell_type": "code",
      "source": [
        "adus_dataset = Dataset.from_pandas(adus)\n",
        "\n",
        "adus_dataset = adus_dataset.train_test_split(test_size=0.2, shuffle=True, seed=42)\n",
        "adus_dataset_val = adus_dataset['test'].train_test_split(test_size=0.5, shuffle=True, seed=42)\n",
        "adus_dataset['validation'], opa_dataset['test'] = adus_dataset_val['train'], adus_dataset_val['test']\n",
        "\n",
        "adus_dataset"
      ],
      "metadata": {
        "colab": {
          "base_uri": "https://localhost:8080/"
        },
        "id": "-OAZw-Hec7q_",
<<<<<<< HEAD
        "outputId": "d1bfde5c-a47e-446c-ad3a-ed5336e3eb6c"
      },
      "execution_count": null,
=======
        "outputId": "23afd888-596f-46eb-c9b4-31b3d905bcfe"
      },
      "execution_count": 26,
>>>>>>> b4ba64658fecc98da882c570695b641aa6a87bad
      "outputs": [
        {
          "output_type": "execute_result",
          "data": {
            "text/plain": [
              "DatasetDict({\n",
              "    train: Dataset({\n",
              "        features: ['tokens', 'label'],\n",
              "        num_rows: 13394\n",
              "    })\n",
              "    test: Dataset({\n",
              "        features: ['tokens', 'label'],\n",
              "        num_rows: 3349\n",
              "    })\n",
              "    validation: Dataset({\n",
              "        features: ['tokens', 'label'],\n",
              "        num_rows: 1674\n",
              "    })\n",
              "})"
            ]
          },
          "metadata": {},
<<<<<<< HEAD
          "execution_count": 19
=======
          "execution_count": 26
>>>>>>> b4ba64658fecc98da882c570695b641aa6a87bad
        }
      ]
    },
    {
      "cell_type": "markdown",
      "source": [
        "### Fine tuning with Trainer\n",
        "\n",
        "After the ADU data is ready, we employ a similar strategy but now loading our pretrained model instead."
      ],
      "metadata": {
        "id": "tJcKk-JsZ53t"
      }
    },
    {
      "cell_type": "code",
      "source": [
        "from transformers import AutoModelForSequenceClassification\n",
        "\n",
        "model_name = '/content/drive/Shareddrives/PLN/models/domain_adaptation/pretrained_default'\n",
<<<<<<< HEAD
        "adu_model_dc = AutoModelForSequenceClassification.from_pretrained(model_name, num_labels=5)"
=======
        "adu_model_dc = AutoModelForSequenceClassification.from_pretrained(model_name, num_labels=5)\n",
        "model_name = '/content/drive/Shareddrives/PLN/models/domain_adaptation/pretrained_whole'\n",
        "adu_model = AutoModelForSequenceClassification.from_pretrained(model_name, num_labels=5)"
>>>>>>> b4ba64658fecc98da882c570695b641aa6a87bad
      ],
      "metadata": {
        "colab": {
          "base_uri": "https://localhost:8080/"
        },
        "id": "M9kYz_mIb5Xs",
<<<<<<< HEAD
        "outputId": "8da3c4b5-e3cb-427e-dc0c-da80f6c13790"
      },
      "execution_count": null,
=======
        "outputId": "bfb80624-c6e1-4ab0-942e-60ae3477f00a"
      },
      "execution_count": 28,
>>>>>>> b4ba64658fecc98da882c570695b641aa6a87bad
      "outputs": [
        {
          "output_type": "stream",
          "name": "stderr",
          "text": [
<<<<<<< HEAD
            "loading configuration file /content/drive/Shareddrives/PLN/models/domain_adaptation/pretrained_default/config.json\n",
            "Model config BertConfig {\n",
            "  \"_name_or_path\": \"/content/drive/Shareddrives/PLN/models/domain_adaptation/pretrained_default\",\n",
=======
            "loading configuration file /content/drive/Shareddrives/PLN/models/domain_adaptation/pretrained/config.json\n",
            "Model config BertConfig {\n",
            "  \"_name_or_path\": \"/content/drive/Shareddrives/PLN/models/domain_adaptation/pretrained\",\n",
>>>>>>> b4ba64658fecc98da882c570695b641aa6a87bad
            "  \"architectures\": [\n",
            "    \"BertForMaskedLM\"\n",
            "  ],\n",
            "  \"attention_probs_dropout_prob\": 0.1,\n",
            "  \"classifier_dropout\": null,\n",
            "  \"directionality\": \"bidi\",\n",
            "  \"hidden_act\": \"gelu\",\n",
            "  \"hidden_dropout_prob\": 0.1,\n",
            "  \"hidden_size\": 768,\n",
            "  \"id2label\": {\n",
            "    \"0\": \"LABEL_0\",\n",
            "    \"1\": \"LABEL_1\",\n",
            "    \"2\": \"LABEL_2\",\n",
            "    \"3\": \"LABEL_3\",\n",
            "    \"4\": \"LABEL_4\"\n",
            "  },\n",
            "  \"initializer_range\": 0.02,\n",
            "  \"intermediate_size\": 3072,\n",
            "  \"label2id\": {\n",
            "    \"LABEL_0\": 0,\n",
            "    \"LABEL_1\": 1,\n",
            "    \"LABEL_2\": 2,\n",
            "    \"LABEL_3\": 3,\n",
            "    \"LABEL_4\": 4\n",
            "  },\n",
            "  \"layer_norm_eps\": 1e-12,\n",
            "  \"max_position_embeddings\": 512,\n",
            "  \"model_type\": \"bert\",\n",
            "  \"num_attention_heads\": 12,\n",
            "  \"num_hidden_layers\": 12,\n",
            "  \"output_past\": true,\n",
            "  \"pad_token_id\": 0,\n",
            "  \"pooler_fc_size\": 768,\n",
            "  \"pooler_num_attention_heads\": 12,\n",
            "  \"pooler_num_fc_layers\": 3,\n",
            "  \"pooler_size_per_head\": 128,\n",
            "  \"pooler_type\": \"first_token_transform\",\n",
            "  \"position_embedding_type\": \"absolute\",\n",
            "  \"torch_dtype\": \"float32\",\n",
            "  \"transformers_version\": \"4.19.2\",\n",
            "  \"type_vocab_size\": 2,\n",
            "  \"use_cache\": true,\n",
            "  \"vocab_size\": 29794\n",
            "}\n",
            "\n",
<<<<<<< HEAD
            "loading weights file /content/drive/Shareddrives/PLN/models/domain_adaptation/pretrained_default/pytorch_model.bin\n",
            "Some weights of the model checkpoint at /content/drive/Shareddrives/PLN/models/domain_adaptation/pretrained_default were not used when initializing BertForSequenceClassification: ['cls.predictions.transform.LayerNorm.bias', 'cls.predictions.transform.dense.weight', 'cls.predictions.transform.dense.bias', 'cls.predictions.decoder.weight', 'cls.predictions.transform.LayerNorm.weight', 'cls.predictions.bias', 'cls.predictions.decoder.bias']\n",
            "- This IS expected if you are initializing BertForSequenceClassification from the checkpoint of a model trained on another task or with another architecture (e.g. initializing a BertForSequenceClassification model from a BertForPreTraining model).\n",
            "- This IS NOT expected if you are initializing BertForSequenceClassification from the checkpoint of a model that you expect to be exactly identical (initializing a BertForSequenceClassification model from a BertForSequenceClassification model).\n",
            "Some weights of BertForSequenceClassification were not initialized from the model checkpoint at /content/drive/Shareddrives/PLN/models/domain_adaptation/pretrained_default and are newly initialized: ['classifier.weight', 'classifier.bias', 'bert.pooler.dense.weight', 'bert.pooler.dense.bias']\n",
            "You should probably TRAIN this model on a down-stream task to be able to use it for predictions and inference.\n"
          ]
=======
            "loading weights file /content/drive/Shareddrives/PLN/models/domain_adaptation/pretrained/pytorch_model.bin\n",
            "Some weights of the model checkpoint at /content/drive/Shareddrives/PLN/models/domain_adaptation/pretrained were not used when initializing BertForSequenceClassification: ['cls.predictions.decoder.weight', 'cls.predictions.transform.LayerNorm.bias', 'cls.predictions.transform.dense.weight', 'cls.predictions.bias', 'cls.predictions.decoder.bias', 'cls.predictions.transform.dense.bias', 'cls.predictions.transform.LayerNorm.weight']\n",
            "- This IS expected if you are initializing BertForSequenceClassification from the checkpoint of a model trained on another task or with another architecture (e.g. initializing a BertForSequenceClassification model from a BertForPreTraining model).\n",
            "- This IS NOT expected if you are initializing BertForSequenceClassification from the checkpoint of a model that you expect to be exactly identical (initializing a BertForSequenceClassification model from a BertForSequenceClassification model).\n",
            "Some weights of BertForSequenceClassification were not initialized from the model checkpoint at /content/drive/Shareddrives/PLN/models/domain_adaptation/pretrained and are newly initialized: ['classifier.bias', 'classifier.weight', 'bert.pooler.dense.weight', 'bert.pooler.dense.bias']\n",
            "You should probably TRAIN this model on a down-stream task to be able to use it for predictions and inference.\n"
          ]
        },
        {
          "output_type": "execute_result",
          "data": {
            "text/plain": [
              "BertForSequenceClassification(\n",
              "  (bert): BertModel(\n",
              "    (embeddings): BertEmbeddings(\n",
              "      (word_embeddings): Embedding(29794, 768, padding_idx=0)\n",
              "      (position_embeddings): Embedding(512, 768)\n",
              "      (token_type_embeddings): Embedding(2, 768)\n",
              "      (LayerNorm): LayerNorm((768,), eps=1e-12, elementwise_affine=True)\n",
              "      (dropout): Dropout(p=0.1, inplace=False)\n",
              "    )\n",
              "    (encoder): BertEncoder(\n",
              "      (layer): ModuleList(\n",
              "        (0): BertLayer(\n",
              "          (attention): BertAttention(\n",
              "            (self): BertSelfAttention(\n",
              "              (query): Linear(in_features=768, out_features=768, bias=True)\n",
              "              (key): Linear(in_features=768, out_features=768, bias=True)\n",
              "              (value): Linear(in_features=768, out_features=768, bias=True)\n",
              "              (dropout): Dropout(p=0.1, inplace=False)\n",
              "            )\n",
              "            (output): BertSelfOutput(\n",
              "              (dense): Linear(in_features=768, out_features=768, bias=True)\n",
              "              (LayerNorm): LayerNorm((768,), eps=1e-12, elementwise_affine=True)\n",
              "              (dropout): Dropout(p=0.1, inplace=False)\n",
              "            )\n",
              "          )\n",
              "          (intermediate): BertIntermediate(\n",
              "            (dense): Linear(in_features=768, out_features=3072, bias=True)\n",
              "            (intermediate_act_fn): GELUActivation()\n",
              "          )\n",
              "          (output): BertOutput(\n",
              "            (dense): Linear(in_features=3072, out_features=768, bias=True)\n",
              "            (LayerNorm): LayerNorm((768,), eps=1e-12, elementwise_affine=True)\n",
              "            (dropout): Dropout(p=0.1, inplace=False)\n",
              "          )\n",
              "        )\n",
              "        (1): BertLayer(\n",
              "          (attention): BertAttention(\n",
              "            (self): BertSelfAttention(\n",
              "              (query): Linear(in_features=768, out_features=768, bias=True)\n",
              "              (key): Linear(in_features=768, out_features=768, bias=True)\n",
              "              (value): Linear(in_features=768, out_features=768, bias=True)\n",
              "              (dropout): Dropout(p=0.1, inplace=False)\n",
              "            )\n",
              "            (output): BertSelfOutput(\n",
              "              (dense): Linear(in_features=768, out_features=768, bias=True)\n",
              "              (LayerNorm): LayerNorm((768,), eps=1e-12, elementwise_affine=True)\n",
              "              (dropout): Dropout(p=0.1, inplace=False)\n",
              "            )\n",
              "          )\n",
              "          (intermediate): BertIntermediate(\n",
              "            (dense): Linear(in_features=768, out_features=3072, bias=True)\n",
              "            (intermediate_act_fn): GELUActivation()\n",
              "          )\n",
              "          (output): BertOutput(\n",
              "            (dense): Linear(in_features=3072, out_features=768, bias=True)\n",
              "            (LayerNorm): LayerNorm((768,), eps=1e-12, elementwise_affine=True)\n",
              "            (dropout): Dropout(p=0.1, inplace=False)\n",
              "          )\n",
              "        )\n",
              "        (2): BertLayer(\n",
              "          (attention): BertAttention(\n",
              "            (self): BertSelfAttention(\n",
              "              (query): Linear(in_features=768, out_features=768, bias=True)\n",
              "              (key): Linear(in_features=768, out_features=768, bias=True)\n",
              "              (value): Linear(in_features=768, out_features=768, bias=True)\n",
              "              (dropout): Dropout(p=0.1, inplace=False)\n",
              "            )\n",
              "            (output): BertSelfOutput(\n",
              "              (dense): Linear(in_features=768, out_features=768, bias=True)\n",
              "              (LayerNorm): LayerNorm((768,), eps=1e-12, elementwise_affine=True)\n",
              "              (dropout): Dropout(p=0.1, inplace=False)\n",
              "            )\n",
              "          )\n",
              "          (intermediate): BertIntermediate(\n",
              "            (dense): Linear(in_features=768, out_features=3072, bias=True)\n",
              "            (intermediate_act_fn): GELUActivation()\n",
              "          )\n",
              "          (output): BertOutput(\n",
              "            (dense): Linear(in_features=3072, out_features=768, bias=True)\n",
              "            (LayerNorm): LayerNorm((768,), eps=1e-12, elementwise_affine=True)\n",
              "            (dropout): Dropout(p=0.1, inplace=False)\n",
              "          )\n",
              "        )\n",
              "        (3): BertLayer(\n",
              "          (attention): BertAttention(\n",
              "            (self): BertSelfAttention(\n",
              "              (query): Linear(in_features=768, out_features=768, bias=True)\n",
              "              (key): Linear(in_features=768, out_features=768, bias=True)\n",
              "              (value): Linear(in_features=768, out_features=768, bias=True)\n",
              "              (dropout): Dropout(p=0.1, inplace=False)\n",
              "            )\n",
              "            (output): BertSelfOutput(\n",
              "              (dense): Linear(in_features=768, out_features=768, bias=True)\n",
              "              (LayerNorm): LayerNorm((768,), eps=1e-12, elementwise_affine=True)\n",
              "              (dropout): Dropout(p=0.1, inplace=False)\n",
              "            )\n",
              "          )\n",
              "          (intermediate): BertIntermediate(\n",
              "            (dense): Linear(in_features=768, out_features=3072, bias=True)\n",
              "            (intermediate_act_fn): GELUActivation()\n",
              "          )\n",
              "          (output): BertOutput(\n",
              "            (dense): Linear(in_features=3072, out_features=768, bias=True)\n",
              "            (LayerNorm): LayerNorm((768,), eps=1e-12, elementwise_affine=True)\n",
              "            (dropout): Dropout(p=0.1, inplace=False)\n",
              "          )\n",
              "        )\n",
              "        (4): BertLayer(\n",
              "          (attention): BertAttention(\n",
              "            (self): BertSelfAttention(\n",
              "              (query): Linear(in_features=768, out_features=768, bias=True)\n",
              "              (key): Linear(in_features=768, out_features=768, bias=True)\n",
              "              (value): Linear(in_features=768, out_features=768, bias=True)\n",
              "              (dropout): Dropout(p=0.1, inplace=False)\n",
              "            )\n",
              "            (output): BertSelfOutput(\n",
              "              (dense): Linear(in_features=768, out_features=768, bias=True)\n",
              "              (LayerNorm): LayerNorm((768,), eps=1e-12, elementwise_affine=True)\n",
              "              (dropout): Dropout(p=0.1, inplace=False)\n",
              "            )\n",
              "          )\n",
              "          (intermediate): BertIntermediate(\n",
              "            (dense): Linear(in_features=768, out_features=3072, bias=True)\n",
              "            (intermediate_act_fn): GELUActivation()\n",
              "          )\n",
              "          (output): BertOutput(\n",
              "            (dense): Linear(in_features=3072, out_features=768, bias=True)\n",
              "            (LayerNorm): LayerNorm((768,), eps=1e-12, elementwise_affine=True)\n",
              "            (dropout): Dropout(p=0.1, inplace=False)\n",
              "          )\n",
              "        )\n",
              "        (5): BertLayer(\n",
              "          (attention): BertAttention(\n",
              "            (self): BertSelfAttention(\n",
              "              (query): Linear(in_features=768, out_features=768, bias=True)\n",
              "              (key): Linear(in_features=768, out_features=768, bias=True)\n",
              "              (value): Linear(in_features=768, out_features=768, bias=True)\n",
              "              (dropout): Dropout(p=0.1, inplace=False)\n",
              "            )\n",
              "            (output): BertSelfOutput(\n",
              "              (dense): Linear(in_features=768, out_features=768, bias=True)\n",
              "              (LayerNorm): LayerNorm((768,), eps=1e-12, elementwise_affine=True)\n",
              "              (dropout): Dropout(p=0.1, inplace=False)\n",
              "            )\n",
              "          )\n",
              "          (intermediate): BertIntermediate(\n",
              "            (dense): Linear(in_features=768, out_features=3072, bias=True)\n",
              "            (intermediate_act_fn): GELUActivation()\n",
              "          )\n",
              "          (output): BertOutput(\n",
              "            (dense): Linear(in_features=3072, out_features=768, bias=True)\n",
              "            (LayerNorm): LayerNorm((768,), eps=1e-12, elementwise_affine=True)\n",
              "            (dropout): Dropout(p=0.1, inplace=False)\n",
              "          )\n",
              "        )\n",
              "        (6): BertLayer(\n",
              "          (attention): BertAttention(\n",
              "            (self): BertSelfAttention(\n",
              "              (query): Linear(in_features=768, out_features=768, bias=True)\n",
              "              (key): Linear(in_features=768, out_features=768, bias=True)\n",
              "              (value): Linear(in_features=768, out_features=768, bias=True)\n",
              "              (dropout): Dropout(p=0.1, inplace=False)\n",
              "            )\n",
              "            (output): BertSelfOutput(\n",
              "              (dense): Linear(in_features=768, out_features=768, bias=True)\n",
              "              (LayerNorm): LayerNorm((768,), eps=1e-12, elementwise_affine=True)\n",
              "              (dropout): Dropout(p=0.1, inplace=False)\n",
              "            )\n",
              "          )\n",
              "          (intermediate): BertIntermediate(\n",
              "            (dense): Linear(in_features=768, out_features=3072, bias=True)\n",
              "            (intermediate_act_fn): GELUActivation()\n",
              "          )\n",
              "          (output): BertOutput(\n",
              "            (dense): Linear(in_features=3072, out_features=768, bias=True)\n",
              "            (LayerNorm): LayerNorm((768,), eps=1e-12, elementwise_affine=True)\n",
              "            (dropout): Dropout(p=0.1, inplace=False)\n",
              "          )\n",
              "        )\n",
              "        (7): BertLayer(\n",
              "          (attention): BertAttention(\n",
              "            (self): BertSelfAttention(\n",
              "              (query): Linear(in_features=768, out_features=768, bias=True)\n",
              "              (key): Linear(in_features=768, out_features=768, bias=True)\n",
              "              (value): Linear(in_features=768, out_features=768, bias=True)\n",
              "              (dropout): Dropout(p=0.1, inplace=False)\n",
              "            )\n",
              "            (output): BertSelfOutput(\n",
              "              (dense): Linear(in_features=768, out_features=768, bias=True)\n",
              "              (LayerNorm): LayerNorm((768,), eps=1e-12, elementwise_affine=True)\n",
              "              (dropout): Dropout(p=0.1, inplace=False)\n",
              "            )\n",
              "          )\n",
              "          (intermediate): BertIntermediate(\n",
              "            (dense): Linear(in_features=768, out_features=3072, bias=True)\n",
              "            (intermediate_act_fn): GELUActivation()\n",
              "          )\n",
              "          (output): BertOutput(\n",
              "            (dense): Linear(in_features=3072, out_features=768, bias=True)\n",
              "            (LayerNorm): LayerNorm((768,), eps=1e-12, elementwise_affine=True)\n",
              "            (dropout): Dropout(p=0.1, inplace=False)\n",
              "          )\n",
              "        )\n",
              "        (8): BertLayer(\n",
              "          (attention): BertAttention(\n",
              "            (self): BertSelfAttention(\n",
              "              (query): Linear(in_features=768, out_features=768, bias=True)\n",
              "              (key): Linear(in_features=768, out_features=768, bias=True)\n",
              "              (value): Linear(in_features=768, out_features=768, bias=True)\n",
              "              (dropout): Dropout(p=0.1, inplace=False)\n",
              "            )\n",
              "            (output): BertSelfOutput(\n",
              "              (dense): Linear(in_features=768, out_features=768, bias=True)\n",
              "              (LayerNorm): LayerNorm((768,), eps=1e-12, elementwise_affine=True)\n",
              "              (dropout): Dropout(p=0.1, inplace=False)\n",
              "            )\n",
              "          )\n",
              "          (intermediate): BertIntermediate(\n",
              "            (dense): Linear(in_features=768, out_features=3072, bias=True)\n",
              "            (intermediate_act_fn): GELUActivation()\n",
              "          )\n",
              "          (output): BertOutput(\n",
              "            (dense): Linear(in_features=3072, out_features=768, bias=True)\n",
              "            (LayerNorm): LayerNorm((768,), eps=1e-12, elementwise_affine=True)\n",
              "            (dropout): Dropout(p=0.1, inplace=False)\n",
              "          )\n",
              "        )\n",
              "        (9): BertLayer(\n",
              "          (attention): BertAttention(\n",
              "            (self): BertSelfAttention(\n",
              "              (query): Linear(in_features=768, out_features=768, bias=True)\n",
              "              (key): Linear(in_features=768, out_features=768, bias=True)\n",
              "              (value): Linear(in_features=768, out_features=768, bias=True)\n",
              "              (dropout): Dropout(p=0.1, inplace=False)\n",
              "            )\n",
              "            (output): BertSelfOutput(\n",
              "              (dense): Linear(in_features=768, out_features=768, bias=True)\n",
              "              (LayerNorm): LayerNorm((768,), eps=1e-12, elementwise_affine=True)\n",
              "              (dropout): Dropout(p=0.1, inplace=False)\n",
              "            )\n",
              "          )\n",
              "          (intermediate): BertIntermediate(\n",
              "            (dense): Linear(in_features=768, out_features=3072, bias=True)\n",
              "            (intermediate_act_fn): GELUActivation()\n",
              "          )\n",
              "          (output): BertOutput(\n",
              "            (dense): Linear(in_features=3072, out_features=768, bias=True)\n",
              "            (LayerNorm): LayerNorm((768,), eps=1e-12, elementwise_affine=True)\n",
              "            (dropout): Dropout(p=0.1, inplace=False)\n",
              "          )\n",
              "        )\n",
              "        (10): BertLayer(\n",
              "          (attention): BertAttention(\n",
              "            (self): BertSelfAttention(\n",
              "              (query): Linear(in_features=768, out_features=768, bias=True)\n",
              "              (key): Linear(in_features=768, out_features=768, bias=True)\n",
              "              (value): Linear(in_features=768, out_features=768, bias=True)\n",
              "              (dropout): Dropout(p=0.1, inplace=False)\n",
              "            )\n",
              "            (output): BertSelfOutput(\n",
              "              (dense): Linear(in_features=768, out_features=768, bias=True)\n",
              "              (LayerNorm): LayerNorm((768,), eps=1e-12, elementwise_affine=True)\n",
              "              (dropout): Dropout(p=0.1, inplace=False)\n",
              "            )\n",
              "          )\n",
              "          (intermediate): BertIntermediate(\n",
              "            (dense): Linear(in_features=768, out_features=3072, bias=True)\n",
              "            (intermediate_act_fn): GELUActivation()\n",
              "          )\n",
              "          (output): BertOutput(\n",
              "            (dense): Linear(in_features=3072, out_features=768, bias=True)\n",
              "            (LayerNorm): LayerNorm((768,), eps=1e-12, elementwise_affine=True)\n",
              "            (dropout): Dropout(p=0.1, inplace=False)\n",
              "          )\n",
              "        )\n",
              "        (11): BertLayer(\n",
              "          (attention): BertAttention(\n",
              "            (self): BertSelfAttention(\n",
              "              (query): Linear(in_features=768, out_features=768, bias=True)\n",
              "              (key): Linear(in_features=768, out_features=768, bias=True)\n",
              "              (value): Linear(in_features=768, out_features=768, bias=True)\n",
              "              (dropout): Dropout(p=0.1, inplace=False)\n",
              "            )\n",
              "            (output): BertSelfOutput(\n",
              "              (dense): Linear(in_features=768, out_features=768, bias=True)\n",
              "              (LayerNorm): LayerNorm((768,), eps=1e-12, elementwise_affine=True)\n",
              "              (dropout): Dropout(p=0.1, inplace=False)\n",
              "            )\n",
              "          )\n",
              "          (intermediate): BertIntermediate(\n",
              "            (dense): Linear(in_features=768, out_features=3072, bias=True)\n",
              "            (intermediate_act_fn): GELUActivation()\n",
              "          )\n",
              "          (output): BertOutput(\n",
              "            (dense): Linear(in_features=3072, out_features=768, bias=True)\n",
              "            (LayerNorm): LayerNorm((768,), eps=1e-12, elementwise_affine=True)\n",
              "            (dropout): Dropout(p=0.1, inplace=False)\n",
              "          )\n",
              "        )\n",
              "      )\n",
              "    )\n",
              "    (pooler): BertPooler(\n",
              "      (dense): Linear(in_features=768, out_features=768, bias=True)\n",
              "      (activation): Tanh()\n",
              "    )\n",
              "  )\n",
              "  (dropout): Dropout(p=0.1, inplace=False)\n",
              "  (classifier): Linear(in_features=768, out_features=5, bias=True)\n",
              ")"
            ]
          },
          "metadata": {},
          "execution_count": 28
>>>>>>> b4ba64658fecc98da882c570695b641aa6a87bad
        }
      ]
    },
    {
      "cell_type": "code",
      "source": [
        "def tokenize_adus(examples):\n",
        "    return tokenizer(examples['tokens'], truncation=True, max_length=81, padding=\"max_length\")\n",
        "\n",
        "tokenized_adus = adus_dataset.map(tokenize_adus, batched=True, remove_columns=['tokens'])"
      ],
      "metadata": {
        "colab": {
          "base_uri": "https://localhost:8080/",
          "height": 113,
          "referenced_widgets": [
<<<<<<< HEAD
            "d280dd293b6d40cab67130deca1e48dc",
            "a2c3db3915b04f35a244e3acb003baaa",
            "55c43d20d3e444bea1099a0169fd06b7",
            "71f6704a10264dbdb311191ff642ab23",
            "27ddde2e52154bbea5091ebee653f10a",
            "da15e00b53b042369ab683d1b79750ac",
            "70719193bbbe485aa2d896ef0e168508",
            "9b053fca6c75462a9d25837a88277d7a",
            "f126dbea42934c72b0ce057df1ae2b09",
            "396c3d1459be4296b3afe087d3a7f460",
            "5599cf53be46408a90d60a68f436cc9d",
            "534dce876d2e440996a25c4836bcf8c9",
            "deb83a11330b44cf9a7e7489ec758b3d",
            "80af05f153e14b9bb05905036837abfb",
            "9663f1c3473b478ab5836c03b23f3ac0",
            "ea979d68f8034f5da7d7847d3683e406",
            "7f19e35967dd487c88142ab1701d7074",
            "6ab365a6d60647a580e7f60a8631a380",
            "c45fa9ac672444089875a4096c3dbf69",
            "a8d704e0b3114b2da99dfe766a4b71ac",
            "ccd58e6e298249a38849dc47a71a0b40",
            "bc26cbe31c1841d282c7db123826a6b3",
            "cf76c1e065bc47c9911828981cec1567",
            "8209b21974534a409887b6728b72566b",
            "7709c9924ccd4130b4f1b5868a64b7be",
            "7d8678c93f6b42478ef6e35ee84a9e9b",
            "555ac9e2854a4d608815546bced6fa26",
            "506f85b0eec146a699b23a33b98e060d",
            "b4d81672f7e04d11a0dd160a93a07610",
            "0c3e9da5d12a4e9ca3ac5b06cdd5129d",
            "70d3f1345f7c44fa82af66e9f4fdee79",
            "06d3c0fdb5c444ec8f12e4e9b4680bb8",
            "74fdb2a38715417db069c0dcf6b168bd"
          ]
        },
        "id": "09kHMAWtdn4P",
        "outputId": "77a26c9a-e177-47e1-efeb-98e9d3f5f396"
      },
      "execution_count": null,
=======
            "45d873437c6f4eb5b64da786843a0e41",
            "f72d60a5d9be420c833ae42421cd8e94",
            "c83819cd8afb4d8a91d75c6170619c80",
            "c8e0a8f3bf9745e490ea313bfdfa137d",
            "04a9262a61494577aef7b4943d1be25a",
            "2bf883ef96134059937283692355176a",
            "bb7e97e689a64e1e99510d9ac01ef86b",
            "fe34765e50fe45c98943d8ebc77fc044",
            "2210d6e9d14d45ad8cdf1b20867fe201",
            "27be31e807e843c1a52841ec2cb74690",
            "d8c20b79515647d4bef3fe41e28fa3ac",
            "79ce668e2c3d4082a1fece27d90e4d68",
            "e9c464bd88104187883b42c68d981100",
            "d7c76ad3014b4a8a89842bcb79257f3a",
            "4cea3c3fec914c4b84dc534137cc9985",
            "affaffbb6927414fae7653466983ac10",
            "697947385c414b6c96898a2eeebe56f6",
            "f05c2d29c114498ba8cdbae08caff01a",
            "a30bbaf9d3824470ae3005f6d01b50d8",
            "da288dc16faf4041829cfc27114297f4",
            "70876419393d43f98a2648be64bbe09e",
            "2f296c5c78794fe4a8b7a5f74da2ce98",
            "4f277f2454174d979b9cca0c10cff888",
            "9a25b358fdec4400a0ad8db8d7f8e27a",
            "584c6873d6ab4da3a4149ed31f29bd8b",
            "6ed798df59d24ae6a116dc135fb09fa8",
            "0a617272574d4d6bacb561529882a5c8",
            "86c84221ab464394bb7676c4597eea9a",
            "2a30b3f838d2436787b2157d67da38f5",
            "29365ead5044414585aec4dd32729020",
            "4b8fc9a44c384c89b7cb393e5e368bbc",
            "13ed26eb160a4861a66c4462317040e4",
            "72dad58942df482794b6c6427d0b703c"
          ]
        },
        "id": "09kHMAWtdn4P",
        "outputId": "53814e6f-832c-4d35-9ca0-c480a846e378"
      },
      "execution_count": 29,
>>>>>>> b4ba64658fecc98da882c570695b641aa6a87bad
      "outputs": [
        {
          "output_type": "display_data",
          "data": {
            "text/plain": [
              "  0%|          | 0/14 [00:00<?, ?ba/s]"
            ],
            "application/vnd.jupyter.widget-view+json": {
              "version_major": 2,
              "version_minor": 0,
<<<<<<< HEAD
              "model_id": "d280dd293b6d40cab67130deca1e48dc"
=======
              "model_id": "45d873437c6f4eb5b64da786843a0e41"
>>>>>>> b4ba64658fecc98da882c570695b641aa6a87bad
            }
          },
          "metadata": {}
        },
        {
          "output_type": "display_data",
          "data": {
            "text/plain": [
              "  0%|          | 0/4 [00:00<?, ?ba/s]"
            ],
            "application/vnd.jupyter.widget-view+json": {
              "version_major": 2,
              "version_minor": 0,
<<<<<<< HEAD
              "model_id": "534dce876d2e440996a25c4836bcf8c9"
=======
              "model_id": "79ce668e2c3d4082a1fece27d90e4d68"
>>>>>>> b4ba64658fecc98da882c570695b641aa6a87bad
            }
          },
          "metadata": {}
        },
        {
          "output_type": "display_data",
          "data": {
            "text/plain": [
              "  0%|          | 0/2 [00:00<?, ?ba/s]"
            ],
            "application/vnd.jupyter.widget-view+json": {
              "version_major": 2,
              "version_minor": 0,
<<<<<<< HEAD
              "model_id": "cf76c1e065bc47c9911828981cec1567"
=======
              "model_id": "4f277f2454174d979b9cca0c10cff888"
>>>>>>> b4ba64658fecc98da882c570695b641aa6a87bad
            }
          },
          "metadata": {}
        }
      ]
    },
    {
      "cell_type": "markdown",
      "source": [
        "We also add metrics functions to keep track of model progress and evaluate it when it has finished executing."
      ],
      "metadata": {
        "id": "QM0eoR81aUhR"
      }
    },
    {
      "cell_type": "code",
      "source": [
        "from sklearn.metrics import precision_recall_fscore_support, accuracy_score\n",
        "\n",
        "\n",
        "def compute_metrics(pred):\n",
        "    labels = pred.label_ids\n",
        "    preds = pred.predictions.argmax(-1)\n",
        "    precision, recall, f1, _ = precision_recall_fscore_support(labels, preds, average='macro')\n",
        "    acc = accuracy_score(labels, preds)\n",
        "    return {\n",
        "        'accuracy': acc,\n",
        "        'f1': f1,\n",
        "        'precision': precision,\n",
        "        'recall': recall\n",
        "    }"
      ],
      "metadata": {
        "id": "-6jScwxJhgeM"
      },
<<<<<<< HEAD
      "execution_count": null,
=======
      "execution_count": 31,
>>>>>>> b4ba64658fecc98da882c570695b641aa6a87bad
      "outputs": []
    },
    {
      "cell_type": "code",
      "source": [
        "adu_training_args = TrainingArguments(\n",
        "    output_dir=f\"./results\",\n",
        "    overwrite_output_dir=True,\n",
        "    evaluation_strategy=\"epoch\",\n",
        "    save_strategy=\"epoch\",\n",
        "    num_train_epochs=5,\n",
        "    learning_rate=2e-5,\n",
        "    weight_decay=0.01,\n",
        "    data_seed=42,\n",
        "    per_device_train_batch_size=batch_size,\n",
        "    per_device_eval_batch_size=batch_size,\n",
        "    load_best_model_at_end=True,\n",
        "    metric_for_best_model='f1',\n",
        ")"
      ],
      "metadata": {
        "colab": {
          "base_uri": "https://localhost:8080/"
        },
        "id": "Y3tE5IPtxIS2",
<<<<<<< HEAD
        "outputId": "6b7b71a9-089c-4862-bbcb-d8fc4378bb80"
      },
      "execution_count": null,
=======
        "outputId": "3a11ec10-5c0e-43b9-c4f1-4cb4ba8feb10"
      },
      "execution_count": 32,
>>>>>>> b4ba64658fecc98da882c570695b641aa6a87bad
      "outputs": [
        {
          "output_type": "stream",
          "name": "stderr",
          "text": [
            "PyTorch: setting up devices\n",
            "The default value for the training argument `--report_to` will change in v5 (from all installed integrations to none). In v5, you will need to use `--report_to all` to get the same behavior as now. You should start updating your code and make this info disappear :-).\n"
          ]
        }
      ]
    },
    {
      "cell_type": "code",
      "source": [
        "from transformers import DataCollatorWithPadding\n",
        "\n",
<<<<<<< HEAD
        "adu_trainer = Trainer(\n",
=======
        "adu_trainer_dc = Trainer(\n",
>>>>>>> b4ba64658fecc98da882c570695b641aa6a87bad
        "    model=adu_model_dc,\n",
        "    args=adu_training_args,\n",
        "    tokenizer=tokenizer,\n",
        "    train_dataset=tokenized_adus[\"train\"],\n",
        "    eval_dataset=tokenized_adus[\"validation\"],\n",
        "    data_collator=DataCollatorWithPadding(tokenizer=tokenizer),\n",
        "    compute_metrics=compute_metrics\n",
<<<<<<< HEAD
=======
        ")\n",
        "\n",
        "adu_trainer_cc = Trainer(\n",
        "    model=adu_model_cc,\n",
        "    args=adu_training_args,\n",
        "    tokenizer=tokenizer,\n",
        "    train_dataset=tokenized_adus[\"train\"],\n",
        "    eval_dataset=tokenized_adus[\"validation\"],\n",
        "    data_collator=DataCollatorWithPadding(tokenizer=tokenizer),\n",
        "    compute_metrics=compute_metrics\n",
>>>>>>> b4ba64658fecc98da882c570695b641aa6a87bad
        ")"
      ],
      "metadata": {
        "id": "Ijo98IoEjaWX"
      },
<<<<<<< HEAD
      "execution_count": null,
=======
      "execution_count": 35,
>>>>>>> b4ba64658fecc98da882c570695b641aa6a87bad
      "outputs": []
    },
    {
      "cell_type": "code",
      "source": [
        "adu_trainer.train()"
      ],
      "metadata": {
<<<<<<< HEAD
        "colab": {
          "base_uri": "https://localhost:8080/",
          "height": 1000
        },
        "id": "M5xDkEh_asw4",
        "outputId": "fc7db319-bc15-4931-9004-d2b1a4514461"
      },
      "execution_count": null,
      "outputs": [
        {
          "output_type": "stream",
          "name": "stderr",
          "text": [
            "/usr/local/lib/python3.7/dist-packages/transformers/optimization.py:309: FutureWarning: This implementation of AdamW is deprecated and will be removed in a future version. Use the PyTorch implementation torch.optim.AdamW instead, or set `no_deprecation_warning=True` to disable this warning\n",
            "  FutureWarning,\n",
            "***** Running training *****\n",
            "  Num examples = 13394\n",
            "  Num Epochs = 5\n",
            "  Instantaneous batch size per device = 64\n",
            "  Total train batch size (w. parallel, distributed & accumulation) = 64\n",
            "  Gradient Accumulation steps = 1\n",
            "  Total optimization steps = 1050\n"
          ]
        },
        {
          "output_type": "display_data",
          "data": {
            "text/plain": [
              "<IPython.core.display.HTML object>"
            ],
            "text/html": [
              "\n",
              "    <div>\n",
              "      \n",
              "      <progress value='1050' max='1050' style='width:300px; height:20px; vertical-align: middle;'></progress>\n",
              "      [1050/1050 16:17, Epoch 5/5]\n",
              "    </div>\n",
              "    <table border=\"1\" class=\"dataframe\">\n",
              "  <thead>\n",
              " <tr style=\"text-align: left;\">\n",
              "      <th>Epoch</th>\n",
              "      <th>Training Loss</th>\n",
              "      <th>Validation Loss</th>\n",
              "      <th>Accuracy</th>\n",
              "      <th>F1</th>\n",
              "      <th>Precision</th>\n",
              "      <th>Recall</th>\n",
              "    </tr>\n",
              "  </thead>\n",
              "  <tbody>\n",
              "    <tr>\n",
              "      <td>1</td>\n",
              "      <td>No log</td>\n",
              "      <td>0.938371</td>\n",
              "      <td>0.606332</td>\n",
              "      <td>0.567845</td>\n",
              "      <td>0.588144</td>\n",
              "      <td>0.555773</td>\n",
              "    </tr>\n",
              "    <tr>\n",
              "      <td>2</td>\n",
              "      <td>No log</td>\n",
              "      <td>0.947290</td>\n",
              "      <td>0.614695</td>\n",
              "      <td>0.597471</td>\n",
              "      <td>0.598757</td>\n",
              "      <td>0.613170</td>\n",
              "    </tr>\n",
              "    <tr>\n",
              "      <td>3</td>\n",
              "      <td>0.913500</td>\n",
              "      <td>0.983301</td>\n",
              "      <td>0.615890</td>\n",
              "      <td>0.595163</td>\n",
              "      <td>0.587012</td>\n",
              "      <td>0.616109</td>\n",
              "    </tr>\n",
              "    <tr>\n",
              "      <td>4</td>\n",
              "      <td>0.913500</td>\n",
              "      <td>1.016445</td>\n",
              "      <td>0.616487</td>\n",
              "      <td>0.585840</td>\n",
              "      <td>0.593585</td>\n",
              "      <td>0.581768</td>\n",
              "    </tr>\n",
              "    <tr>\n",
              "      <td>5</td>\n",
              "      <td>0.646100</td>\n",
              "      <td>1.043476</td>\n",
              "      <td>0.606930</td>\n",
              "      <td>0.589892</td>\n",
              "      <td>0.581542</td>\n",
              "      <td>0.600388</td>\n",
              "    </tr>\n",
              "  </tbody>\n",
              "</table><p>"
            ]
          },
          "metadata": {}
        },
        {
          "output_type": "stream",
          "name": "stderr",
          "text": [
            "***** Running Evaluation *****\n",
            "  Num examples = 1674\n",
            "  Batch size = 64\n",
            "Saving model checkpoint to ./results/checkpoint-210\n",
            "Configuration saved in ./results/checkpoint-210/config.json\n",
            "Model weights saved in ./results/checkpoint-210/pytorch_model.bin\n",
            "tokenizer config file saved in ./results/checkpoint-210/tokenizer_config.json\n",
            "Special tokens file saved in ./results/checkpoint-210/special_tokens_map.json\n",
            "***** Running Evaluation *****\n",
            "  Num examples = 1674\n",
            "  Batch size = 64\n",
            "Saving model checkpoint to ./results/checkpoint-420\n",
            "Configuration saved in ./results/checkpoint-420/config.json\n",
            "Model weights saved in ./results/checkpoint-420/pytorch_model.bin\n",
            "tokenizer config file saved in ./results/checkpoint-420/tokenizer_config.json\n",
            "Special tokens file saved in ./results/checkpoint-420/special_tokens_map.json\n",
            "***** Running Evaluation *****\n",
            "  Num examples = 1674\n",
            "  Batch size = 64\n",
            "Saving model checkpoint to ./results/checkpoint-630\n",
            "Configuration saved in ./results/checkpoint-630/config.json\n",
            "Model weights saved in ./results/checkpoint-630/pytorch_model.bin\n",
            "tokenizer config file saved in ./results/checkpoint-630/tokenizer_config.json\n",
            "Special tokens file saved in ./results/checkpoint-630/special_tokens_map.json\n",
            "***** Running Evaluation *****\n",
            "  Num examples = 1674\n",
            "  Batch size = 64\n",
            "Saving model checkpoint to ./results/checkpoint-840\n",
            "Configuration saved in ./results/checkpoint-840/config.json\n",
            "Model weights saved in ./results/checkpoint-840/pytorch_model.bin\n",
            "tokenizer config file saved in ./results/checkpoint-840/tokenizer_config.json\n",
            "Special tokens file saved in ./results/checkpoint-840/special_tokens_map.json\n",
            "***** Running Evaluation *****\n",
            "  Num examples = 1674\n",
            "  Batch size = 64\n",
            "Saving model checkpoint to ./results/checkpoint-1050\n",
            "Configuration saved in ./results/checkpoint-1050/config.json\n",
            "Model weights saved in ./results/checkpoint-1050/pytorch_model.bin\n",
            "tokenizer config file saved in ./results/checkpoint-1050/tokenizer_config.json\n",
            "Special tokens file saved in ./results/checkpoint-1050/special_tokens_map.json\n",
            "\n",
            "\n",
            "Training completed. Do not forget to share your model on huggingface.co/models =)\n",
            "\n",
            "\n",
            "Loading best model from ./results/checkpoint-420 (score: 0.5974713902822115).\n"
          ]
        },
        {
          "output_type": "execute_result",
          "data": {
            "text/plain": [
              "TrainOutput(global_step=1050, training_loss=0.7699163128080823, metrics={'train_runtime': 978.6471, 'train_samples_per_second': 68.431, 'train_steps_per_second': 1.073, 'total_flos': 2787700746222540.0, 'train_loss': 0.7699163128080823, 'epoch': 5.0})"
            ]
          },
          "metadata": {},
          "execution_count": 25
        }
      ]
=======
        "id": "M5xDkEh_asw4"
      },
      "execution_count": null,
      "outputs": []
>>>>>>> b4ba64658fecc98da882c570695b641aa6a87bad
    },
    {
      "cell_type": "code",
      "source": [
        "adu_trainer.evaluate()"
      ],
      "metadata": {
<<<<<<< HEAD
        "colab": {
          "base_uri": "https://localhost:8080/",
          "height": 245
        },
        "id": "NAOxYeL4auki",
        "outputId": "bb057e30-d589-4086-b4ff-4fb1e2c88a1a"
      },
      "execution_count": null,
      "outputs": [
        {
          "output_type": "stream",
          "name": "stderr",
          "text": [
            "***** Running Evaluation *****\n",
            "  Num examples = 1674\n",
            "  Batch size = 64\n"
          ]
        },
        {
          "output_type": "display_data",
          "data": {
            "text/plain": [
              "<IPython.core.display.HTML object>"
            ],
            "text/html": [
              "\n",
              "    <div>\n",
              "      \n",
              "      <progress value='27' max='27' style='width:300px; height:20px; vertical-align: middle;'></progress>\n",
              "      [27/27 00:08]\n",
              "    </div>\n",
              "    "
            ]
          },
          "metadata": {}
        },
        {
          "output_type": "execute_result",
          "data": {
            "text/plain": [
              "{'epoch': 5.0,\n",
              " 'eval_accuracy': 0.6146953405017921,\n",
              " 'eval_f1': 0.5974713902822115,\n",
              " 'eval_loss': 0.947289764881134,\n",
              " 'eval_precision': 0.5987571241217827,\n",
              " 'eval_recall': 0.6131704193520849,\n",
              " 'eval_runtime': 8.7117,\n",
              " 'eval_samples_per_second': 192.154,\n",
              " 'eval_steps_per_second': 3.099}"
            ]
          },
          "metadata": {},
          "execution_count": 26
        }
      ]
=======
        "id": "NAOxYeL4auki"
      },
      "execution_count": null,
      "outputs": []
>>>>>>> b4ba64658fecc98da882c570695b641aa6a87bad
    },
    {
      "cell_type": "code",
      "source": [
        "adu_trainer.predict(test_dataset=tokenized_adus[\"test\"])"
      ],
      "metadata": {
<<<<<<< HEAD
        "colab": {
          "base_uri": "https://localhost:8080/",
          "height": 248
        },
        "id": "35pR7IB1awcm",
        "outputId": "094bf268-2eb6-4b2d-d8f9-2bd9f0c0aae8"
      },
      "execution_count": null,
      "outputs": [
        {
          "output_type": "stream",
          "name": "stderr",
          "text": [
            "***** Running Prediction *****\n",
            "  Num examples = 3349\n",
            "  Batch size = 64\n"
          ]
        },
        {
          "output_type": "display_data",
          "data": {
            "text/plain": [
              "<IPython.core.display.HTML object>"
            ],
            "text/html": [
              "\n",
              "    <div>\n",
              "      \n",
              "      <progress value='80' max='27' style='width:300px; height:20px; vertical-align: middle;'></progress>\n",
              "      [27/27 00:26]\n",
              "    </div>\n",
              "    "
            ]
          },
          "metadata": {}
        },
        {
          "output_type": "execute_result",
          "data": {
            "text/plain": [
              "PredictionOutput(predictions=array([[ 1.1648511 , -1.0362136 , -1.0311818 , -1.1956606 ,  2.4912543 ],\n",
              "       [ 0.835233  , -2.1810215 ,  3.1438503 ,  0.08276042, -2.446027  ],\n",
              "       [ 1.0807153 , -0.6931774 , -1.3411509 , -1.3138272 ,  2.7049756 ],\n",
              "       ...,\n",
              "       [ 1.6494398 ,  2.1050043 , -1.8840888 , -0.03291372, -1.3592778 ],\n",
              "       [ 1.0118313 , -2.2170367 ,  3.0757432 , -0.071308  , -2.127469  ],\n",
              "       [ 2.505465  , -2.3087382 ,  2.1098032 ,  0.01614396, -2.5741115 ]],\n",
              "      dtype=float32), label_ids=array([4, 0, 4, ..., 0, 0, 2]), metrics={'test_loss': 0.9477436542510986, 'test_accuracy': 0.6154075843535384, 'test_f1': 0.5879638735991607, 'test_precision': 0.5929712326521809, 'test_recall': 0.5986275793314899, 'test_runtime': 17.8294, 'test_samples_per_second': 187.836, 'test_steps_per_second': 2.973})"
            ]
          },
          "metadata": {},
          "execution_count": 27
        }
      ]
=======
        "id": "35pR7IB1awcm"
      },
      "execution_count": null,
      "outputs": []
>>>>>>> b4ba64658fecc98da882c570695b641aa6a87bad
    },
    {
      "cell_type": "code",
      "source": [
<<<<<<< HEAD
        "adu_trainer.save_model('/content/drive/Shareddrives/PLN/models/domain_adaptation/finetuned')"
      ],
      "metadata": {
        "colab": {
          "base_uri": "https://localhost:8080/"
        },
        "id": "J0DCLVcmayUs",
        "outputId": "d516baa0-061a-4b26-abe6-385f7c257ca1"
      },
      "execution_count": null,
      "outputs": [
        {
          "output_type": "stream",
          "name": "stderr",
          "text": [
            "Saving model checkpoint to /content/drive/Shareddrives/PLN/models/domain_adaptation/finetuned\n",
            "Configuration saved in /content/drive/Shareddrives/PLN/models/domain_adaptation/finetuned/config.json\n",
            "Model weights saved in /content/drive/Shareddrives/PLN/models/domain_adaptation/finetuned/pytorch_model.bin\n",
            "tokenizer config file saved in /content/drive/Shareddrives/PLN/models/domain_adaptation/finetuned/tokenizer_config.json\n",
            "Special tokens file saved in /content/drive/Shareddrives/PLN/models/domain_adaptation/finetuned/special_tokens_map.json\n"
          ]
        }
      ]
=======
        "trainer.save_model('/content/drive/Shareddrives/PLN/models/domain_adaptation/finetuned')"
      ],
      "metadata": {
        "id": "J0DCLVcmayUs"
      },
      "execution_count": null,
      "outputs": []
>>>>>>> b4ba64658fecc98da882c570695b641aa6a87bad
    }
  ]
}