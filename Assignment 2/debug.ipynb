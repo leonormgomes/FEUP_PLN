{
 "cells": [
  {
   "cell_type": "code",
   "execution_count": 1,
   "metadata": {},
   "outputs": [],
   "source": [
    "import pandas as pd\n",
    "data_ADU = pd.read_excel('OpArticles/OpArticles_ADUs.xlsx')"
   ]
  },
  {
   "cell_type": "code",
   "execution_count": 2,
   "metadata": {},
   "outputs": [
    {
     "name": "stdout",
     "output_type": "stream",
     "text": [
      "['fact não apen frut ignor', 'hav hum jorn investig preocup aprofund contextual histór isenç relat preocup soc urg denunci muit peç real jorn', 'tud cómic fif']\n",
      "16743\n"
     ]
    }
   ],
   "source": [
    "import re\n",
    "from nltk.stem import RSLPStemmer\n",
    "from nltk.corpus import stopwords\n",
    "\n",
    "stopwords = stopwords.words(\"portuguese\")\n",
    "stemmer = RSLPStemmer()\n",
    "\n",
    "corpus = []\n",
    "for token in data_ADU[\"tokens\"]:\n",
    "    c_tk = re.sub('[^a-zA-Z\\u00C0-\\u00ff]', ' ', token.lower())\n",
    "    c_tk = \" \".join(stemmer.stem(w) for w in c_tk.split() if w == \"não\" or w not in stopwords)\n",
    "    corpus.append(c_tk)\n",
    "\n",
    "print(corpus[:3])\n",
    "print(len(corpus))"
   ]
  },
  {
   "cell_type": "code",
   "execution_count": 3,
   "metadata": {},
   "outputs": [],
   "source": [
    "from sklearn.feature_extraction.text import CountVectorizer\n",
    "from sklearn.feature_extraction.text import TfidfVectorizer\n",
    "\n",
    "def bowModel(corpus):\n",
    "    vectorizer = CountVectorizer()\n",
    "    return vectorizer.fit_transform(corpus).toarray()\n",
    "\n",
    "def bigramModel(corpus):\n",
    "    vectorizer = CountVectorizer(ngram_range=(2,2))\n",
    "    return vectorizer.fit_transform(corpus).toarray()\n",
    "\n",
    "def tfidfModel(corpus):\n",
    "    vectorizer = TfidfVectorizer()\n",
    "    return vectorizer.fit_transform(corpus).toarray()\n",
    "\n",
    "def tfidfBiModel(corpus):\n",
    "    vectorizer = TfidfVectorizer(ngram_range=(2,2))\n",
    "    return vectorizer.fit_transform(corpus).toarray()\n",
    "\n",
    "def tfidfUniBiModel(corpus):\n",
    "    vectorizer = TfidfVectorizer(ngram_range=(1,2))\n",
    "    return vectorizer.fit_transform(corpus).toarray()\n",
    "\n",
    "def tfidfTriModel(corpus):\n",
    "    vectorizer = TfidfVectorizer(ngram_range=(3,3))\n",
    "    return vectorizer.fit_transform(corpus).toarray()"
   ]
  },
  {
   "cell_type": "code",
   "execution_count": 4,
   "metadata": {},
   "outputs": [],
   "source": [
    "from sklearn.model_selection import train_test_split\n",
    "\n",
    "def simpleSplit(X, y, test_size = 0.2):\n",
    "    print(f\"X -> {X.shape} | y -> {y.shape}\")\n",
    "    return train_test_split(X, y, test_size = test_size, random_state = 0, stratify=y)"
   ]
  },
  {
   "cell_type": "code",
   "execution_count": 5,
   "metadata": {},
   "outputs": [
    {
     "name": "stdout",
     "output_type": "stream",
     "text": [
      "X -> (16743, 62278) | y -> (16743,)\n",
      "SPLIT!\n",
      "CREATE!\n",
      "FIT!\n",
      "PREDICT!\n",
      "['Value' 'Value(-)' 'Policy' ... 'Policy' 'Value(+)' 'Fact']\n"
     ]
    }
   ],
   "source": [
    "from sklearn.naive_bayes import ComplementNB\n",
    "\n",
    "X_train, X_test, y_train, y_test = simpleSplit(tfidfTriModel(corpus), data_ADU.label)\n",
    "print(\"SPLIT!\")\n",
    "clfGNB = ComplementNB()\n",
    "print(\"CREATE!\")\n",
    "clfGNB.fit(X_train, y_train)\n",
    "print(\"FIT!\")\n",
    "y_pred = clfGNB.predict(X_test)\n",
    "print(\"PREDICT!\")\n",
    "print(y_pred)\n",
    "\n",
    "X_train, X_test, y_train, y_test = (None,) * 4"
   ]
  },
  {
   "cell_type": "code",
   "execution_count": 6,
   "metadata": {},
   "outputs": [
    {
     "name": "stdout",
     "output_type": "stream",
     "text": [
      "X -> (16743, 61558) | y -> (16743,)\n",
      "['Value' 'Value(-)' 'Policy' ... 'Policy' 'Value(+)' 'Fact']\n"
     ]
    }
   ],
   "source": [
    "from sklearn.naive_bayes import ComplementNB\n",
    "\n",
    "X_train, X_test, y_train, y_test = simpleSplit(bigramModel(corpus), data_ADU.label)\n",
    "\n",
    "clfNB = ComplementNB()\n",
    "clfNB.fit(X_train, y_train)\n",
    "y_pred = clfNB.predict(X_test)\n",
    "print(y_pred)\n",
    "\n",
    "X_train, X_test, y_train, y_test = (None,) * 4"
   ]
  }
 ],
 "metadata": {
  "interpreter": {
   "hash": "bb9dff95da49062efc67e57445487145ab0d8a7ae5e3706d09e5f6e4d57f5f83"
  },
  "kernelspec": {
   "display_name": "Python 3.9.7 ('base')",
   "language": "python",
   "name": "python3"
  },
  "language_info": {
   "codemirror_mode": {
    "name": "ipython",
    "version": 3
   },
   "file_extension": ".py",
   "mimetype": "text/x-python",
   "name": "python",
   "nbconvert_exporter": "python",
   "pygments_lexer": "ipython3",
   "version": "3.9.7"
  },
  "orig_nbformat": 4
 },
 "nbformat": 4,
 "nbformat_minor": 2
}
