{
 "cells": [
  {
   "cell_type": "markdown",
   "metadata": {},
   "source": [
    "## Problem Description\n",
    "\n",
    "In the scope of the DARGMINTS project, an annotation project was carried out which consisted of annotating argumentation structures in opinion articles published in the Público newspaper. The annotation included several layers:\n",
    "\n",
    "1. Selecting text spans that are taken to have an argumentative role (either as premises or conclusions of arguments) -- these are Argumentative Discourse Units (ADU).\n",
    "2. Connecting such ADUs through support or attack relations.\n",
    "3. Classifying the propositional content of ADUs as propositions of fact, propositions of value, or propositions of policy; within propositions of value, distinguish between those with a positive (+) or negative (-) connotation.\n",
    "\n",
    "In a proposition of fact, the content corresponds to a piece of information that can be checked for truthness. This does not usually happen with propositions of value, which denote value judgments with a strong subjective nature; often, they also have a (positive or negative) polarity attached. A proposition of policy prescribes or suggests a certain line of action, often mentioning the agents or entities that are capable of carrying out such policies.\n",
    "\n",
    "The aim of this assignment is to build a classifier of types of ADUs, thus focusing on the last annotation step described above. For that, you have access to two different files:\n",
    "\n",
    "- A file containing the content of each annotated ADU span and its 5-class classification: Value, Value(+), Value(-), Fact, or Policy. For each ADU, we also know the annotator and the document from which it has been taken.\n",
    "- A file containing details for each opinion article that has been annotated, including the full article content.\n",
    "Besides ADU contents, you can make use of any contextual information provided in the corresponding opinion article.\n",
    "\n",
    "Each opinion article has been annotated by 3 different annotators. For that reason, you will find in the ADU file an indication of which annotator has obtained the ADU. It may happen that the same ADU has been annotated by more than one annotator. When that is the case, they do not necessarily agree on the type of proposition.\n",
    "\n",
    "How good a classifier (or set of classifiers) can you get? Don't forget to properly split the dataset in a sensible manner, so that you have a proper test set. Start by obtaining an arbitrary baseline, against which you can then compare your improvements."
   ]
  },
  {
   "cell_type": "markdown",
   "metadata": {},
   "source": [
    "Portuguese NLKT: https://www.nltk.org/howto/portuguese_en.html"
   ]
  },
  {
   "cell_type": "markdown",
   "metadata": {},
   "source": [
    "### Data Analysis"
   ]
  },
  {
   "cell_type": "code",
   "execution_count": 1,
   "metadata": {},
   "outputs": [],
   "source": [
    "import pandas as pd\n",
    "data = pd.read_excel('OpArticles/OpArticles.xlsx')\n",
    "data_ADU = pd.read_excel('OpArticles/OpArticles_ADUs.xlsx')"
   ]
  },
  {
   "cell_type": "code",
   "execution_count": 2,
   "metadata": {},
   "outputs": [
    {
     "data": {
      "text/plain": [
       "'Articles Data'"
      ]
     },
     "metadata": {},
     "output_type": "display_data"
    },
    {
     "data": {
      "text/html": [
       "<div>\n",
       "<style scoped>\n",
       "    .dataframe tbody tr th:only-of-type {\n",
       "        vertical-align: middle;\n",
       "    }\n",
       "\n",
       "    .dataframe tbody tr th {\n",
       "        vertical-align: top;\n",
       "    }\n",
       "\n",
       "    .dataframe thead th {\n",
       "        text-align: right;\n",
       "    }\n",
       "</style>\n",
       "<table border=\"1\" class=\"dataframe\">\n",
       "  <thead>\n",
       "    <tr style=\"text-align: right;\">\n",
       "      <th></th>\n",
       "      <th>article_id</th>\n",
       "      <th>title</th>\n",
       "      <th>authors</th>\n",
       "      <th>body</th>\n",
       "      <th>meta_description</th>\n",
       "      <th>topics</th>\n",
       "      <th>keywords</th>\n",
       "      <th>publish_date</th>\n",
       "      <th>url_canonical</th>\n",
       "    </tr>\n",
       "  </thead>\n",
       "  <tbody>\n",
       "    <tr>\n",
       "      <th>0</th>\n",
       "      <td>5d04a31b896a7fea069ef06f</td>\n",
       "      <td>Pouco pão e muito circo, morte e bocejo</td>\n",
       "      <td>['José Vítor Malheiros']</td>\n",
       "      <td>O poeta espanhol António Machado escrevia, uns...</td>\n",
       "      <td>É tudo cómico na FIFA, porque todos os dias a ...</td>\n",
       "      <td>Sports</td>\n",
       "      <td>['Brasil', 'Campeonato do Mundo', 'Desporto', ...</td>\n",
       "      <td>2014-06-17 00:16:00</td>\n",
       "      <td>https://www.publico.pt/2014/06/17/desporto/opi...</td>\n",
       "    </tr>\n",
       "    <tr>\n",
       "      <th>1</th>\n",
       "      <td>5d04a3fc896a7fea069f0717</td>\n",
       "      <td>Portugal nos Mundiais de Futebol de 2010 e 2014</td>\n",
       "      <td>['Rui J. Baptista']</td>\n",
       "      <td>“O mais excelente quadro posto a uma luz logo ...</td>\n",
       "      <td>Deve ser evidenciado o clima favorável criado ...</td>\n",
       "      <td>Sports</td>\n",
       "      <td>['Brasil', 'Campeonato do Mundo', 'Coreia do N...</td>\n",
       "      <td>2014-07-05 02:46:00</td>\n",
       "      <td>https://www.publico.pt/2014/07/05/desporto/opi...</td>\n",
       "    </tr>\n",
       "    <tr>\n",
       "      <th>2</th>\n",
       "      <td>5d04a455896a7fea069f07ab</td>\n",
       "      <td>Futebol, guerra, religião</td>\n",
       "      <td>['Fernando Belo']</td>\n",
       "      <td>1. As sociedades humanas parecem ser regidas p...</td>\n",
       "      <td>O futebol parece ser um sucedâneo quer da lei ...</td>\n",
       "      <td>Sports</td>\n",
       "      <td>['A guerra na Síria', 'Desporto', 'Futebol', '...</td>\n",
       "      <td>2014-07-12 16:05:33</td>\n",
       "      <td>https://www.publico.pt/2014/07/12/desporto/opi...</td>\n",
       "    </tr>\n",
       "    <tr>\n",
       "      <th>3</th>\n",
       "      <td>5d04a52f896a7fea069f0921</td>\n",
       "      <td>As razões do Qatar para acolher o Mundial em 2022</td>\n",
       "      <td>['Hamad bin Khalifa bin Ahmad Al Thani']</td>\n",
       "      <td>Este foi um Mundial incrível. Vimos actuações ...</td>\n",
       "      <td>Queremos cooperar plenamente com a investigaçã...</td>\n",
       "      <td>Sports</td>\n",
       "      <td>['Desporto', 'FIFA', 'Futebol', 'Mundial de fu...</td>\n",
       "      <td>2014-07-27 02:00:00</td>\n",
       "      <td>https://www.publico.pt/2014/07/27/desporto/opi...</td>\n",
       "    </tr>\n",
       "    <tr>\n",
       "      <th>4</th>\n",
       "      <td>5d04a8d7896a7fea069f6997</td>\n",
       "      <td>A política no campo de futebol</td>\n",
       "      <td>['Carlos Nolasco']</td>\n",
       "      <td>O futebol sempre foi um jogo aparentemente sim...</td>\n",
       "      <td>Retirar a expressão política do futebol é reti...</td>\n",
       "      <td>Sports</td>\n",
       "      <td>['Albânia', 'Campeonato da Europa', 'Desporto'...</td>\n",
       "      <td>2014-10-23 00:16:00</td>\n",
       "      <td>https://www.publico.pt/2014/10/23/desporto/opi...</td>\n",
       "    </tr>\n",
       "  </tbody>\n",
       "</table>\n",
       "</div>"
      ],
      "text/plain": [
       "                 article_id  \\\n",
       "0  5d04a31b896a7fea069ef06f   \n",
       "1  5d04a3fc896a7fea069f0717   \n",
       "2  5d04a455896a7fea069f07ab   \n",
       "3  5d04a52f896a7fea069f0921   \n",
       "4  5d04a8d7896a7fea069f6997   \n",
       "\n",
       "                                               title  \\\n",
       "0            Pouco pão e muito circo, morte e bocejo   \n",
       "1    Portugal nos Mundiais de Futebol de 2010 e 2014   \n",
       "2                          Futebol, guerra, religião   \n",
       "3  As razões do Qatar para acolher o Mundial em 2022   \n",
       "4                     A política no campo de futebol   \n",
       "\n",
       "                                    authors  \\\n",
       "0                  ['José Vítor Malheiros']   \n",
       "1                       ['Rui J. Baptista']   \n",
       "2                         ['Fernando Belo']   \n",
       "3  ['Hamad bin Khalifa bin Ahmad Al Thani']   \n",
       "4                        ['Carlos Nolasco']   \n",
       "\n",
       "                                                body  \\\n",
       "0  O poeta espanhol António Machado escrevia, uns...   \n",
       "1  “O mais excelente quadro posto a uma luz logo ...   \n",
       "2  1. As sociedades humanas parecem ser regidas p...   \n",
       "3  Este foi um Mundial incrível. Vimos actuações ...   \n",
       "4  O futebol sempre foi um jogo aparentemente sim...   \n",
       "\n",
       "                                    meta_description  topics  \\\n",
       "0  É tudo cómico na FIFA, porque todos os dias a ...  Sports   \n",
       "1  Deve ser evidenciado o clima favorável criado ...  Sports   \n",
       "2  O futebol parece ser um sucedâneo quer da lei ...  Sports   \n",
       "3  Queremos cooperar plenamente com a investigaçã...  Sports   \n",
       "4  Retirar a expressão política do futebol é reti...  Sports   \n",
       "\n",
       "                                            keywords         publish_date  \\\n",
       "0  ['Brasil', 'Campeonato do Mundo', 'Desporto', ...  2014-06-17 00:16:00   \n",
       "1  ['Brasil', 'Campeonato do Mundo', 'Coreia do N...  2014-07-05 02:46:00   \n",
       "2  ['A guerra na Síria', 'Desporto', 'Futebol', '...  2014-07-12 16:05:33   \n",
       "3  ['Desporto', 'FIFA', 'Futebol', 'Mundial de fu...  2014-07-27 02:00:00   \n",
       "4  ['Albânia', 'Campeonato da Europa', 'Desporto'...  2014-10-23 00:16:00   \n",
       "\n",
       "                                       url_canonical  \n",
       "0  https://www.publico.pt/2014/06/17/desporto/opi...  \n",
       "1  https://www.publico.pt/2014/07/05/desporto/opi...  \n",
       "2  https://www.publico.pt/2014/07/12/desporto/opi...  \n",
       "3  https://www.publico.pt/2014/07/27/desporto/opi...  \n",
       "4  https://www.publico.pt/2014/10/23/desporto/opi...  "
      ]
     },
     "metadata": {},
     "output_type": "display_data"
    },
    {
     "data": {
      "text/plain": [
       "'ADU Data'"
      ]
     },
     "metadata": {},
     "output_type": "display_data"
    },
    {
     "data": {
      "text/html": [
       "<div>\n",
       "<style scoped>\n",
       "    .dataframe tbody tr th:only-of-type {\n",
       "        vertical-align: middle;\n",
       "    }\n",
       "\n",
       "    .dataframe tbody tr th {\n",
       "        vertical-align: top;\n",
       "    }\n",
       "\n",
       "    .dataframe thead th {\n",
       "        text-align: right;\n",
       "    }\n",
       "</style>\n",
       "<table border=\"1\" class=\"dataframe\">\n",
       "  <thead>\n",
       "    <tr style=\"text-align: right;\">\n",
       "      <th></th>\n",
       "      <th>article_id</th>\n",
       "      <th>annotator</th>\n",
       "      <th>node</th>\n",
       "      <th>ranges</th>\n",
       "      <th>tokens</th>\n",
       "      <th>label</th>\n",
       "    </tr>\n",
       "  </thead>\n",
       "  <tbody>\n",
       "    <tr>\n",
       "      <th>0</th>\n",
       "      <td>5d04a31b896a7fea069ef06f</td>\n",
       "      <td>A</td>\n",
       "      <td>0</td>\n",
       "      <td>[[2516, 2556]]</td>\n",
       "      <td>O facto não é apenas fruto da ignorância</td>\n",
       "      <td>Value</td>\n",
       "    </tr>\n",
       "    <tr>\n",
       "      <th>1</th>\n",
       "      <td>5d04a31b896a7fea069ef06f</td>\n",
       "      <td>A</td>\n",
       "      <td>1</td>\n",
       "      <td>[[2568, 2806]]</td>\n",
       "      <td>havia no seu humor mais jornalismo (mais inves...</td>\n",
       "      <td>Value</td>\n",
       "    </tr>\n",
       "    <tr>\n",
       "      <th>2</th>\n",
       "      <td>5d04a31b896a7fea069ef06f</td>\n",
       "      <td>A</td>\n",
       "      <td>3</td>\n",
       "      <td>[[3169, 3190]]</td>\n",
       "      <td>É tudo cómico na FIFA</td>\n",
       "      <td>Value</td>\n",
       "    </tr>\n",
       "    <tr>\n",
       "      <th>3</th>\n",
       "      <td>5d04a31b896a7fea069ef06f</td>\n",
       "      <td>A</td>\n",
       "      <td>4</td>\n",
       "      <td>[[3198, 3285]]</td>\n",
       "      <td>o que todos nós permitimos que esta organizaçã...</td>\n",
       "      <td>Value</td>\n",
       "    </tr>\n",
       "    <tr>\n",
       "      <th>4</th>\n",
       "      <td>5d04a31b896a7fea069ef06f</td>\n",
       "      <td>A</td>\n",
       "      <td>6</td>\n",
       "      <td>[[4257, 4296]]</td>\n",
       "      <td>não nos fazem rir à custa dos poderosos</td>\n",
       "      <td>Value</td>\n",
       "    </tr>\n",
       "  </tbody>\n",
       "</table>\n",
       "</div>"
      ],
      "text/plain": [
       "                 article_id annotator  node          ranges  \\\n",
       "0  5d04a31b896a7fea069ef06f         A     0  [[2516, 2556]]   \n",
       "1  5d04a31b896a7fea069ef06f         A     1  [[2568, 2806]]   \n",
       "2  5d04a31b896a7fea069ef06f         A     3  [[3169, 3190]]   \n",
       "3  5d04a31b896a7fea069ef06f         A     4  [[3198, 3285]]   \n",
       "4  5d04a31b896a7fea069ef06f         A     6  [[4257, 4296]]   \n",
       "\n",
       "                                              tokens  label  \n",
       "0           O facto não é apenas fruto da ignorância  Value  \n",
       "1  havia no seu humor mais jornalismo (mais inves...  Value  \n",
       "2                              É tudo cómico na FIFA  Value  \n",
       "3  o que todos nós permitimos que esta organizaçã...  Value  \n",
       "4            não nos fazem rir à custa dos poderosos  Value  "
      ]
     },
     "metadata": {},
     "output_type": "display_data"
    }
   ],
   "source": [
    "# TODO\n",
    "\n",
    "display(\"Articles Data\", data.head())\n",
    "display(\"ADU Data\", data_ADU.head())"
   ]
  },
  {
   "cell_type": "code",
   "execution_count": 3,
   "metadata": {},
   "outputs": [
    {
     "name": "stdout",
     "output_type": "stream",
     "text": [
      "---------------------Articles---------------------\n",
      "<class 'pandas.core.frame.DataFrame'>\n",
      "RangeIndex: 373 entries, 0 to 372\n",
      "Data columns (total 9 columns):\n",
      " #   Column            Non-Null Count  Dtype \n",
      "---  ------            --------------  ----- \n",
      " 0   article_id        373 non-null    object\n",
      " 1   title             373 non-null    object\n",
      " 2   authors           373 non-null    object\n",
      " 3   body              373 non-null    object\n",
      " 4   meta_description  373 non-null    object\n",
      " 5   topics            373 non-null    object\n",
      " 6   keywords          373 non-null    object\n",
      " 7   publish_date      373 non-null    object\n",
      " 8   url_canonical     373 non-null    object\n",
      "dtypes: object(9)\n",
      "memory usage: 26.4+ KB\n",
      "---------------------ADU---------------------\n",
      "<class 'pandas.core.frame.DataFrame'>\n",
      "RangeIndex: 16743 entries, 0 to 16742\n",
      "Data columns (total 6 columns):\n",
      " #   Column      Non-Null Count  Dtype \n",
      "---  ------      --------------  ----- \n",
      " 0   article_id  16743 non-null  object\n",
      " 1   annotator   16743 non-null  object\n",
      " 2   node        16743 non-null  int64 \n",
      " 3   ranges      16743 non-null  object\n",
      " 4   tokens      16743 non-null  object\n",
      " 5   label       16743 non-null  object\n",
      "dtypes: int64(1), object(5)\n",
      "memory usage: 785.0+ KB\n"
     ]
    }
   ],
   "source": [
    "print(\"---------------------Articles---------------------\")\n",
    "data.info()\n",
    "print(\"---------------------ADU---------------------\")\n",
    "data_ADU.info()"
   ]
  },
  {
   "cell_type": "markdown",
   "metadata": {},
   "source": [
    "#### Description of tables"
   ]
  },
  {
   "cell_type": "code",
   "execution_count": 4,
   "metadata": {},
   "outputs": [
    {
     "data": {
      "text/plain": [
       "'Articles data'"
      ]
     },
     "metadata": {},
     "output_type": "display_data"
    },
    {
     "data": {
      "text/html": [
       "<div>\n",
       "<style scoped>\n",
       "    .dataframe tbody tr th:only-of-type {\n",
       "        vertical-align: middle;\n",
       "    }\n",
       "\n",
       "    .dataframe tbody tr th {\n",
       "        vertical-align: top;\n",
       "    }\n",
       "\n",
       "    .dataframe thead th {\n",
       "        text-align: right;\n",
       "    }\n",
       "</style>\n",
       "<table border=\"1\" class=\"dataframe\">\n",
       "  <thead>\n",
       "    <tr style=\"text-align: right;\">\n",
       "      <th></th>\n",
       "      <th>article_id</th>\n",
       "      <th>title</th>\n",
       "      <th>authors</th>\n",
       "      <th>body</th>\n",
       "      <th>meta_description</th>\n",
       "      <th>topics</th>\n",
       "      <th>keywords</th>\n",
       "      <th>publish_date</th>\n",
       "      <th>url_canonical</th>\n",
       "    </tr>\n",
       "  </thead>\n",
       "  <tbody>\n",
       "    <tr>\n",
       "      <th>count</th>\n",
       "      <td>373</td>\n",
       "      <td>373</td>\n",
       "      <td>373</td>\n",
       "      <td>373</td>\n",
       "      <td>373</td>\n",
       "      <td>373</td>\n",
       "      <td>373</td>\n",
       "      <td>373</td>\n",
       "      <td>373</td>\n",
       "    </tr>\n",
       "    <tr>\n",
       "      <th>unique</th>\n",
       "      <td>373</td>\n",
       "      <td>373</td>\n",
       "      <td>373</td>\n",
       "      <td>373</td>\n",
       "      <td>373</td>\n",
       "      <td>8</td>\n",
       "      <td>356</td>\n",
       "      <td>372</td>\n",
       "      <td>373</td>\n",
       "    </tr>\n",
       "    <tr>\n",
       "      <th>top</th>\n",
       "      <td>5d04c671896a7fea06a11275</td>\n",
       "      <td>A tarefa mais difícil da História americana</td>\n",
       "      <td>['Vasco Lourenço']</td>\n",
       "      <td>Na União Europeia, muito se tem falado da nece...</td>\n",
       "      <td>A crise na habitação é a maior urgência da cap...</td>\n",
       "      <td>Sports</td>\n",
       "      <td>['Desporto', 'Opinião']</td>\n",
       "      <td>2016-08-04 00:30:00</td>\n",
       "      <td>https://www.publico.pt/2019/04/30/ciencia/opin...</td>\n",
       "    </tr>\n",
       "    <tr>\n",
       "      <th>freq</th>\n",
       "      <td>1</td>\n",
       "      <td>1</td>\n",
       "      <td>1</td>\n",
       "      <td>1</td>\n",
       "      <td>1</td>\n",
       "      <td>52</td>\n",
       "      <td>4</td>\n",
       "      <td>2</td>\n",
       "      <td>1</td>\n",
       "    </tr>\n",
       "  </tbody>\n",
       "</table>\n",
       "</div>"
      ],
      "text/plain": [
       "                      article_id                                        title  \\\n",
       "count                        373                                          373   \n",
       "unique                       373                                          373   \n",
       "top     5d04c671896a7fea06a11275  A tarefa mais difícil da História americana   \n",
       "freq                           1                                            1   \n",
       "\n",
       "                   authors                                               body  \\\n",
       "count                  373                                                373   \n",
       "unique                 373                                                373   \n",
       "top     ['Vasco Lourenço']  Na União Europeia, muito se tem falado da nece...   \n",
       "freq                     1                                                  1   \n",
       "\n",
       "                                         meta_description  topics  \\\n",
       "count                                                 373     373   \n",
       "unique                                                373       8   \n",
       "top     A crise na habitação é a maior urgência da cap...  Sports   \n",
       "freq                                                    1      52   \n",
       "\n",
       "                       keywords         publish_date  \\\n",
       "count                       373                  373   \n",
       "unique                      356                  372   \n",
       "top     ['Desporto', 'Opinião']  2016-08-04 00:30:00   \n",
       "freq                          4                    2   \n",
       "\n",
       "                                            url_canonical  \n",
       "count                                                 373  \n",
       "unique                                                373  \n",
       "top     https://www.publico.pt/2019/04/30/ciencia/opin...  \n",
       "freq                                                    1  "
      ]
     },
     "metadata": {},
     "output_type": "display_data"
    },
    {
     "data": {
      "text/plain": [
       "'ADU data'"
      ]
     },
     "metadata": {},
     "output_type": "display_data"
    },
    {
     "data": {
      "text/html": [
       "<div>\n",
       "<style scoped>\n",
       "    .dataframe tbody tr th:only-of-type {\n",
       "        vertical-align: middle;\n",
       "    }\n",
       "\n",
       "    .dataframe tbody tr th {\n",
       "        vertical-align: top;\n",
       "    }\n",
       "\n",
       "    .dataframe thead th {\n",
       "        text-align: right;\n",
       "    }\n",
       "</style>\n",
       "<table border=\"1\" class=\"dataframe\">\n",
       "  <thead>\n",
       "    <tr style=\"text-align: right;\">\n",
       "      <th></th>\n",
       "      <th>article_id</th>\n",
       "      <th>annotator</th>\n",
       "      <th>node</th>\n",
       "      <th>ranges</th>\n",
       "      <th>tokens</th>\n",
       "      <th>label</th>\n",
       "    </tr>\n",
       "  </thead>\n",
       "  <tbody>\n",
       "    <tr>\n",
       "      <th>count</th>\n",
       "      <td>16743</td>\n",
       "      <td>16743</td>\n",
       "      <td>16743.000000</td>\n",
       "      <td>16743</td>\n",
       "      <td>16743</td>\n",
       "      <td>16743</td>\n",
       "    </tr>\n",
       "    <tr>\n",
       "      <th>unique</th>\n",
       "      <td>373</td>\n",
       "      <td>4</td>\n",
       "      <td>NaN</td>\n",
       "      <td>11929</td>\n",
       "      <td>12008</td>\n",
       "      <td>5</td>\n",
       "    </tr>\n",
       "    <tr>\n",
       "      <th>top</th>\n",
       "      <td>5cf464b6896a7fea06ffbb9d</td>\n",
       "      <td>B</td>\n",
       "      <td>NaN</td>\n",
       "      <td>[[0, 138]]</td>\n",
       "      <td>Não é verdade</td>\n",
       "      <td>Value</td>\n",
       "    </tr>\n",
       "    <tr>\n",
       "      <th>freq</th>\n",
       "      <td>142</td>\n",
       "      <td>5226</td>\n",
       "      <td>NaN</td>\n",
       "      <td>6</td>\n",
       "      <td>8</td>\n",
       "      <td>8102</td>\n",
       "    </tr>\n",
       "    <tr>\n",
       "      <th>mean</th>\n",
       "      <td>NaN</td>\n",
       "      <td>NaN</td>\n",
       "      <td>14.938960</td>\n",
       "      <td>NaN</td>\n",
       "      <td>NaN</td>\n",
       "      <td>NaN</td>\n",
       "    </tr>\n",
       "    <tr>\n",
       "      <th>std</th>\n",
       "      <td>NaN</td>\n",
       "      <td>NaN</td>\n",
       "      <td>14.033932</td>\n",
       "      <td>NaN</td>\n",
       "      <td>NaN</td>\n",
       "      <td>NaN</td>\n",
       "    </tr>\n",
       "    <tr>\n",
       "      <th>min</th>\n",
       "      <td>NaN</td>\n",
       "      <td>NaN</td>\n",
       "      <td>0.000000</td>\n",
       "      <td>NaN</td>\n",
       "      <td>NaN</td>\n",
       "      <td>NaN</td>\n",
       "    </tr>\n",
       "    <tr>\n",
       "      <th>25%</th>\n",
       "      <td>NaN</td>\n",
       "      <td>NaN</td>\n",
       "      <td>4.000000</td>\n",
       "      <td>NaN</td>\n",
       "      <td>NaN</td>\n",
       "      <td>NaN</td>\n",
       "    </tr>\n",
       "    <tr>\n",
       "      <th>50%</th>\n",
       "      <td>NaN</td>\n",
       "      <td>NaN</td>\n",
       "      <td>11.000000</td>\n",
       "      <td>NaN</td>\n",
       "      <td>NaN</td>\n",
       "      <td>NaN</td>\n",
       "    </tr>\n",
       "    <tr>\n",
       "      <th>75%</th>\n",
       "      <td>NaN</td>\n",
       "      <td>NaN</td>\n",
       "      <td>21.000000</td>\n",
       "      <td>NaN</td>\n",
       "      <td>NaN</td>\n",
       "      <td>NaN</td>\n",
       "    </tr>\n",
       "    <tr>\n",
       "      <th>max</th>\n",
       "      <td>NaN</td>\n",
       "      <td>NaN</td>\n",
       "      <td>100.000000</td>\n",
       "      <td>NaN</td>\n",
       "      <td>NaN</td>\n",
       "      <td>NaN</td>\n",
       "    </tr>\n",
       "  </tbody>\n",
       "</table>\n",
       "</div>"
      ],
      "text/plain": [
       "                      article_id annotator          node      ranges  \\\n",
       "count                      16743     16743  16743.000000       16743   \n",
       "unique                       373         4           NaN       11929   \n",
       "top     5cf464b6896a7fea06ffbb9d         B           NaN  [[0, 138]]   \n",
       "freq                         142      5226           NaN           6   \n",
       "mean                         NaN       NaN     14.938960         NaN   \n",
       "std                          NaN       NaN     14.033932         NaN   \n",
       "min                          NaN       NaN      0.000000         NaN   \n",
       "25%                          NaN       NaN      4.000000         NaN   \n",
       "50%                          NaN       NaN     11.000000         NaN   \n",
       "75%                          NaN       NaN     21.000000         NaN   \n",
       "max                          NaN       NaN    100.000000         NaN   \n",
       "\n",
       "               tokens  label  \n",
       "count           16743  16743  \n",
       "unique          12008      5  \n",
       "top     Não é verdade  Value  \n",
       "freq                8   8102  \n",
       "mean              NaN    NaN  \n",
       "std               NaN    NaN  \n",
       "min               NaN    NaN  \n",
       "25%               NaN    NaN  \n",
       "50%               NaN    NaN  \n",
       "75%               NaN    NaN  \n",
       "max               NaN    NaN  "
      ]
     },
     "metadata": {},
     "output_type": "display_data"
    }
   ],
   "source": [
    "display(\"Articles data\", data.describe(include='all'))\n",
    "display(\"ADU data\", data_ADU.describe(include='all'))"
   ]
  },
  {
   "cell_type": "markdown",
   "metadata": {},
   "source": [
    "### Preprocessing"
   ]
  },
  {
   "cell_type": "markdown",
   "metadata": {},
   "source": [
    "#### Stemming and Stopwords"
   ]
  },
  {
   "cell_type": "code",
   "execution_count": 3,
   "metadata": {},
   "outputs": [
    {
     "name": "stdout",
     "output_type": "stream",
     "text": [
      "['fact não apen frut ignor', 'hav hum jorn investig preocup aprofund contextual histór isenç relat preocup soc urg denunci muit peç real jorn', 'tud cómic fif']\n",
      "16743\n"
     ]
    }
   ],
   "source": [
    "import re\n",
    "from nltk.stem import RSLPStemmer\n",
    "from nltk.corpus import stopwords\n",
    "\n",
    "stopwords = stopwords.words(\"portuguese\")\n",
    "stemmer = RSLPStemmer()\n",
    "\n",
    "corpus = []\n",
    "for token in data_ADU[\"tokens\"]:\n",
    "    c_tk = re.sub('[^a-zA-Z\\u00C0-\\u00ff]', ' ', token.lower())\n",
    "    c_tk = \" \".join(stemmer.stem(w) for w in c_tk.split() if w == \"não\" or w not in stopwords)\n",
    "    corpus.append(c_tk)\n",
    "\n",
    "print(corpus[:3])\n",
    "print(len(corpus))"
   ]
  },
  {
   "cell_type": "markdown",
   "metadata": {},
   "source": [
    "#### Lemmatization"
   ]
  },
  {
   "cell_type": "code",
   "execution_count": 6,
   "metadata": {},
   "outputs": [],
   "source": [
    "# TODO - Experiment with NLPyPort"
   ]
  },
  {
   "cell_type": "markdown",
   "metadata": {},
   "source": [
    "### Language Models\n",
    "\n",
    "#### Basic bag of words model"
   ]
  },
  {
   "cell_type": "code",
   "execution_count": 7,
   "metadata": {},
   "outputs": [],
   "source": [
    "from sklearn.feature_extraction.text import CountVectorizer\n",
    "\n",
    "def bowModel(corpus):\n",
    "    vectorizer = CountVectorizer()\n",
    "    return vectorizer.fit_transform(corpus).toarray()"
   ]
  },
  {
   "cell_type": "markdown",
   "metadata": {},
   "source": [
    "#### N-gram"
   ]
  },
  {
   "cell_type": "code",
   "execution_count": 8,
   "metadata": {},
   "outputs": [],
   "source": [
    "def bigramModel(corpus):\n",
    "    vectorizer = CountVectorizer(ngram_range=(2,2))\n",
    "    return vectorizer.fit_transform(corpus).toarray()\n",
    "\n",
    "def unibigramModel(corpus):\n",
    "    vectorizer = CountVectorizer(ngram_range=(1,2))\n",
    "    return vectorizer.fit_transform(corpus).toarray()\n",
    "\n",
    "def trigramModel(corpus):\n",
    "    vectorizer = CountVectorizer(ngram_range=(3,3))\n",
    "    return vectorizer.fit_transform(corpus).toarray()"
   ]
  },
  {
   "cell_type": "markdown",
   "metadata": {},
   "source": [
    "#### TF-IDF"
   ]
  },
  {
   "cell_type": "code",
   "execution_count": 9,
   "metadata": {},
   "outputs": [],
   "source": [
    "from sklearn.feature_extraction.text import TfidfVectorizer\n",
    "\n",
    "def tfidfModel(corpus):\n",
    "    vectorizer = TfidfVectorizer()\n",
    "    return vectorizer.fit_transform(corpus).toarray()\n",
    "\n",
    "def tfidfBiModel(corpus):\n",
    "    vectorizer = TfidfVectorizer(ngram_range=(2,2))\n",
    "    return vectorizer.fit_transform(corpus).toarray()\n",
    "\n",
    "def tfidfUniBiModel(corpus):\n",
    "    vectorizer = TfidfVectorizer(ngram_range=(1,2))\n",
    "    return vectorizer.fit_transform(corpus).toarray()\n",
    "\n",
    "def tfidfTriModel(corpus):\n",
    "    vectorizer = TfidfVectorizer(ngram_range=(3,3))\n",
    "    return vectorizer.fit_transform(corpus).toarray()"
   ]
  },
  {
   "cell_type": "markdown",
   "metadata": {},
   "source": [
    "### Train/Test split\n",
    "\n",
    "#### Simple split"
   ]
  },
  {
   "cell_type": "code",
   "execution_count": 10,
   "metadata": {},
   "outputs": [],
   "source": [
    "from sklearn.model_selection import train_test_split\n",
    "\n",
    "def simpleSplit(X, y, test_size = 0.2):\n",
    "    print(f\"X -> {X.shape} | y -> {y.shape}\")\n",
    "    return train_test_split(X, y, test_size = test_size, random_state = 0, stratify=y)"
   ]
  },
  {
   "cell_type": "markdown",
   "metadata": {},
   "source": [
    "### Balance the dataset"
   ]
  },
  {
   "cell_type": "markdown",
   "metadata": {},
   "source": [
    "#### Oversampling"
   ]
  },
  {
   "cell_type": "code",
   "execution_count": 15,
   "metadata": {},
   "outputs": [
    {
     "name": "stdout",
     "output_type": "stream",
     "text": [
      "X -> (16743, 69814) | y -> (16743,)\n",
      "Training target statistics: Counter({'Value': 6481, 'Value(-)': 6481, 'Fact': 6481, 'Policy': 6481, 'Value(+)': 6481})\n",
      "Testing target statistics: Counter({'Value': 1621, 'Fact': 733, 'Value(-)': 580, 'Value(+)': 282, 'Policy': 133})\n"
     ]
    }
   ],
   "source": [
    "# TODO - Experiment with different resampling algos\n",
    "\n",
    "X_train, X_test, y_train, y_test = simpleSplit(tfidfUniBiModel(corpus), data_ADU.label)\n",
    "\n",
    "from imblearn.over_sampling import RandomOverSampler\n",
    "from collections import Counter\n",
    "\n",
    "over_sampler = RandomOverSampler(random_state=42)\n",
    "XR_res, yR_res = over_sampler.fit_resample(X_train, y_train)\n",
    "print(f\"Training target statistics: {Counter(yR_res)}\")\n",
    "print(f\"Testing target statistics: {Counter(y_test)}\")\n"
   ]
  },
  {
   "cell_type": "code",
   "execution_count": 13,
   "metadata": {},
   "outputs": [
    {
     "name": "stdout",
     "output_type": "stream",
     "text": [
      "Training target statistics: Counter({'Value': 6481, 'Value(-)': 6481, 'Fact': 6481, 'Policy': 6481, 'Value(+)': 6481})\n",
      "Testing target statistics: Counter({'Value': 1621, 'Fact': 733, 'Value(-)': 580, 'Value(+)': 282, 'Policy': 133})\n"
     ]
    }
   ],
   "source": [
    "from imblearn.over_sampling import SMOTE\n",
    "over_sampler = SMOTE(k_neighbors=2)\n",
    "X_res, y_res = over_sampler.fit_resample(X_train, y_train)\n",
    "print(f\"Training target statistics: {Counter(y_res)}\")\n",
    "print(f\"Testing target statistics: {Counter(y_test)}\")"
   ]
  },
  {
   "cell_type": "markdown",
   "metadata": {},
   "source": [
    "#### Undersampling"
   ]
  },
  {
   "cell_type": "code",
   "execution_count": 17,
   "metadata": {},
   "outputs": [
    {
     "name": "stdout",
     "output_type": "stream",
     "text": [
      "Training target statistics: Counter({'Fact': 534, 'Policy': 534, 'Value': 534, 'Value(+)': 534, 'Value(-)': 534})\n",
      "Testing target statistics: Counter({'Value': 1621, 'Fact': 733, 'Value(-)': 580, 'Value(+)': 282, 'Policy': 133})\n"
     ]
    }
   ],
   "source": [
    "from imblearn.under_sampling import RandomUnderSampler\n",
    "under_sampler = RandomUnderSampler(random_state=42)\n",
    "XU_res, yU_res = under_sampler.fit_resample(X_train, y_train)\n",
    "print(f\"Training target statistics: {Counter(yU_res)}\")\n",
    "print(f\"Testing target statistics: {Counter(y_test)}\")"
   ]
  },
  {
   "cell_type": "code",
   "execution_count": 18,
   "metadata": {},
   "outputs": [
    {
     "name": "stdout",
     "output_type": "stream",
     "text": [
      "Training target statistics: Counter({'Fact': 534, 'Policy': 534, 'Value': 534, 'Value(+)': 534, 'Value(-)': 534})\n",
      "Testing target statistics: Counter({'Value': 1621, 'Fact': 733, 'Value(-)': 580, 'Value(+)': 282, 'Policy': 133})\n"
     ]
    }
   ],
   "source": [
    "from imblearn.under_sampling import NearMiss\n",
    "under_sampler = NearMiss()\n",
    "XN_res, yN_res = under_sampler.fit_resample(X_train, y_train)\n",
    "print(f\"Training target statistics: {Counter(yN_res)}\")\n",
    "print(f\"Testing target statistics: {Counter(y_test)}\")"
   ]
  },
  {
   "cell_type": "markdown",
   "metadata": {},
   "source": [
    "### Models"
   ]
  },
  {
   "cell_type": "markdown",
   "metadata": {},
   "source": [
    "#### Evaluation functions"
   ]
  },
  {
   "cell_type": "code",
   "execution_count": 21,
   "metadata": {},
   "outputs": [],
   "source": [
    "from sklearn.metrics import confusion_matrix, classification_report, ConfusionMatrixDisplay\n",
    "import matplotlib.pyplot as plt\n",
    "import seaborn as sns\n",
    "from pathlib import Path\n",
    "from datetime import datetime\n",
    "import json\n",
    "\n",
    "def padded_print(text, length=60):\n",
    "    leading = (length - len(text)) // 2\n",
    "    trailing = length - len(text) - leading\n",
    "    print(\"-\" * leading + text + \"-\" * trailing)\n",
    "    print()\n",
    "\n",
    "def model_evaluation(y_pred, y_true, name=\"\", save=True):\n",
    "    labels = [\"Fact\", \"Policy\", \"Value\", \"Value(+)\", \"Value(-)\"]\n",
    "    padded_print(\"Classification Report\")\n",
    "    print(classification_report(y_true, y_pred))\n",
    "    padded_print(\"Confusion Matrix\")\n",
    "\n",
    "    plt.figure(figsize=(8,8))\n",
    "    ax = sns.heatmap(confusion_matrix(y_true, y_pred), annot=True, square=True, fmt=\"g\", cmap=\"viridis\", xticklabels=labels, yticklabels=labels)\n",
    "    ax.set_xlabel(\"Predicted\", fontsize=14)\n",
    "    ax.set_ylabel(\"True\", fontsize=14)\n",
    "    ax.set_title(f\"Confusion Matrix {name}\", fontsize=16, pad=20)\n",
    "    \n",
    "    if save:\n",
    "        timestamp = datetime.now()\n",
    "        Path(f\"./Results/{name} - {timestamp}\").mkdir(parents=True, exist_ok=True)\n",
    "        with open(f\"./Results/{name} - {timestamp}/classification_report.json\", \"w\") as out:\n",
    "            json.dump(classification_report(y_true, y_pred, output_dict=True), out)\n",
    "        plt.savefig(f\"./Results/{name} - {timestamp}/confusion_matrix.png\")\n",
    "\n",
    "    plt.show()\n"
   ]
  },
  {
   "cell_type": "code",
   "execution_count": 13,
   "metadata": {},
   "outputs": [],
   "source": [
    "def display(results):\n",
    "    print(f'Best parameters are: {results.best_params_}')\n",
    "    print(\"\\n\")\n",
    "    mean_score = results.cv_results_['mean_test_score']\n",
    "    std_score = results.cv_results_['std_test_score']\n",
    "    params = results.cv_results_['params']\n",
    "    for mean,std,params in zip(mean_score,std_score,params):\n",
    "        print(f'{round(mean,3)} + or -{round(std,3)} for the {params}')"
   ]
  },
  {
   "cell_type": "code",
   "execution_count": 14,
   "metadata": {},
   "outputs": [],
   "source": [
    "from sklearn.model_selection import cross_val_score\n",
    "\n",
    "def cross_validation(model, kfold, X, y):\n",
    "  return cross_val_score(model, X, y, cv=kfold)"
   ]
  },
  {
   "cell_type": "code",
   "execution_count": 23,
   "metadata": {},
   "outputs": [
    {
     "name": "stdout",
     "output_type": "stream",
     "text": [
      "-------------------Classification Report--------------------\n",
      "\n",
      "              precision    recall  f1-score   support\n",
      "\n",
      "        Fact       0.31      0.50      0.39       733\n",
      "      Policy       0.49      0.54      0.52       133\n",
      "       Value       0.60      0.43      0.50      1621\n",
      "    Value(+)       0.29      0.39      0.33       282\n",
      "    Value(-)       0.38      0.33      0.35       580\n",
      "\n",
      "    accuracy                           0.43      3349\n",
      "   macro avg       0.42      0.44      0.42      3349\n",
      "weighted avg       0.47      0.43      0.44      3349\n",
      "\n",
      "----------------------Confusion Matrix----------------------\n",
      "\n"
     ]
    },
    {
     "data": {
      "image/png": "[encoded data removed]",
      "text/plain": [
       "<Figure size 576x576 with 2 Axes>"
      ]
     },
     "metadata": {
      "needs_background": "light"
     },
     "output_type": "display_data"
    }
   ],
   "source": [
    "# Test balance\n",
    "\n",
    "from sklearn.ensemble import RandomForestClassifier\n",
    "\n",
    "clfRF = RandomForestClassifier(max_depth=50)\n",
    "\n",
    "clfRF.fit(XR_res, yR_res)\n",
    "y_pred = clfRF.predict(X_test)\n",
    "\n",
    "model_evaluation(y_pred, y_test, \"Naive Bayes TF-IDF UniBi\")\n"
   ]
  },
  {
   "cell_type": "markdown",
   "metadata": {},
   "source": [
    "#### Naive Bayes"
   ]
  },
  {
   "cell_type": "code",
   "execution_count": 15,
   "metadata": {},
   "outputs": [
    {
     "name": "stdout",
     "output_type": "stream",
     "text": [
      "X -> (16743, 69814) | y -> (16743,)\n",
      "-------------------Classification Report--------------------\n",
      "\n",
      "              precision    recall  f1-score   support\n",
      "\n",
      "        Fact       0.68      0.11      0.18       733\n",
      "      Policy       0.00      0.00      0.00       133\n",
      "       Value       0.50      0.98      0.66      1621\n",
      "    Value(+)       0.00      0.00      0.00       282\n",
      "    Value(-)       0.64      0.03      0.06       580\n",
      "\n",
      "    accuracy                           0.50      3349\n",
      "   macro avg       0.36      0.22      0.18      3349\n",
      "weighted avg       0.50      0.50      0.37      3349\n",
      "\n",
      "----------------------Confusion Matrix----------------------\n",
      "\n"
     ]
    },
    {
     "name": "stderr",
     "output_type": "stream",
     "text": [
      "/home/antonio/.asdf/installs/python/anaconda3-2021.11/lib/python3.9/site-packages/sklearn/metrics/_classification.py:1248: UndefinedMetricWarning: Precision and F-score are ill-defined and being set to 0.0 in labels with no predicted samples. Use `zero_division` parameter to control this behavior.\n",
      "  _warn_prf(average, modifier, msg_start, len(result))\n",
      "/home/antonio/.asdf/installs/python/anaconda3-2021.11/lib/python3.9/site-packages/sklearn/metrics/_classification.py:1248: UndefinedMetricWarning: Precision and F-score are ill-defined and being set to 0.0 in labels with no predicted samples. Use `zero_division` parameter to control this behavior.\n",
      "  _warn_prf(average, modifier, msg_start, len(result))\n",
      "/home/antonio/.asdf/installs/python/anaconda3-2021.11/lib/python3.9/site-packages/sklearn/metrics/_classification.py:1248: UndefinedMetricWarning: Precision and F-score are ill-defined and being set to 0.0 in labels with no predicted samples. Use `zero_division` parameter to control this behavior.\n",
      "  _warn_prf(average, modifier, msg_start, len(result))\n",
      "/home/antonio/.asdf/installs/python/anaconda3-2021.11/lib/python3.9/site-packages/sklearn/metrics/_classification.py:1248: UndefinedMetricWarning: Precision and F-score are ill-defined and being set to 0.0 in labels with no predicted samples. Use `zero_division` parameter to control this behavior.\n",
      "  _warn_prf(average, modifier, msg_start, len(result))\n",
      "/home/antonio/.asdf/installs/python/anaconda3-2021.11/lib/python3.9/site-packages/sklearn/metrics/_classification.py:1248: UndefinedMetricWarning: Precision and F-score are ill-defined and being set to 0.0 in labels with no predicted samples. Use `zero_division` parameter to control this behavior.\n",
      "  _warn_prf(average, modifier, msg_start, len(result))\n",
      "/home/antonio/.asdf/installs/python/anaconda3-2021.11/lib/python3.9/site-packages/sklearn/metrics/_classification.py:1248: UndefinedMetricWarning: Precision and F-score are ill-defined and being set to 0.0 in labels with no predicted samples. Use `zero_division` parameter to control this behavior.\n",
      "  _warn_prf(average, modifier, msg_start, len(result))\n"
     ]
    },
    {
     "data": {
      "image/png": "[encoded data removed]",
      "text/plain": [
       "<Figure size 576x576 with 2 Axes>"
      ]
     },
     "metadata": {
      "needs_background": "light"
     },
     "output_type": "display_data"
    }
   ],
   "source": [
    "# TODO - Naive Bayes\n",
    "\n",
    "from sklearn.naive_bayes import MultinomialNB\n",
    "from sklearn.model_selection import GridSearchCV\n",
    "\n",
    "X_train, X_test, y_train, y_test = simpleSplit(tfidfUniBiModel(corpus), data_ADU.label)\n",
    "\n",
    "clfNB = MultinomialNB()\n",
    "#parameters= {\n",
    "  #\"alpha\":[0, 0.5, 1.0, 1.5, 2.0],\n",
    "  #\"fit_prior\":[True, False],\n",
    "#}\n",
    "\n",
    "#cv = GridSearchCV(clfNB,parameters,cv=5)\n",
    "#cv.fit(X_train, y_train.ravel())\n",
    "\n",
    "#display(cv)\n",
    "\n",
    "clfNB.fit(X_train, y_train)\n",
    "y_pred = clfNB.predict(X_test)\n",
    "\n",
    "model_evaluation(y_pred, y_test, \"Naive Bayes TF-IDF UniBi\")"
   ]
  },
  {
   "cell_type": "code",
   "execution_count": 16,
   "metadata": {},
   "outputs": [
    {
     "name": "stdout",
     "output_type": "stream",
     "text": [
      "X -> (16743, 69814) | y -> (16743,)\n"
     ]
    },
    {
     "ename": "Error",
     "evalue": "Canceled future for execute_request message before replies were done",
     "output_type": "error",
     "traceback": [
      "Error: Canceled future for execute_request message before replies were done",
      "at t.KernelShellFutureHandler.dispose (/home/antonio/.vscode/extensions/ms-toolsai.jupyter-2022.3.1000901801/out/extension.js:2:1204175)",
      "at /home/antonio/.vscode/extensions/ms-toolsai.jupyter-2022.3.1000901801/out/extension.js:2:1223227",
      "at Map.forEach (<anonymous>)",
      "at v._clearKernelState (/home/antonio/.vscode/extensions/ms-toolsai.jupyter-2022.3.1000901801/out/extension.js:2:1223212)",
      "at v.dispose (/home/antonio/.vscode/extensions/ms-toolsai.jupyter-2022.3.1000901801/out/extension.js:2:1216694)",
      "at /home/antonio/.vscode/extensions/ms-toolsai.jupyter-2022.3.1000901801/out/extension.js:2:533674",
      "at t.swallowExceptions (/home/antonio/.vscode/extensions/ms-toolsai.jupyter-2022.3.1000901801/out/extension.js:2:913059)",
      "at dispose (/home/antonio/.vscode/extensions/ms-toolsai.jupyter-2022.3.1000901801/out/extension.js:2:533652)",
      "at t.RawSession.dispose (/home/antonio/.vscode/extensions/ms-toolsai.jupyter-2022.3.1000901801/out/extension.js:2:537330)",
      "at processTicksAndRejections (node:internal/process/task_queues:96:5)"
     ]
    }
   ],
   "source": [
    "from sklearn.naive_bayes import GaussianNB\n",
    "\n",
    "X_train, X_test, y_train, y_test = simpleSplit(tfidfUniBiModel(corpus), data_ADU.label)\n",
    "\n",
    "clfGNB = GaussianNB()\n",
    "clfGNB.fit(X_train, y_train)\n",
    "\n",
    "y_pred = clfGNB.predict(X_test)\n",
    "print(y_pred)\n",
    "\n",
    "model_evaluation(y_pred, y_test, \"GaussNB TF-IDF UniBi\")"
   ]
  },
  {
   "cell_type": "markdown",
   "metadata": {},
   "source": [
    "#### Logistic Regression"
   ]
  },
  {
   "cell_type": "code",
   "execution_count": null,
   "metadata": {},
   "outputs": [
    {
     "name": "stdout",
     "output_type": "stream",
     "text": [
      "['Fact' 'Value' 'Value' ... 'Value' 'Value' 'Fact']\n",
      "------------------Confusion Matrix------------------\n",
      "[[ 240    1  400   11   44]\n",
      " [   9   30   93    1    5]\n",
      " [ 202   22 1297   43  116]\n",
      " [  28    4  173   58   11]\n",
      " [  54    6  333    2  166]]\n",
      "------------------Accuracy------------------\n",
      "0.5347865034338608\n",
      "------------------Precision------------------\n",
      "[0.45028143 0.47619048 0.56489547 0.50434783 0.48538012]\n",
      "------------------Recall------------------\n",
      "[0.34482759 0.2173913  0.77202381 0.21167883 0.29590018]\n",
      "------------------F1------------------\n",
      "[0.39056143 0.29850746 0.65241449 0.29820051 0.36766334]\n"
     ]
    }
   ],
   "source": [
    "# Regularization is applied by default\n",
    "\n",
    "from sklearn.linear_model import LogisticRegression\n",
    "import numpy as np\n",
    "\n",
    "X_train, X_test, y_train, y_test = simpleSplit(tfidfUniBiModel(corpus), data_ADU.label)\n",
    "\n",
    "clfLR = LogisticRegression(penalty='l2', C=0.615848211066026, solver='liblinear')\n",
    "#parameters = {\n",
    "  #\"penalty\": [\"l1\", \"l2\"],\n",
    "  #\"C\": np.logspace(-4, 4, 20),\n",
    "  #\"solver\": [\"liblinear\"]\n",
    "#}\n",
    "\n",
    "#cv = GridSearchCV(clfLR,parameters,cv=5)\n",
    "#cv.fit(X_train, y_train.ravel())\n",
    "\n",
    "#display(cv)\n",
    "\n",
    "clfLR.fit(X_train, y_train)\n",
    "\n",
    "y_pred = clfLR.predict(X_test)\n",
    "print(y_pred)\n",
    "\n",
    "model_evaluation(y_pred, y_test, \"LinReg TF-IDF UniBi\")"
   ]
  },
  {
   "cell_type": "markdown",
   "metadata": {},
   "source": [
    "#### Decision Tree"
   ]
  },
  {
   "cell_type": "code",
   "execution_count": null,
   "metadata": {},
   "outputs": [
    {
     "name": "stdout",
     "output_type": "stream",
     "text": [
      "['Value' 'Value' 'Value' ... 'Value' 'Value' 'Fact']\n",
      "------------------Confusion Matrix------------------\n",
      "[[  24    0  670    0    2]\n",
      " [   0   13  125    0    0]\n",
      " [  13   14 1649    0    4]\n",
      " [   1    0  271    1    1]\n",
      " [  10    2  547    1    1]]\n",
      "------------------Accuracy------------------\n",
      "0.5040310540459839\n",
      "------------------Precision------------------\n",
      "[0.5        0.44827586 0.50551809 0.5        0.125     ]\n",
      "------------------Recall------------------\n",
      "[0.03448276 0.0942029  0.98154762 0.00364964 0.00178253]\n",
      "------------------F1------------------\n",
      "[0.06451613 0.15568862 0.66734116 0.00724638 0.00351494]\n"
     ]
    }
   ],
   "source": [
    "# TODO - Decision Tree\n",
    "\n",
    "from sklearn.tree import DecisionTreeClassifier\n",
    "\n",
    "X_train, X_test, y_train, y_test = simpleSplit(tfidfUniBiModel(corpus), data_ADU.label)\n",
    "\n",
    "clfDT = DecisionTreeClassifier(max_depth=5)\n",
    "#parameters= {\n",
    "  #\"criterion\":['gini', 'entropy'],\n",
    "  #\"splitter\":['best', 'random'],\n",
    "  #\"max_depth\": [2,3,4,5, None]\n",
    "#}\n",
    "\n",
    "#cv = GridSearchCV(clfDT,parameters,cv=5)\n",
    "#cv.fit(X_train, y_train.ravel())\n",
    "\n",
    "#display(cv)\n",
    "\n",
    "clfDT.fit(X_train, y_train)\n",
    "\n",
    "y_pred = clfDT.predict(X_test)\n",
    "print(y_pred)\n",
    "\n",
    "model_evaluation(y_pred, y_test, \"DT TF-IDF UniBi\")"
   ]
  },
  {
   "cell_type": "markdown",
   "metadata": {},
   "source": [
    "#### Random Forest"
   ]
  },
  {
   "cell_type": "code",
   "execution_count": null,
   "metadata": {},
   "outputs": [
    {
     "name": "stdout",
     "output_type": "stream",
     "text": [
      "['Value' 'Value' 'Value' ... 'Value' 'Value' 'Fact']\n",
      "------------------Confusion Matrix------------------\n",
      "[[  68    0  625    1    2]\n",
      " [   0    5  133    0    0]\n",
      " [  24    4 1646    0    6]\n",
      " [   2    0  270    2    0]\n",
      " [   5    0  546    0   10]]\n",
      "------------------Accuracy------------------\n",
      "0.5168707076739325\n",
      "------------------Precision------------------\n",
      "[0.68686869 0.55555556 0.51118012 0.66666667 0.55555556]\n",
      "------------------Recall------------------\n",
      "[0.09770115 0.03623188 0.9797619  0.00729927 0.01782531]\n",
      "------------------F1------------------\n",
      "[0.17106918 0.06802721 0.67183673 0.01444043 0.03454231]\n"
     ]
    }
   ],
   "source": [
    "# TODO - Random Forest\n",
    "\n",
    "from sklearn.ensemble import RandomForestClassifier\n",
    "from sklearn.model_selection import GridSearchCV\n",
    "\n",
    "X_train, X_test, y_train, y_test = simpleSplit(tfidfUniBiModel(corpus), data_ADU.label)\n",
    "\n",
    "clfRF = RandomForestClassifier(max_depth=50)\n",
    "#parameters= {\n",
    "   #\"n_estimators\":[5,10,50,100,250],\n",
    "   #\"max_depth\":[2,4,8,16,32,None]\n",
    "#}\n",
    "\n",
    "#cv = GridSearchCV(clfRF,parameters,cv=5)\n",
    "#cv.fit(X_train, y_train.ravel())\n",
    "\n",
    "#display(cv)\n",
    "\n",
    "clfRF.fit(X_train, y_train)\n",
    "\n",
    "y_pred = clfRF.predict(X_test)\n",
    "print(y_pred)\n",
    "\n",
    "model_evaluation(y_pred, y_test, \"RF TF-IDF UniBi\")"
   ]
  },
  {
   "cell_type": "markdown",
   "metadata": {},
   "source": [
    "#### SVM"
   ]
  },
  {
   "cell_type": "code",
   "execution_count": null,
   "metadata": {},
   "outputs": [
    {
     "name": "stdout",
     "output_type": "stream",
     "text": [
      "['Fact' 'Fact' 'Value' ... 'Value' 'Value(-)' 'Fact']\n",
      "------------------Confusion Matrix------------------\n",
      "[[ 267    2  351    2   74]\n",
      " [  30    8   86    0   14]\n",
      " [ 445   10 1010    2  213]\n",
      " [  80    0  157    7   30]\n",
      " [ 179    2  278    0  102]]\n",
      "------------------Accuracy------------------\n",
      "0.41624365482233505\n",
      "------------------Precision------------------\n",
      "[0.26673327 0.36363636 0.53666312 0.63636364 0.23556582]\n",
      "------------------Recall------------------\n",
      "[0.38362069 0.05797101 0.60119048 0.02554745 0.18181818]\n",
      "------------------F1------------------\n",
      "[0.31467295 0.1        0.56709714 0.04912281 0.20523139]\n"
     ]
    }
   ],
   "source": [
    "from sklearn import svm\n",
    "\n",
    "X_train, X_test, y_train, y_test = simpleSplit(tfidfUniBiModel(corpus), data_ADU.label)\n",
    "\n",
    "clfSVC = svm.SVC(kernel=\"sigmoid\")\n",
    "\n",
    "clfSVC.fit(X_train, y_train)\n",
    "\n",
    "y_pred = clfSVC.predict(X_test)\n",
    "print(y_pred)\n",
    "\n",
    "model_evaluation(y_pred, y_test, \"SVM TF-IDF UniBi\")"
   ]
  },
  {
   "cell_type": "markdown",
   "metadata": {},
   "source": [
    "### Regularization"
   ]
  },
  {
   "cell_type": "code",
   "execution_count": null,
   "metadata": {},
   "outputs": [],
   "source": [
    "# TODO - Leonor\n",
    "\n"
   ]
  }
 ],
 "metadata": {
  "kernelspec": {
   "display_name": "Python 3",
   "language": "python",
   "name": "python3"
  },
  "language_info": {
   "codemirror_mode": {
    "name": "ipython",
    "version": 3
   },
   "file_extension": ".py",
   "mimetype": "text/x-python",
   "name": "python",
   "nbconvert_exporter": "python",
   "pygments_lexer": "ipython3",
   "version": "3.9.7"
  }
 },
 "nbformat": 4,
 "nbformat_minor": 4
}
